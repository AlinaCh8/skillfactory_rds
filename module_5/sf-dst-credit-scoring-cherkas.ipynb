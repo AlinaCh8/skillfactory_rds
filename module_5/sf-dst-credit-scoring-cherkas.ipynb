{
 "cells": [
  {
   "cell_type": "markdown",
   "metadata": {
    "papermill": {
     "duration": 0.038649,
     "end_time": "2020-11-28T18:33:45.835802",
     "exception": false,
     "start_time": "2020-11-28T18:33:45.797153",
     "status": "completed"
    },
    "tags": []
   },
   "source": [
    "# Кредитный скоринг\n",
    "\n",
    "Предоставлена информация из анкетных данных заемщиков и факт наличия дефолта.\n",
    "\n",
    "Цель: построить скоринг модель для вторичных клиентов банка, которая бы предсказывала вероятность дефолта клиента. Для этого нужно будет определить значимые параметры заемщика.\n",
    "\n",
    "Задачи:\n",
    "- провести чистку данных;\n",
    "- сделать разведку признаков;\n",
    "- визуализировать данные;\n",
    "- обучить модель;\n",
    "- оценить значимость признаков для модели;\n",
    "- получить значение ROC AUC;\n",
    "- применить регуляризацию."
   ]
  },
  {
   "cell_type": "markdown",
   "metadata": {
    "papermill": {
     "duration": 0.036696,
     "end_time": "2020-11-28T18:33:45.909230",
     "exception": false,
     "start_time": "2020-11-28T18:33:45.872534",
     "status": "completed"
    },
    "tags": []
   },
   "source": [
    "## Import"
   ]
  },
  {
   "cell_type": "code",
   "execution_count": 1,
   "metadata": {
    "_cell_guid": "79c7e3d0-c299-4dcb-8224-4455121ee9b0",
    "_uuid": "d629ff2d2480ee46fbb7e2d37f6b5fab8052498a",
    "execution": {
     "iopub.execute_input": "2020-11-28T18:33:46.002280Z",
     "iopub.status.busy": "2020-11-28T18:33:46.001570Z",
     "iopub.status.idle": "2020-11-28T18:33:49.989791Z",
     "shell.execute_reply": "2020-11-28T18:33:49.989127Z"
    },
    "papermill": {
     "duration": 4.043971,
     "end_time": "2020-11-28T18:33:49.989941",
     "exception": false,
     "start_time": "2020-11-28T18:33:45.945970",
     "status": "completed"
    },
    "tags": []
   },
   "outputs": [
    {
     "name": "stdout",
     "output_type": "stream",
     "text": [
      "/kaggle/input/sf-dst-scoring/train.csv\n",
      "/kaggle/input/sf-dst-scoring/test.csv\n",
      "/kaggle/input/sf-dst-scoring/sample_submission.csv\n"
     ]
    }
   ],
   "source": [
    "from sklearn.metrics import confusion_matrix, auc, roc_auc_score, roc_curve\n",
    "from sklearn.metrics import accuracy_score, precision_score, recall_score, f1_score\n",
    "from sklearn.ensemble import RandomForestRegressor\n",
    "from sklearn import metrics\n",
    "from sklearn.linear_model import LogisticRegression\n",
    "from sklearn.model_selection import train_test_split, GridSearchCV, cross_val_score\n",
    "from sklearn.preprocessing import LabelEncoder, OneHotEncoder, StandardScaler\n",
    "from sklearn.feature_selection import f_classif, mutual_info_classif\n",
    "from pandas import Series\n",
    "import os\n",
    "import datetime as dt\n",
    "import warnings\n",
    "import pandas as pd\n",
    "import numpy as np\n",
    "import matplotlib.pyplot as plt\n",
    "import seaborn as sns\n",
    "import missingno as msgn\n",
    "import matplotlib.ticker as ticker\n",
    "\n",
    "plt.style.use('seaborn-deep')\n",
    "sns.set_style(\"whitegrid\")\n",
    "sns.axes_style(\"whitegrid\")\n",
    "\n",
    "warnings.filterwarnings('ignore')\n",
    "\n",
    "\n",
    "for dirname, _, filenames in os.walk('/kaggle/input'):\n",
    "    for filename in filenames:\n",
    "        print(os.path.join(dirname, filename))\n",
    "\n",
    "\n",
    "%matplotlib inline\n",
    "\n",
    "# Setting the conditions for experiments.\n",
    "random_seed = 42\n",
    "pd.set_option('display.max_columns', None)\n",
    "data_directory = '/kaggle/input/sf-dst-scoring/'\n",
    "!pip freeze > requirements.txt"
   ]
  },
  {
   "cell_type": "markdown",
   "metadata": {
    "papermill": {
     "duration": 0.039117,
     "end_time": "2020-11-28T18:33:50.069913",
     "exception": false,
     "start_time": "2020-11-28T18:33:50.030796",
     "status": "completed"
    },
    "tags": []
   },
   "source": [
    "## Functions"
   ]
  },
  {
   "cell_type": "code",
   "execution_count": 2,
   "metadata": {
    "execution": {
     "iopub.execute_input": "2020-11-28T18:33:50.175255Z",
     "iopub.status.busy": "2020-11-28T18:33:50.171370Z",
     "iopub.status.idle": "2020-11-28T18:33:50.177946Z",
     "shell.execute_reply": "2020-11-28T18:33:50.178442Z"
    },
    "papermill": {
     "duration": 0.055223,
     "end_time": "2020-11-28T18:33:50.178579",
     "exception": false,
     "start_time": "2020-11-28T18:33:50.123356",
     "status": "completed"
    },
    "tags": []
   },
   "outputs": [],
   "source": [
    "# Вынесем все функции в начало\n",
    "\n",
    "def outliers_detection(col):\n",
    "    Q1, Q3 = np.percentile(col, [25, 75])\n",
    "    IQR = Q3 - Q1\n",
    "    lower_border = Q1 - (IQR * 1.5)\n",
    "    upper_border = Q3 + (IQR * 1.5)\n",
    "    # возращаем значения и индексы за пределами нижней и верхней границ\n",
    "    return col[((col > upper_border) | (col < lower_border))]\n",
    "\n",
    "def drop_outliers(data, col):\n",
    "    Q1 = col.quantile(0.25)\n",
    "    Q3 = col.quantile(0.75)\n",
    "    IQR = Q3 - Q1\n",
    "    data = data.loc[col.between(Q1 - 1.5 * IQR, Q3 + 1.5 * IQR)]\n",
    "\n",
    "    \n",
    "def get_boxplot(column):\n",
    "\n",
    "    # plot boxplots for numerical features\n",
    "\n",
    "    fig, ax = plt.subplots(figsize=(8, 6))\n",
    "    sns.boxplot(x='default',\n",
    "                y=column,\n",
    "                data=df.loc[df.loc[:, column].isin(\n",
    "                    df.loc[:, column].value_counts().index[:])],\n",
    "                ax=ax)\n",
    "    plt.xticks(rotation=45)\n",
    "    ax.set_title('Boxplot for ' + column, fontsize=16, pad=20)\n",
    "    plt.rcParams.update({'font.size': 14})\n",
    "    plt.show()"
   ]
  },
  {
   "cell_type": "code",
   "execution_count": 3,
   "metadata": {
    "execution": {
     "iopub.execute_input": "2020-11-28T18:33:50.269745Z",
     "iopub.status.busy": "2020-11-28T18:33:50.265377Z",
     "iopub.status.idle": "2020-11-28T18:33:50.272750Z",
     "shell.execute_reply": "2020-11-28T18:33:50.272231Z"
    },
    "papermill": {
     "duration": 0.054922,
     "end_time": "2020-11-28T18:33:50.272864",
     "exception": false,
     "start_time": "2020-11-28T18:33:50.217942",
     "status": "completed"
    },
    "tags": []
   },
   "outputs": [],
   "source": [
    "def confusion_matrix_plot(y_true, y_pred):\n",
    "    tn, fp, fn, tp = confusion_matrix(y_test, y_pred).ravel()\n",
    "    cf_matrix = np.array([[tp, fp], [fn, tn]])\n",
    "    group_names = ['TP', 'FP', 'FN', 'TN']\n",
    "    group_counts = ['{0:0.0f}'.format(value) for value in cf_matrix.flatten()]\n",
    "    labels = [f\"{v1}\\n{v2}\" for v1, v2 in zip(group_names, group_counts)]\n",
    "    labels = np.asarray(labels).reshape(2, 2)\n",
    "    plt.figure()\n",
    "    color_text = plt.get_cmap('PuBuGn')(0.95)\n",
    "    sns.heatmap(cf_matrix,\n",
    "                annot=labels,\n",
    "                annot_kws={\"size\": 20},\n",
    "                fmt='',\n",
    "                cmap='PuBuGn',\n",
    "                cbar=False,\n",
    "                xticklabels=['Дефолт', 'Не дефолт'],\n",
    "                yticklabels=['Дефолт', 'Не дефолт'])\n",
    "    plt.ylabel('Предсказанные значения', fontsize=15, color=color_text)\n",
    "    plt.xlabel('Реальные значения', fontsize=15, color=color_text)\n",
    "    plt.title('Матрица ошибок', fontsize=16, pad=20)\n",
    "    plt.rcParams['figure.figsize'] = (6, 6)\n",
    "    plt.show()\n",
    "\n",
    "    \n",
    "def all_metrics(y_test, y_pred, y_pred_prob):\n",
    "    result = pd.Series({\n",
    "        'accuracy': accuracy_score(y_test, y_pred),\n",
    "        'precision': precision_score(y_test, y_pred),\n",
    "        'recall': recall_score(y_test, y_pred),\n",
    "        'F1': f1_score(y_test, y_pred),\n",
    "        'ROC_AUC': roc_auc_score(y_test, y_pred_prob)\n",
    "    })\n",
    "    return result"
   ]
  },
  {
   "cell_type": "markdown",
   "metadata": {
    "papermill": {
     "duration": 0.038868,
     "end_time": "2020-11-28T18:33:50.350107",
     "exception": false,
     "start_time": "2020-11-28T18:33:50.311239",
     "status": "completed"
    },
    "tags": []
   },
   "source": [
    "## Data"
   ]
  },
  {
   "cell_type": "code",
   "execution_count": 4,
   "metadata": {
    "execution": {
     "iopub.execute_input": "2020-11-28T18:33:50.434463Z",
     "iopub.status.busy": "2020-11-28T18:33:50.433754Z",
     "iopub.status.idle": "2020-11-28T18:33:50.731189Z",
     "shell.execute_reply": "2020-11-28T18:33:50.730590Z"
    },
    "papermill": {
     "duration": 0.343131,
     "end_time": "2020-11-28T18:33:50.731326",
     "exception": false,
     "start_time": "2020-11-28T18:33:50.388195",
     "status": "completed"
    },
    "tags": []
   },
   "outputs": [],
   "source": [
    "# Загрузим данные\n",
    "data_directory = '/kaggle/input/sf-dst-scoring/'\n",
    "df_train = pd.read_csv(data_directory+'train.csv')\n",
    "df_test = pd.read_csv(data_directory+'test.csv')\n",
    "sample_submission = pd.read_csv(data_directory+'/sample_submission.csv')\n",
    "\n",
    "# Для корректной обработки признаков объединяем трейн и тест в один датасет\n",
    "df_train['Train'] = 1 # помечаем где у нас трейн\n",
    "df_test['Train'] = 0 # помечаем где у нас тест\n",
    "\n",
    "df = df_train.append(df_test, sort=False).reset_index(drop=True) # объединяем"
   ]
  },
  {
   "cell_type": "markdown",
   "metadata": {
    "papermill": {
     "duration": 0.039064,
     "end_time": "2020-11-28T18:33:50.809526",
     "exception": false,
     "start_time": "2020-11-28T18:33:50.770462",
     "status": "completed"
    },
    "tags": []
   },
   "source": [
    "## EDA"
   ]
  },
  {
   "cell_type": "code",
   "execution_count": 5,
   "metadata": {
    "execution": {
     "iopub.execute_input": "2020-11-28T18:33:50.894746Z",
     "iopub.status.busy": "2020-11-28T18:33:50.890991Z",
     "iopub.status.idle": "2020-11-28T18:33:50.953572Z",
     "shell.execute_reply": "2020-11-28T18:33:50.952905Z"
    },
    "papermill": {
     "duration": 0.105368,
     "end_time": "2020-11-28T18:33:50.953694",
     "exception": false,
     "start_time": "2020-11-28T18:33:50.848326",
     "status": "completed"
    },
    "tags": []
   },
   "outputs": [
    {
     "data": {
      "text/html": [
       "<div>\n",
       "<style scoped>\n",
       "    .dataframe tbody tr th:only-of-type {\n",
       "        vertical-align: middle;\n",
       "    }\n",
       "\n",
       "    .dataframe tbody tr th {\n",
       "        vertical-align: top;\n",
       "    }\n",
       "\n",
       "    .dataframe thead th {\n",
       "        text-align: right;\n",
       "    }\n",
       "</style>\n",
       "<table border=\"1\" class=\"dataframe\">\n",
       "  <thead>\n",
       "    <tr style=\"text-align: right;\">\n",
       "      <th></th>\n",
       "      <th>client_id</th>\n",
       "      <th>app_date</th>\n",
       "      <th>education</th>\n",
       "      <th>sex</th>\n",
       "      <th>age</th>\n",
       "      <th>car</th>\n",
       "      <th>car_type</th>\n",
       "      <th>decline_app_cnt</th>\n",
       "      <th>good_work</th>\n",
       "      <th>score_bki</th>\n",
       "      <th>bki_request_cnt</th>\n",
       "      <th>region_rating</th>\n",
       "      <th>home_address</th>\n",
       "      <th>work_address</th>\n",
       "      <th>income</th>\n",
       "      <th>sna</th>\n",
       "      <th>first_time</th>\n",
       "      <th>foreign_passport</th>\n",
       "      <th>default</th>\n",
       "      <th>Train</th>\n",
       "    </tr>\n",
       "  </thead>\n",
       "  <tbody>\n",
       "    <tr>\n",
       "      <th>31484</th>\n",
       "      <td>1399</td>\n",
       "      <td>05JAN2014</td>\n",
       "      <td>UGR</td>\n",
       "      <td>F</td>\n",
       "      <td>23</td>\n",
       "      <td>N</td>\n",
       "      <td>N</td>\n",
       "      <td>5</td>\n",
       "      <td>0</td>\n",
       "      <td>-0.895746</td>\n",
       "      <td>0</td>\n",
       "      <td>50</td>\n",
       "      <td>2</td>\n",
       "      <td>3</td>\n",
       "      <td>20000</td>\n",
       "      <td>1</td>\n",
       "      <td>3</td>\n",
       "      <td>N</td>\n",
       "      <td>1.0</td>\n",
       "      <td>1</td>\n",
       "    </tr>\n",
       "    <tr>\n",
       "      <th>57832</th>\n",
       "      <td>6409</td>\n",
       "      <td>13JAN2014</td>\n",
       "      <td>UGR</td>\n",
       "      <td>F</td>\n",
       "      <td>31</td>\n",
       "      <td>N</td>\n",
       "      <td>N</td>\n",
       "      <td>0</td>\n",
       "      <td>0</td>\n",
       "      <td>-1.190518</td>\n",
       "      <td>3</td>\n",
       "      <td>80</td>\n",
       "      <td>2</td>\n",
       "      <td>3</td>\n",
       "      <td>50000</td>\n",
       "      <td>1</td>\n",
       "      <td>4</td>\n",
       "      <td>Y</td>\n",
       "      <td>0.0</td>\n",
       "      <td>1</td>\n",
       "    </tr>\n",
       "    <tr>\n",
       "      <th>53705</th>\n",
       "      <td>49593</td>\n",
       "      <td>26FEB2014</td>\n",
       "      <td>SCH</td>\n",
       "      <td>F</td>\n",
       "      <td>49</td>\n",
       "      <td>N</td>\n",
       "      <td>N</td>\n",
       "      <td>1</td>\n",
       "      <td>1</td>\n",
       "      <td>-1.449623</td>\n",
       "      <td>5</td>\n",
       "      <td>80</td>\n",
       "      <td>2</td>\n",
       "      <td>3</td>\n",
       "      <td>40000</td>\n",
       "      <td>1</td>\n",
       "      <td>3</td>\n",
       "      <td>N</td>\n",
       "      <td>1.0</td>\n",
       "      <td>1</td>\n",
       "    </tr>\n",
       "  </tbody>\n",
       "</table>\n",
       "</div>"
      ],
      "text/plain": [
       "       client_id   app_date education sex  age car car_type  decline_app_cnt  \\\n",
       "31484       1399  05JAN2014       UGR   F   23   N        N                5   \n",
       "57832       6409  13JAN2014       UGR   F   31   N        N                0   \n",
       "53705      49593  26FEB2014       SCH   F   49   N        N                1   \n",
       "\n",
       "       good_work  score_bki  bki_request_cnt  region_rating  home_address  \\\n",
       "31484          0  -0.895746                0             50             2   \n",
       "57832          0  -1.190518                3             80             2   \n",
       "53705          1  -1.449623                5             80             2   \n",
       "\n",
       "       work_address  income  sna  first_time foreign_passport  default  Train  \n",
       "31484             3   20000    1           3                N      1.0      1  \n",
       "57832             3   50000    1           4                Y      0.0      1  \n",
       "53705             3   40000    1           3                N      1.0      1  "
      ]
     },
     "execution_count": 5,
     "metadata": {},
     "output_type": "execute_result"
    }
   ],
   "source": [
    "# Посмотрим на три случайные записи\n",
    "df.sample(3)"
   ]
  },
  {
   "cell_type": "code",
   "execution_count": 6,
   "metadata": {
    "execution": {
     "iopub.execute_input": "2020-11-28T18:33:51.038921Z",
     "iopub.status.busy": "2020-11-28T18:33:51.038241Z",
     "iopub.status.idle": "2020-11-28T18:33:51.082638Z",
     "shell.execute_reply": "2020-11-28T18:33:51.081758Z"
    },
    "papermill": {
     "duration": 0.088711,
     "end_time": "2020-11-28T18:33:51.082802",
     "exception": false,
     "start_time": "2020-11-28T18:33:50.994091",
     "status": "completed"
    },
    "tags": []
   },
   "outputs": [
    {
     "name": "stdout",
     "output_type": "stream",
     "text": [
      "<class 'pandas.core.frame.DataFrame'>\n",
      "RangeIndex: 110148 entries, 0 to 110147\n",
      "Data columns (total 20 columns):\n",
      " #   Column            Non-Null Count   Dtype  \n",
      "---  ------            --------------   -----  \n",
      " 0   client_id         110148 non-null  int64  \n",
      " 1   app_date          110148 non-null  object \n",
      " 2   education         109670 non-null  object \n",
      " 3   sex               110148 non-null  object \n",
      " 4   age               110148 non-null  int64  \n",
      " 5   car               110148 non-null  object \n",
      " 6   car_type          110148 non-null  object \n",
      " 7   decline_app_cnt   110148 non-null  int64  \n",
      " 8   good_work         110148 non-null  int64  \n",
      " 9   score_bki         110148 non-null  float64\n",
      " 10  bki_request_cnt   110148 non-null  int64  \n",
      " 11  region_rating     110148 non-null  int64  \n",
      " 12  home_address      110148 non-null  int64  \n",
      " 13  work_address      110148 non-null  int64  \n",
      " 14  income            110148 non-null  int64  \n",
      " 15  sna               110148 non-null  int64  \n",
      " 16  first_time        110148 non-null  int64  \n",
      " 17  foreign_passport  110148 non-null  object \n",
      " 18  default           73799 non-null   float64\n",
      " 19  Train             110148 non-null  int64  \n",
      "dtypes: float64(2), int64(12), object(6)\n",
      "memory usage: 16.8+ MB\n"
     ]
    }
   ],
   "source": [
    "# посмотрим на типы данных\n",
    "df.info()"
   ]
  },
  {
   "cell_type": "code",
   "execution_count": 7,
   "metadata": {
    "execution": {
     "iopub.execute_input": "2020-11-28T18:33:51.167752Z",
     "iopub.status.busy": "2020-11-28T18:33:51.166999Z",
     "iopub.status.idle": "2020-11-28T18:33:52.267491Z",
     "shell.execute_reply": "2020-11-28T18:33:52.266801Z"
    },
    "papermill": {
     "duration": 1.145008,
     "end_time": "2020-11-28T18:33:52.267679",
     "exception": false,
     "start_time": "2020-11-28T18:33:51.122671",
     "status": "completed"
    },
    "tags": []
   },
   "outputs": [
    {
     "data": {
      "image/png": "[encoded data removed]",
      "text/plain": [
       "<Figure size 1800x720 with 2 Axes>"
      ]
     },
     "metadata": {
      "needs_background": "light"
     },
     "output_type": "display_data"
    }
   ],
   "source": [
    "# Отобразим имеющиеся пропуски\n",
    "msgn.matrix(df, color=(0.25, 0.4, 0.6))\n",
    "plt.show()"
   ]
  },
  {
   "cell_type": "code",
   "execution_count": 8,
   "metadata": {
    "execution": {
     "iopub.execute_input": "2020-11-28T18:33:52.369854Z",
     "iopub.status.busy": "2020-11-28T18:33:52.364733Z",
     "iopub.status.idle": "2020-11-28T18:33:52.710153Z",
     "shell.execute_reply": "2020-11-28T18:33:52.709368Z"
    },
    "papermill": {
     "duration": 0.400224,
     "end_time": "2020-11-28T18:33:52.710339",
     "exception": false,
     "start_time": "2020-11-28T18:33:52.310115",
     "status": "completed"
    },
    "tags": []
   },
   "outputs": [
    {
     "name": "stdout",
     "output_type": "stream",
     "text": [
      "client_id - 0.0%\n",
      "app_date - 0.0%\n",
      "education - 0.0%\n",
      "sex - 0.0%\n",
      "age - 0.0%\n",
      "car - 0.0%\n",
      "car_type - 0.0%\n",
      "decline_app_cnt - 0.0%\n",
      "good_work - 0.0%\n",
      "score_bki - 0.0%\n",
      "bki_request_cnt - 0.0%\n",
      "region_rating - 0.0%\n",
      "home_address - 0.0%\n",
      "work_address - 0.0%\n",
      "income - 0.0%\n",
      "sna - 0.0%\n",
      "first_time - 0.0%\n",
      "foreign_passport - 0.0%\n",
      "default - 33.0%\n",
      "Train - 0.0%\n",
      "\n",
      "Column Name: client_id\n",
      "1         1\n",
      "2         1\n",
      "3         1\n",
      "4         1\n",
      "5         1\n",
      "         ..\n",
      "110144    1\n",
      "110145    1\n",
      "110146    1\n",
      "110147    1\n",
      "110148    1\n",
      "Name: client_id, Length: 110148, dtype: int64\n",
      "\n",
      "Column Name: app_date\n",
      "01APR2014    1239\n",
      "01FEB2014     794\n",
      "01JAN2014      56\n",
      "01MAR2014     848\n",
      "02APR2014    1291\n",
      "             ... \n",
      "30APR2014     865\n",
      "30JAN2014    1187\n",
      "30MAR2014     722\n",
      "31JAN2014    1216\n",
      "31MAR2014    1317\n",
      "Name: app_date, Length: 120, dtype: int64\n",
      "\n",
      "Column Name: education\n",
      "ACD      291\n",
      "GRD    34768\n",
      "PGR     1865\n",
      "SCH    57998\n",
      "UGR    14748\n",
      "Name: education, dtype: int64\n",
      "\n",
      "Column Name: sex\n",
      "F    61836\n",
      "M    48312\n",
      "Name: sex, dtype: int64\n",
      "\n",
      "Column Name: age\n",
      "21    1262\n",
      "22    1415\n",
      "23    2295\n",
      "24    2780\n",
      "25    3292\n",
      "26    3780\n",
      "27    3964\n",
      "28    4035\n",
      "29    3940\n",
      "30    4035\n",
      "31    4084\n",
      "32    3773\n",
      "33    3499\n",
      "34    3548\n",
      "35    3386\n",
      "36    3228\n",
      "37    3185\n",
      "38    3070\n",
      "39    3095\n",
      "40    2950\n",
      "41    2804\n",
      "42    2857\n",
      "43    2672\n",
      "44    2536\n",
      "45    2235\n",
      "46    2102\n",
      "47    2074\n",
      "48    2084\n",
      "49    1964\n",
      "50    2104\n",
      "51    2015\n",
      "52    2065\n",
      "53    1980\n",
      "54    1911\n",
      "55    1837\n",
      "56    1641\n",
      "57    1578\n",
      "58    1373\n",
      "59    1340\n",
      "60    1236\n",
      "61     975\n",
      "62     885\n",
      "63     720\n",
      "64     663\n",
      "65     618\n",
      "66     442\n",
      "67     382\n",
      "68     261\n",
      "69     110\n",
      "70      60\n",
      "71       6\n",
      "72       2\n",
      "Name: age, dtype: int64\n",
      "\n",
      "Column Name: car\n",
      "N    74290\n",
      "Y    35858\n",
      "Name: car, dtype: int64\n",
      "\n",
      "Column Name: car_type\n",
      "N    89140\n",
      "Y    21008\n",
      "Name: car_type, dtype: int64\n",
      "\n",
      "Column Name: decline_app_cnt\n",
      "0     91471\n",
      "1     12500\n",
      "2      3622\n",
      "3      1365\n",
      "4       606\n",
      "5       255\n",
      "6       156\n",
      "7        58\n",
      "8        37\n",
      "9        29\n",
      "10       16\n",
      "11       10\n",
      "12        5\n",
      "13        4\n",
      "14        3\n",
      "15        1\n",
      "16        3\n",
      "19        1\n",
      "20        1\n",
      "21        1\n",
      "22        1\n",
      "24        1\n",
      "30        1\n",
      "33        1\n",
      "Name: decline_app_cnt, dtype: int64\n",
      "\n",
      "Column Name: good_work\n",
      "0    91917\n",
      "1    18231\n",
      "Name: good_work, dtype: int64\n",
      "\n",
      "Column Name: score_bki\n",
      "-3.624586    1\n",
      "-3.597981    1\n",
      "-3.582587    1\n",
      "-3.574197    1\n",
      "-3.564224    1\n",
      "            ..\n",
      " 0.168549    1\n",
      " 0.183613    1\n",
      " 0.188820    1\n",
      " 0.198070    1\n",
      " 0.199773    2\n",
      "Name: score_bki, Length: 102618, dtype: int64\n",
      "\n",
      "Column Name: bki_request_cnt\n",
      "0     28908\n",
      "1     27295\n",
      "2     20481\n",
      "3     13670\n",
      "4      8406\n",
      "5      4960\n",
      "6      2500\n",
      "7      1292\n",
      "8       735\n",
      "9       459\n",
      "10      350\n",
      "11      278\n",
      "12      217\n",
      "13      151\n",
      "14      110\n",
      "15       81\n",
      "16       58\n",
      "17       33\n",
      "18       32\n",
      "19       30\n",
      "20       14\n",
      "21       19\n",
      "22        8\n",
      "23       12\n",
      "24       12\n",
      "25        5\n",
      "26        4\n",
      "27        5\n",
      "28        5\n",
      "29        3\n",
      "32        4\n",
      "33        2\n",
      "34        1\n",
      "36        1\n",
      "40        2\n",
      "41        1\n",
      "45        1\n",
      "46        1\n",
      "47        1\n",
      "53        1\n",
      "Name: bki_request_cnt, dtype: int64\n",
      "\n",
      "Column Name: region_rating\n",
      "20      313\n",
      "30      434\n",
      "40    17947\n",
      "50    40981\n",
      "60    23999\n",
      "70     9304\n",
      "80    17170\n",
      "Name: region_rating, dtype: int64\n",
      "\n",
      "Column Name: home_address\n",
      "1    48688\n",
      "2    59591\n",
      "3     1869\n",
      "Name: home_address, dtype: int64\n",
      "\n",
      "Column Name: work_address\n",
      "1    12274\n",
      "2    30761\n",
      "3    67113\n",
      "Name: work_address, dtype: int64\n",
      "\n",
      "Column Name: income\n",
      "1000        6\n",
      "1100        1\n",
      "1200        1\n",
      "1500        2\n",
      "1700        1\n",
      "           ..\n",
      "950000      4\n",
      "990000      1\n",
      "999000      2\n",
      "999999      4\n",
      "1000000    13\n",
      "Name: income, Length: 1207, dtype: int64\n",
      "\n",
      "Column Name: sna\n",
      "1    70681\n",
      "2    15832\n",
      "3     6154\n",
      "4    17481\n",
      "Name: sna, dtype: int64\n",
      "\n",
      "Column Name: first_time\n",
      "1    18296\n",
      "2    17247\n",
      "3    46588\n",
      "4    28017\n",
      "Name: first_time, dtype: int64\n",
      "\n",
      "Column Name: foreign_passport\n",
      "N    93721\n",
      "Y    16427\n",
      "Name: foreign_passport, dtype: int64\n",
      "\n",
      "Column Name: default\n",
      "0.0    64427\n",
      "1.0     9372\n",
      "Name: default, dtype: int64\n",
      "\n",
      "Column Name: Train\n",
      "0    36349\n",
      "1    73799\n",
      "Name: Train, dtype: int64\n",
      "Размерность тренировочного датасета:  (73799, 20) \n",
      "\n",
      "Размерность тестовго датасета:  (36349, 19)\n",
      "[25905 63161 25887 ... 81852  1971 69044]\n",
      "['01FEB2014' '12MAR2014' '23JAN2014' '18APR2014' '18FEB2014' '04FEB2014'\n",
      " '17MAR2014' '14FEB2014' '10JAN2014' '03FEB2014' '08APR2014' '08JAN2014'\n",
      " '19MAR2014' '22JAN2014' '30JAN2014' '11MAR2014' '02FEB2014' '14APR2014'\n",
      " '06JAN2014' '24MAR2014' '15APR2014' '28FEB2014' '11FEB2014' '30MAR2014'\n",
      " '23MAR2014' '09MAR2014' '02MAR2014' '31JAN2014' '14MAR2014' '26JAN2014'\n",
      " '03APR2014' '22MAR2014' '11JAN2014' '17FEB2014' '13FEB2014' '17APR2014'\n",
      " '25FEB2014' '10APR2014' '01APR2014' '21APR2014' '20MAR2014' '03MAR2014'\n",
      " '25MAR2014' '24FEB2014' '16APR2014' '27FEB2014' '18MAR2014' '19FEB2014'\n",
      " '20FEB2014' '31MAR2014' '04MAR2014' '25JAN2014' '07JAN2014' '07MAR2014'\n",
      " '26MAR2014' '05FEB2014' '06MAR2014' '08FEB2014' '21JAN2014' '13MAR2014'\n",
      " '09JAN2014' '07FEB2014' '29JAN2014' '27JAN2014' '15FEB2014' '29APR2014'\n",
      " '04APR2014' '16JAN2014' '07APR2014' '13JAN2014' '21MAR2014' '24JAN2014'\n",
      " '27MAR2014' '09FEB2014' '06FEB2014' '22FEB2014' '28JAN2014' '28APR2014'\n",
      " '10FEB2014' '05JAN2014' '15MAR2014' '14JAN2014' '20JAN2014' '18JAN2014'\n",
      " '15JAN2014' '01MAR2014' '06APR2014' '26APR2014' '04JAN2014' '26FEB2014'\n",
      " '30APR2014' '05APR2014' '29MAR2014' '19APR2014' '03JAN2014' '05MAR2014'\n",
      " '02APR2014' '27APR2014' '21FEB2014' '19JAN2014' '12JAN2014' '09APR2014'\n",
      " '22APR2014' '16MAR2014' '13APR2014' '17JAN2014' '11APR2014' '20APR2014'\n",
      " '12FEB2014' '23APR2014' '25APR2014' '12APR2014' '08MAR2014' '10MAR2014'\n",
      " '24APR2014' '02JAN2014' '28MAR2014' '16FEB2014' '23FEB2014' '01JAN2014']\n",
      "['SCH' 'GRD' 'UGR' 'PGR' 'ACD' nan]\n",
      "['M' 'F']\n",
      "[62 59 25 53 48 27 39 50 54 29 32 30 23 37 36 41 28 58 26 45 44 43 56 40\n",
      " 34 33 67 38 46 42 35 24 61 21 52 55 49 57 31 64 63 51 22 65 47 66 68 60\n",
      " 69 70 72 71]\n",
      "['Y' 'N']\n",
      "['Y' 'N']\n",
      "[ 0  2  1  3  4  6  5  7  8  9 13 11 19 10 22 33 14 12 15 24 16 21 30 20]\n",
      "[0 1]\n",
      "[-2.00875292 -1.53227621 -1.40814226 ... -0.94075193 -1.24239173\n",
      " -1.50754938]\n",
      "[ 1  3  2  0  4  7  5  8  6 13 10 22 12 11 34  9 16 14 26 21 18 24 15 19\n",
      " 32 17 20 23 27 36 53 25 45 33 28 41 29 46 47 40]\n",
      "[50 80 60 40 70 20 30]\n",
      "[1 2 3]\n",
      "[2 3 1]\n",
      "[ 18000  19000  30000 ...   7350 274000   6020]\n",
      "[4 1 2 3]\n",
      "[1 4 3 2]\n",
      "['N' 'Y']\n",
      "[ 0.  1. nan]\n",
      "[1 0]\n"
     ]
    }
   ],
   "source": [
    "# Получим процентный список пропущенных значений\n",
    "for col in df.columns:\n",
    "    pct_missing = np.mean(df[col].isnull())\n",
    "    print('{} - {}%'.format(col, round(pct_missing * 100)))\n",
    "    \n",
    "# Подсчет значений для категориальных столбцов (просмотр уникальных значений)\n",
    "for col in df.columns:\n",
    "    print('\\nColumn Name:', col,)\n",
    "    print(df[col].value_counts().sort_index())\n",
    "\n",
    "print('Размерность тренировочного датасета: ', df_train.shape, '\\n')\n",
    "print('Размерность тестовго датасета: ', df_test.shape)\n",
    "\n",
    "for i in df.columns:\n",
    "    print(df[i].unique())"
   ]
  },
  {
   "cell_type": "markdown",
   "metadata": {
    "papermill": {
     "duration": 0.043492,
     "end_time": "2020-11-28T18:33:52.797602",
     "exception": false,
     "start_time": "2020-11-28T18:33:52.754110",
     "status": "completed"
    },
    "tags": []
   },
   "source": [
    "# Описание\n",
    "\n",
    "Мы имеем 73799 записей в тренировочных данных и 36349 - в тестовых.  \n",
    "Всего 18 нецелевых признаков: \n",
    "- client_id - идентификатор клиента  \n",
    "- education - уровень образования  \n",
    "- sex - пол заемщика  \n",
    "- age - возраст заемщика  \n",
    "- car - флаг наличия автомобиля  \n",
    "- car_type - флаг автомобиля иномарки  \n",
    "- decline_app_cnt - количество отказанных прошлых заявок  \n",
    "- good_work - флаг наличия “хорошей” работы  \n",
    "- bki_request_cnt - количество запросов в БКИ  \n",
    "- home_address - категоризатор домашнего адреса  \n",
    "- work_address - категоризатор рабочего адреса  \n",
    "- income - доход заемщика  \n",
    "- foreign_passport - наличие загранпаспорта  \n",
    "- sna - связь заемщика с клиентами банка  \n",
    "- first_time - давность наличия информации о заемщике  \n",
    "- score_bki - скоринговый балл по данным из БКИ  \n",
    "- region_rating - рейтинг региона  \n",
    "- app_date - дата подачи заявки  \n",
    "\n",
    "Целевой признак «default» - флаг дефолта по кредиту, имеется только для тренировочных данных и в них не имеет пропусков.\n",
    "\n",
    "Пропуски имеются только у признака «education» - %.\n",
    "\n",
    "### Бинарные переменные:\n",
    "- sex ('M', 'F')\n",
    "- car ('Y', 'N')\n",
    "- car_type ('Y', 'N')\n",
    "- foreign_passport ('N', 'Y')\n",
    "- good_work\n",
    "\n",
    "### Категориальные переменные:\n",
    "- education ('SCH', 'GRD', 'UGR', 'PGR', 'ACD')\n",
    "- work_address\n",
    "- home_address\n",
    "- sna\n",
    "- first_time\n",
    "- region_rating\n",
    "- app_date (содержит в себе дату обращения, все записи за 2014 год с января по апрель)\n",
    "\n",
    "### Числовые переменные:\n",
    "- age\n",
    "- decline_app_cnt\n",
    "- income\n",
    "- bki_request_cnt\n",
    "- score_bki"
   ]
  },
  {
   "cell_type": "code",
   "execution_count": 9,
   "metadata": {
    "execution": {
     "iopub.execute_input": "2020-11-28T18:33:52.894641Z",
     "iopub.status.busy": "2020-11-28T18:33:52.893178Z",
     "iopub.status.idle": "2020-11-28T18:33:52.897598Z",
     "shell.execute_reply": "2020-11-28T18:33:52.896968Z"
    },
    "papermill": {
     "duration": 0.056539,
     "end_time": "2020-11-28T18:33:52.897715",
     "exception": false,
     "start_time": "2020-11-28T18:33:52.841176",
     "status": "completed"
    },
    "tags": []
   },
   "outputs": [],
   "source": [
    "# Creating a new feature.\n",
    "df['education_nan'] = pd.isna(df['education']).astype('uint8')"
   ]
  },
  {
   "cell_type": "code",
   "execution_count": 10,
   "metadata": {
    "execution": {
     "iopub.execute_input": "2020-11-28T18:33:53.000820Z",
     "iopub.status.busy": "2020-11-28T18:33:53.000061Z",
     "iopub.status.idle": "2020-11-28T18:33:53.039408Z",
     "shell.execute_reply": "2020-11-28T18:33:53.038758Z"
    },
    "papermill": {
     "duration": 0.099364,
     "end_time": "2020-11-28T18:33:53.039552",
     "exception": false,
     "start_time": "2020-11-28T18:33:52.940188",
     "status": "completed"
    },
    "tags": []
   },
   "outputs": [],
   "source": [
    "# заменим пропуски\n",
    "df.education = df.education.fillna(df.education.describe()['top'])"
   ]
  },
  {
   "cell_type": "code",
   "execution_count": 11,
   "metadata": {
    "execution": {
     "iopub.execute_input": "2020-11-28T18:33:53.133942Z",
     "iopub.status.busy": "2020-11-28T18:33:53.132977Z",
     "iopub.status.idle": "2020-11-28T18:33:53.206650Z",
     "shell.execute_reply": "2020-11-28T18:33:53.205972Z"
    },
    "papermill": {
     "duration": 0.124378,
     "end_time": "2020-11-28T18:33:53.206765",
     "exception": false,
     "start_time": "2020-11-28T18:33:53.082387",
     "status": "completed"
    },
    "tags": []
   },
   "outputs": [
    {
     "data": {
      "text/plain": [
       "count     110148\n",
       "unique    110148\n",
       "top       110148\n",
       "freq           1\n",
       "Name: client_id, dtype: int64"
      ]
     },
     "execution_count": 11,
     "metadata": {},
     "output_type": "execute_result"
    }
   ],
   "source": [
    "# Посмотрим на признак client_id\n",
    "df.client_id.astype('object').describe(include = 'object')"
   ]
  },
  {
   "cell_type": "markdown",
   "metadata": {
    "papermill": {
     "duration": 0.044544,
     "end_time": "2020-11-28T18:33:53.294828",
     "exception": false,
     "start_time": "2020-11-28T18:33:53.250284",
     "status": "completed"
    },
    "tags": []
   },
   "source": [
    "Признак «client_id» - уникальный идентификатор клиента, не повторяется. Смысловой нагрузки не несет, его можно не использовать."
   ]
  },
  {
   "cell_type": "code",
   "execution_count": 12,
   "metadata": {
    "execution": {
     "iopub.execute_input": "2020-11-28T18:33:53.390770Z",
     "iopub.status.busy": "2020-11-28T18:33:53.389764Z",
     "iopub.status.idle": "2020-11-28T18:33:53.479794Z",
     "shell.execute_reply": "2020-11-28T18:33:53.480390Z"
    },
    "papermill": {
     "duration": 0.14072,
     "end_time": "2020-11-28T18:33:53.480528",
     "exception": false,
     "start_time": "2020-11-28T18:33:53.339808",
     "status": "completed"
    },
    "tags": []
   },
   "outputs": [
    {
     "data": {
      "image/png": "[encoded data removed]",
      "text/plain": [
       "<Figure size 432x288 with 1 Axes>"
      ]
     },
     "metadata": {},
     "output_type": "display_data"
    }
   ],
   "source": [
    "# Посмотрим на соотношение добросовестных и дефолтных клиентов банка\n",
    "df['default'].value_counts().plot(kind='pie',\n",
    "                                        autopct='%1.0f%%',\n",
    "                                        fontsize=16)\n",
    "\n",
    "plt.title('''Распределение добросовестных (0) и\n",
    " дефолтных (1) клиентов банка''',\n",
    "          fontsize=16)\n",
    "plt.ylabel(None)\n",
    "plt.show()\n",
    "plt.rcParams[\"figure.figsize\"] = [10, 8]"
   ]
  },
  {
   "cell_type": "markdown",
   "metadata": {
    "papermill": {
     "duration": 0.043136,
     "end_time": "2020-11-28T18:33:53.567173",
     "exception": false,
     "start_time": "2020-11-28T18:33:53.524037",
     "status": "completed"
    },
    "tags": []
   },
   "source": [
    "Из графика следует, что классы несбалансированы - дефолтов меньше, чем возвращенных кредитов.\n",
    "\n",
    "Визуализируем распределения параметров, чтобы понять, имеют ли дефолтные кредиты отличающееся распределение."
   ]
  },
  {
   "cell_type": "code",
   "execution_count": 13,
   "metadata": {
    "execution": {
     "iopub.execute_input": "2020-11-28T18:33:53.660994Z",
     "iopub.status.busy": "2020-11-28T18:33:53.660179Z",
     "iopub.status.idle": "2020-11-28T18:33:53.662618Z",
     "shell.execute_reply": "2020-11-28T18:33:53.663051Z"
    },
    "papermill": {
     "duration": 0.052083,
     "end_time": "2020-11-28T18:33:53.663188",
     "exception": false,
     "start_time": "2020-11-28T18:33:53.611105",
     "status": "completed"
    },
    "tags": []
   },
   "outputs": [],
   "source": [
    "# Выделим признаки по типу\n",
    "cat_cols = ['education', 'region_rating', 'home_address', 'work_address', 'sna',\n",
    "            'first_time']\n",
    "bin_cols = ['sex', 'car', 'car_type', 'good_work', 'foreign_passport']\n",
    "num_cols = ['age', 'decline_app_cnt', 'score_bki', 'bki_request_cnt', 'income']"
   ]
  },
  {
   "cell_type": "code",
   "execution_count": 14,
   "metadata": {
    "execution": {
     "iopub.execute_input": "2020-11-28T18:33:53.772508Z",
     "iopub.status.busy": "2020-11-28T18:33:53.767056Z",
     "iopub.status.idle": "2020-11-28T18:33:53.883952Z",
     "shell.execute_reply": "2020-11-28T18:33:53.883293Z"
    },
    "papermill": {
     "duration": 0.170613,
     "end_time": "2020-11-28T18:33:53.884070",
     "exception": false,
     "start_time": "2020-11-28T18:33:53.713457",
     "status": "completed"
    },
    "tags": []
   },
   "outputs": [
    {
     "data": {
      "text/html": [
       "<div>\n",
       "<style scoped>\n",
       "    .dataframe tbody tr th:only-of-type {\n",
       "        vertical-align: middle;\n",
       "    }\n",
       "\n",
       "    .dataframe tbody tr th {\n",
       "        vertical-align: top;\n",
       "    }\n",
       "\n",
       "    .dataframe thead th {\n",
       "        text-align: right;\n",
       "    }\n",
       "</style>\n",
       "<table border=\"1\" class=\"dataframe\">\n",
       "  <thead>\n",
       "    <tr style=\"text-align: right;\">\n",
       "      <th></th>\n",
       "      <th>client_id</th>\n",
       "      <th>app_date</th>\n",
       "      <th>education</th>\n",
       "      <th>sex</th>\n",
       "      <th>age</th>\n",
       "      <th>car</th>\n",
       "      <th>car_type</th>\n",
       "      <th>decline_app_cnt</th>\n",
       "      <th>good_work</th>\n",
       "      <th>score_bki</th>\n",
       "      <th>bki_request_cnt</th>\n",
       "      <th>region_rating</th>\n",
       "      <th>home_address</th>\n",
       "      <th>work_address</th>\n",
       "      <th>income</th>\n",
       "      <th>sna</th>\n",
       "      <th>first_time</th>\n",
       "      <th>foreign_passport</th>\n",
       "      <th>default</th>\n",
       "      <th>Train</th>\n",
       "      <th>education_nan</th>\n",
       "    </tr>\n",
       "  </thead>\n",
       "  <tbody>\n",
       "    <tr>\n",
       "      <th>0</th>\n",
       "      <td>25905</td>\n",
       "      <td>01FEB2014</td>\n",
       "      <td>SCH</td>\n",
       "      <td>1</td>\n",
       "      <td>62</td>\n",
       "      <td>1</td>\n",
       "      <td>1</td>\n",
       "      <td>0</td>\n",
       "      <td>0</td>\n",
       "      <td>-2.008753</td>\n",
       "      <td>1</td>\n",
       "      <td>50</td>\n",
       "      <td>1</td>\n",
       "      <td>2</td>\n",
       "      <td>18000</td>\n",
       "      <td>4</td>\n",
       "      <td>1</td>\n",
       "      <td>0</td>\n",
       "      <td>0.0</td>\n",
       "      <td>1</td>\n",
       "      <td>0</td>\n",
       "    </tr>\n",
       "    <tr>\n",
       "      <th>1</th>\n",
       "      <td>63161</td>\n",
       "      <td>12MAR2014</td>\n",
       "      <td>SCH</td>\n",
       "      <td>0</td>\n",
       "      <td>59</td>\n",
       "      <td>0</td>\n",
       "      <td>0</td>\n",
       "      <td>0</td>\n",
       "      <td>0</td>\n",
       "      <td>-1.532276</td>\n",
       "      <td>3</td>\n",
       "      <td>50</td>\n",
       "      <td>2</td>\n",
       "      <td>3</td>\n",
       "      <td>19000</td>\n",
       "      <td>4</td>\n",
       "      <td>1</td>\n",
       "      <td>0</td>\n",
       "      <td>0.0</td>\n",
       "      <td>1</td>\n",
       "      <td>0</td>\n",
       "    </tr>\n",
       "    <tr>\n",
       "      <th>2</th>\n",
       "      <td>25887</td>\n",
       "      <td>01FEB2014</td>\n",
       "      <td>SCH</td>\n",
       "      <td>1</td>\n",
       "      <td>25</td>\n",
       "      <td>1</td>\n",
       "      <td>0</td>\n",
       "      <td>2</td>\n",
       "      <td>0</td>\n",
       "      <td>-1.408142</td>\n",
       "      <td>1</td>\n",
       "      <td>80</td>\n",
       "      <td>1</td>\n",
       "      <td>2</td>\n",
       "      <td>30000</td>\n",
       "      <td>1</td>\n",
       "      <td>4</td>\n",
       "      <td>1</td>\n",
       "      <td>0.0</td>\n",
       "      <td>1</td>\n",
       "      <td>0</td>\n",
       "    </tr>\n",
       "    <tr>\n",
       "      <th>3</th>\n",
       "      <td>16222</td>\n",
       "      <td>23JAN2014</td>\n",
       "      <td>SCH</td>\n",
       "      <td>0</td>\n",
       "      <td>53</td>\n",
       "      <td>0</td>\n",
       "      <td>0</td>\n",
       "      <td>0</td>\n",
       "      <td>0</td>\n",
       "      <td>-2.057471</td>\n",
       "      <td>2</td>\n",
       "      <td>50</td>\n",
       "      <td>2</td>\n",
       "      <td>3</td>\n",
       "      <td>10000</td>\n",
       "      <td>1</td>\n",
       "      <td>3</td>\n",
       "      <td>0</td>\n",
       "      <td>0.0</td>\n",
       "      <td>1</td>\n",
       "      <td>0</td>\n",
       "    </tr>\n",
       "    <tr>\n",
       "      <th>4</th>\n",
       "      <td>101655</td>\n",
       "      <td>18APR2014</td>\n",
       "      <td>GRD</td>\n",
       "      <td>1</td>\n",
       "      <td>48</td>\n",
       "      <td>0</td>\n",
       "      <td>0</td>\n",
       "      <td>0</td>\n",
       "      <td>1</td>\n",
       "      <td>-1.244723</td>\n",
       "      <td>1</td>\n",
       "      <td>60</td>\n",
       "      <td>2</td>\n",
       "      <td>3</td>\n",
       "      <td>30000</td>\n",
       "      <td>1</td>\n",
       "      <td>4</td>\n",
       "      <td>1</td>\n",
       "      <td>0.0</td>\n",
       "      <td>1</td>\n",
       "      <td>0</td>\n",
       "    </tr>\n",
       "  </tbody>\n",
       "</table>\n",
       "</div>"
      ],
      "text/plain": [
       "   client_id   app_date education  sex  age  car  car_type  decline_app_cnt  \\\n",
       "0      25905  01FEB2014       SCH    1   62    1         1                0   \n",
       "1      63161  12MAR2014       SCH    0   59    0         0                0   \n",
       "2      25887  01FEB2014       SCH    1   25    1         0                2   \n",
       "3      16222  23JAN2014       SCH    0   53    0         0                0   \n",
       "4     101655  18APR2014       GRD    1   48    0         0                0   \n",
       "\n",
       "   good_work  score_bki  bki_request_cnt  region_rating  home_address  \\\n",
       "0          0  -2.008753                1             50             1   \n",
       "1          0  -1.532276                3             50             2   \n",
       "2          0  -1.408142                1             80             1   \n",
       "3          0  -2.057471                2             50             2   \n",
       "4          1  -1.244723                1             60             2   \n",
       "\n",
       "   work_address  income  sna  first_time  foreign_passport  default  Train  \\\n",
       "0             2   18000    4           1                 0      0.0      1   \n",
       "1             3   19000    4           1                 0      0.0      1   \n",
       "2             2   30000    1           4                 1      0.0      1   \n",
       "3             3   10000    1           3                 0      0.0      1   \n",
       "4             3   30000    1           4                 1      0.0      1   \n",
       "\n",
       "   education_nan  \n",
       "0              0  \n",
       "1              0  \n",
       "2              0  \n",
       "3              0  \n",
       "4              0  "
      ]
     },
     "execution_count": 14,
     "metadata": {},
     "output_type": "execute_result"
    }
   ],
   "source": [
    "# Для бинарных признаков используем LabelEncoder\n",
    "label_encoder = LabelEncoder()\n",
    "\n",
    "for column in bin_cols:\n",
    "    df[column] = label_encoder.fit_transform(df[column])\n",
    "    \n",
    "# убедимся в преобразовании    \n",
    "df.head()"
   ]
  },
  {
   "cell_type": "code",
   "execution_count": 15,
   "metadata": {
    "execution": {
     "iopub.execute_input": "2020-11-28T18:33:53.987082Z",
     "iopub.status.busy": "2020-11-28T18:33:53.986100Z",
     "iopub.status.idle": "2020-11-28T18:33:54.042002Z",
     "shell.execute_reply": "2020-11-28T18:33:54.041238Z"
    },
    "papermill": {
     "duration": 0.112273,
     "end_time": "2020-11-28T18:33:54.042135",
     "exception": false,
     "start_time": "2020-11-28T18:33:53.929862",
     "status": "completed"
    },
    "tags": []
   },
   "outputs": [],
   "source": [
    "# преобразуем признак «образование» в числовой признак \n",
    "edu = {\n",
    "    'SCH': 1,\n",
    "    'GRD': 2,\n",
    "    'UGR': 3,\n",
    "    'PGR': 4,\n",
    "    'ACD': 5\n",
    "}\n",
    "\n",
    "df['education'] = df['education'].replace(to_replace=edu)"
   ]
  },
  {
   "cell_type": "markdown",
   "metadata": {
    "papermill": {
     "duration": 0.045705,
     "end_time": "2020-11-28T18:33:54.133706",
     "exception": false,
     "start_time": "2020-11-28T18:33:54.088001",
     "status": "completed"
    },
    "tags": []
   },
   "source": [
    "Обработаем признак «app_date»"
   ]
  },
  {
   "cell_type": "code",
   "execution_count": 16,
   "metadata": {
    "execution": {
     "iopub.execute_input": "2020-11-28T18:33:54.234462Z",
     "iopub.status.busy": "2020-11-28T18:33:54.233802Z",
     "iopub.status.idle": "2020-11-28T18:33:54.259235Z",
     "shell.execute_reply": "2020-11-28T18:33:54.258656Z"
    },
    "papermill": {
     "duration": 0.079712,
     "end_time": "2020-11-28T18:33:54.259365",
     "exception": false,
     "start_time": "2020-11-28T18:33:54.179653",
     "status": "completed"
    },
    "tags": []
   },
   "outputs": [
    {
     "data": {
      "text/plain": [
       "76145   2014-01-24\n",
       "4234    2014-01-07\n",
       "69626   2014-01-17\n",
       "Name: app_date, dtype: datetime64[ns]"
      ]
     },
     "execution_count": 16,
     "metadata": {},
     "output_type": "execute_result"
    }
   ],
   "source": [
    "# преобразуем «app_date» в формат даты\n",
    "df['app_date'] = pd.to_datetime(df.app_date, format='%d%b%Y')\n",
    "df['app_date'].sample(3)"
   ]
  },
  {
   "cell_type": "code",
   "execution_count": 17,
   "metadata": {
    "execution": {
     "iopub.execute_input": "2020-11-28T18:33:54.392114Z",
     "iopub.status.busy": "2020-11-28T18:33:54.382191Z",
     "iopub.status.idle": "2020-11-28T18:33:54.726131Z",
     "shell.execute_reply": "2020-11-28T18:33:54.725586Z"
    },
    "papermill": {
     "duration": 0.421691,
     "end_time": "2020-11-28T18:33:54.726255",
     "exception": false,
     "start_time": "2020-11-28T18:33:54.304564",
     "status": "completed"
    },
    "tags": []
   },
   "outputs": [
    {
     "name": "stdout",
     "output_type": "stream",
     "text": [
      "Самая ранняя дата: 2014-01-01 00:00:00\n",
      "Самая поздняя дата: 2014-04-30 00:00:00\n"
     ]
    }
   ],
   "source": [
    "date_min = min(df['app_date'])\n",
    "print('Самая ранняя дата:', date_min)\n",
    "date_max = max(df['app_date'])\n",
    "print('Самая поздняя дата:', date_max)"
   ]
  },
  {
   "cell_type": "markdown",
   "metadata": {
    "papermill": {
     "duration": 0.044073,
     "end_time": "2020-11-28T18:33:54.814995",
     "exception": false,
     "start_time": "2020-11-28T18:33:54.770922",
     "status": "completed"
    },
    "tags": []
   },
   "source": [
    "Видим, что в наборе данные с января по апрель 2014 года."
   ]
  },
  {
   "cell_type": "code",
   "execution_count": 18,
   "metadata": {
    "execution": {
     "iopub.execute_input": "2020-11-28T18:33:54.909046Z",
     "iopub.status.busy": "2020-11-28T18:33:54.908367Z",
     "iopub.status.idle": "2020-11-28T18:33:54.917664Z",
     "shell.execute_reply": "2020-11-28T18:33:54.917118Z"
    },
    "papermill": {
     "duration": 0.058327,
     "end_time": "2020-11-28T18:33:54.917776",
     "exception": false,
     "start_time": "2020-11-28T18:33:54.859449",
     "status": "completed"
    },
    "tags": []
   },
   "outputs": [],
   "source": [
    "# Создадим новый признак - количество дней от 1 января\n",
    "df['date_timedelta'] = (df['app_date'] - date_min).dt.days.astype('int')\n",
    "\n",
    "# Добавим его к количественным признакам\n",
    "num_cols.append('date_timedelta')"
   ]
  },
  {
   "cell_type": "code",
   "execution_count": 19,
   "metadata": {
    "execution": {
     "iopub.execute_input": "2020-11-28T18:33:55.018136Z",
     "iopub.status.busy": "2020-11-28T18:33:55.017488Z",
     "iopub.status.idle": "2020-11-28T18:33:55.259942Z",
     "shell.execute_reply": "2020-11-28T18:33:55.259420Z"
    },
    "papermill": {
     "duration": 0.297934,
     "end_time": "2020-11-28T18:33:55.260048",
     "exception": false,
     "start_time": "2020-11-28T18:33:54.962114",
     "status": "completed"
    },
    "tags": []
   },
   "outputs": [
    {
     "data": {
      "text/plain": [
       "Text(0.5, 1.0, 'Распределение заявок по дням от начала года')"
      ]
     },
     "execution_count": 19,
     "metadata": {},
     "output_type": "execute_result"
    },
    {
     "data": {
      "image/png": "[encoded data removed]",
      "text/plain": [
       "<Figure size 576x432 with 1 Axes>"
      ]
     },
     "metadata": {
      "needs_background": "light"
     },
     "output_type": "display_data"
    }
   ],
   "source": [
    "plt.rcParams[\"figure.figsize\"] = [8, 6]\n",
    "df['date_timedelta'].hist(bins=40)\n",
    "plt.xlabel('Дни от начала года',\n",
    "          fontsize=14)\n",
    "plt.ylabel('Количество заявок',\n",
    "          fontsize=14)\n",
    "plt.xticks(np.linspace(0, 120, 5))\n",
    "plt.title('Распределение заявок по дням от начала года',\n",
    "          fontsize=16, pad = 20)"
   ]
  },
  {
   "cell_type": "markdown",
   "metadata": {
    "papermill": {
     "duration": 0.046221,
     "end_time": "2020-11-28T18:33:55.353191",
     "exception": false,
     "start_time": "2020-11-28T18:33:55.306970",
     "status": "completed"
    },
    "tags": []
   },
   "source": [
    "Визуализируем распределения параметров, чтобы понять, имеют ли дефолтные кредиты отличающееся распределение."
   ]
  },
  {
   "cell_type": "code",
   "execution_count": 20,
   "metadata": {
    "execution": {
     "iopub.execute_input": "2020-11-28T18:33:55.452881Z",
     "iopub.status.busy": "2020-11-28T18:33:55.451522Z",
     "iopub.status.idle": "2020-11-28T18:33:57.561097Z",
     "shell.execute_reply": "2020-11-28T18:33:57.560476Z"
    },
    "papermill": {
     "duration": 2.161973,
     "end_time": "2020-11-28T18:33:57.561205",
     "exception": false,
     "start_time": "2020-11-28T18:33:55.399232",
     "status": "completed"
    },
    "tags": []
   },
   "outputs": [
    {
     "data": {
      "image/png": "[encoded data removed]",
      "text/plain": [
       "<Figure size 576x432 with 1 Axes>"
      ]
     },
     "metadata": {
      "needs_background": "light"
     },
     "output_type": "display_data"
    },
    {
     "data": {
      "image/png": "[encoded data removed]",
      "text/plain": [
       "<Figure size 504x360 with 1 Axes>"
      ]
     },
     "metadata": {
      "needs_background": "light"
     },
     "output_type": "display_data"
    },
    {
     "data": {
      "image/png": "[encoded data removed]",
      "text/plain": [
       "<Figure size 504x360 with 1 Axes>"
      ]
     },
     "metadata": {
      "needs_background": "light"
     },
     "output_type": "display_data"
    },
    {
     "data": {
      "image/png": "[encoded data removed]",
      "text/plain": [
       "<Figure size 504x360 with 1 Axes>"
      ]
     },
     "metadata": {
      "needs_background": "light"
     },
     "output_type": "display_data"
    },
    {
     "data": {
      "image/png": "[encoded data removed]",
      "text/plain": [
       "<Figure size 504x360 with 1 Axes>"
      ]
     },
     "metadata": {
      "needs_background": "light"
     },
     "output_type": "display_data"
    },
    {
     "data": {
      "image/png": "[encoded data removed]",
      "text/plain": [
       "<Figure size 504x360 with 1 Axes>"
      ]
     },
     "metadata": {
      "needs_background": "light"
     },
     "output_type": "display_data"
    }
   ],
   "source": [
    "for i in num_cols:\n",
    "    plt.figure()\n",
    "    sns.distplot(df[i][df[i] > 0].dropna(), kde = False, rug=False)\n",
    "    plt.title(i, fontsize=16, pad=20)\n",
    "    plt.rcParams['figure.figsize'] = (7, 5)\n",
    "    plt.show()"
   ]
  },
  {
   "cell_type": "markdown",
   "metadata": {
    "papermill": {
     "duration": 0.049654,
     "end_time": "2020-11-28T18:33:57.661055",
     "exception": false,
     "start_time": "2020-11-28T18:33:57.611401",
     "status": "completed"
    },
    "tags": []
   },
   "source": [
    "Используем логарифмирование для всех числовых признаков, кроме «score_bki», у которого нормальное распределение."
   ]
  },
  {
   "cell_type": "code",
   "execution_count": 21,
   "metadata": {
    "execution": {
     "iopub.execute_input": "2020-11-28T18:33:57.774428Z",
     "iopub.status.busy": "2020-11-28T18:33:57.773722Z",
     "iopub.status.idle": "2020-11-28T18:33:59.203427Z",
     "shell.execute_reply": "2020-11-28T18:33:59.202857Z"
    },
    "papermill": {
     "duration": 1.488778,
     "end_time": "2020-11-28T18:33:59.203553",
     "exception": false,
     "start_time": "2020-11-28T18:33:57.714775",
     "status": "completed"
    },
    "tags": []
   },
   "outputs": [
    {
     "data": {
      "image/png": "[encoded data removed]",
      "text/plain": [
       "<Figure size 504x360 with 1 Axes>"
      ]
     },
     "metadata": {
      "needs_background": "light"
     },
     "output_type": "display_data"
    },
    {
     "data": {
      "image/png": "[encoded data removed]",
      "text/plain": [
       "<Figure size 504x360 with 1 Axes>"
      ]
     },
     "metadata": {
      "needs_background": "light"
     },
     "output_type": "display_data"
    },
    {
     "data": {
      "image/png": "[encoded data removed]",
      "text/plain": [
       "<Figure size 504x360 with 1 Axes>"
      ]
     },
     "metadata": {
      "needs_background": "light"
     },
     "output_type": "display_data"
    },
    {
     "data": {
      "image/png": "[encoded data removed]",
      "text/plain": [
       "<Figure size 504x360 with 1 Axes>"
      ]
     },
     "metadata": {
      "needs_background": "light"
     },
     "output_type": "display_data"
    }
   ],
   "source": [
    "log_num_cols = ['age', 'decline_app_cnt', 'bki_request_cnt', 'income']\n",
    "\n",
    "for i in log_num_cols:\n",
    "    df[i] = np.log(df[i] + 1) # к логарифму добавляем 1 для того,\n",
    "                              # чтобы обойти случай, когда df[i] = 0,\n",
    "                              # потому как натуральный логарифм 0 - минус бесконечность\n",
    "    plt.figure()\n",
    "    sns.distplot(df[i][df[i] > 0].dropna(),\n",
    "                 kde=False,\n",
    "                 rug=False,\n",
    "                 color='g')\n",
    "    plt.title(i, fontsize=16, pad=20)\n",
    "    plt.rcParams.update({'font.size': 16})\n",
    "    plt.rcParams['figure.figsize'] = (7, 5)\n",
    "    plt.show()"
   ]
  },
  {
   "cell_type": "markdown",
   "metadata": {
    "papermill": {
     "duration": 0.053874,
     "end_time": "2020-11-28T18:33:59.310557",
     "exception": false,
     "start_time": "2020-11-28T18:33:59.256683",
     "status": "completed"
    },
    "tags": []
   },
   "source": [
    "Значительный результат только для признака «income». Это не очень хорошо, потому что для однофакторного дисперсионный анализ (ANOVA) и t-тестов жедательно, чтобы распределение было нормальным."
   ]
  },
  {
   "cell_type": "code",
   "execution_count": 22,
   "metadata": {
    "execution": {
     "iopub.execute_input": "2020-11-28T18:33:59.428904Z",
     "iopub.status.busy": "2020-11-28T18:33:59.427695Z",
     "iopub.status.idle": "2020-11-28T18:34:00.667596Z",
     "shell.execute_reply": "2020-11-28T18:34:00.666967Z"
    },
    "papermill": {
     "duration": 1.302747,
     "end_time": "2020-11-28T18:34:00.667707",
     "exception": false,
     "start_time": "2020-11-28T18:33:59.364960",
     "status": "completed"
    },
    "tags": []
   },
   "outputs": [
    {
     "data": {
      "image/png": "[encoded data removed]",
      "text/plain": [
       "<Figure size 576x432 with 1 Axes>"
      ]
     },
     "metadata": {
      "needs_background": "light"
     },
     "output_type": "display_data"
    },
    {
     "data": {
      "image/png": "[encoded data removed]",
      "text/plain": [
       "<Figure size 576x432 with 1 Axes>"
      ]
     },
     "metadata": {
      "needs_background": "light"
     },
     "output_type": "display_data"
    },
    {
     "data": {
      "image/png": "[encoded data removed]",
      "text/plain": [
       "<Figure size 576x432 with 1 Axes>"
      ]
     },
     "metadata": {
      "needs_background": "light"
     },
     "output_type": "display_data"
    },
    {
     "data": {
      "image/png": "[encoded data removed]",
      "text/plain": [
       "<Figure size 576x432 with 1 Axes>"
      ]
     },
     "metadata": {
      "needs_background": "light"
     },
     "output_type": "display_data"
    },
    {
     "data": {
      "image/png": "[encoded data removed]",
      "text/plain": [
       "<Figure size 576x432 with 1 Axes>"
      ]
     },
     "metadata": {
      "needs_background": "light"
     },
     "output_type": "display_data"
    },
    {
     "data": {
      "image/png": "[encoded data removed]",
      "text/plain": [
       "<Figure size 576x432 with 1 Axes>"
      ]
     },
     "metadata": {
      "needs_background": "light"
     },
     "output_type": "display_data"
    }
   ],
   "source": [
    "# Посмотрим на выбросы\n",
    "for i in num_cols:\n",
    "    get_boxplot(i)"
   ]
  },
  {
   "cell_type": "markdown",
   "metadata": {
    "papermill": {
     "duration": 0.112368,
     "end_time": "2020-11-28T18:34:00.837898",
     "exception": false,
     "start_time": "2020-11-28T18:34:00.725530",
     "status": "completed"
    },
    "tags": []
   },
   "source": [
    "На графике для «decline_app_cnt» видно, что есть выбросы.\n",
    "\n",
    "Метод межквартильного расстояния выделяет как выбросы - все значения, находящиеся за пределами коробки. Посмотрим, сколько выбросов он найдет."
   ]
  },
  {
   "cell_type": "code",
   "execution_count": 23,
   "metadata": {
    "execution": {
     "iopub.execute_input": "2020-11-28T18:34:00.976603Z",
     "iopub.status.busy": "2020-11-28T18:34:00.975912Z",
     "iopub.status.idle": "2020-11-28T18:34:01.005810Z",
     "shell.execute_reply": "2020-11-28T18:34:01.006350Z"
    },
    "papermill": {
     "duration": 0.096973,
     "end_time": "2020-11-28T18:34:01.006492",
     "exception": false,
     "start_time": "2020-11-28T18:34:00.909519",
     "status": "completed"
    },
    "tags": []
   },
   "outputs": [
    {
     "name": "stdout",
     "output_type": "stream",
     "text": [
      "Для «age»: 0.0%\n",
      "Для «decline_app_cnt»: 16.96%\n",
      "Для «score_bki»: 0.47%\n",
      "Для «bki_request_cnt»: 0.01%\n",
      "Для «income»: 2.37%\n",
      "Для «date_timedelta»: 0.0%\n"
     ]
    }
   ],
   "source": [
    "# Посмотрим на процентное количество выбросов для количественных признаков\n",
    "for i in num_cols:\n",
    "    out = outliers_detection(df[i])\n",
    "    print('Для «{0}»: {1}%'. format(i, round((len(out)/len(df))*100, 2)))"
   ]
  },
  {
   "cell_type": "code",
   "execution_count": 24,
   "metadata": {
    "execution": {
     "iopub.execute_input": "2020-11-28T18:34:01.131088Z",
     "iopub.status.busy": "2020-11-28T18:34:01.130093Z",
     "iopub.status.idle": "2020-11-28T18:34:01.171946Z",
     "shell.execute_reply": "2020-11-28T18:34:01.171269Z"
    },
    "papermill": {
     "duration": 0.10728,
     "end_time": "2020-11-28T18:34:01.172055",
     "exception": false,
     "start_time": "2020-11-28T18:34:01.064775",
     "status": "completed"
    },
    "tags": []
   },
   "outputs": [],
   "source": [
    "drop_outliers(df, df['score_bki'])\n",
    "\n",
    "drop_outliers(df, df['bki_request_cnt'])\n",
    "\n",
    "drop_outliers(df, df['income'])"
   ]
  },
  {
   "cell_type": "markdown",
   "metadata": {
    "papermill": {
     "duration": 0.057711,
     "end_time": "2020-11-28T18:34:01.288413",
     "exception": false,
     "start_time": "2020-11-28T18:34:01.230702",
     "status": "completed"
    },
    "tags": []
   },
   "source": [
    "## Оценка корреляций"
   ]
  },
  {
   "cell_type": "code",
   "execution_count": 25,
   "metadata": {
    "execution": {
     "iopub.execute_input": "2020-11-28T18:34:01.418350Z",
     "iopub.status.busy": "2020-11-28T18:34:01.417660Z",
     "iopub.status.idle": "2020-11-28T18:34:01.880256Z",
     "shell.execute_reply": "2020-11-28T18:34:01.879646Z"
    },
    "papermill": {
     "duration": 0.531369,
     "end_time": "2020-11-28T18:34:01.880390",
     "exception": false,
     "start_time": "2020-11-28T18:34:01.349021",
     "status": "completed"
    },
    "tags": []
   },
   "outputs": [
    {
     "data": {
      "image/png": "[encoded data removed]",
      "text/plain": [
       "<Figure size 720x576 with 2 Axes>"
      ]
     },
     "metadata": {
      "needs_background": "light"
     },
     "output_type": "display_data"
    }
   ],
   "source": [
    "# Посмотрим на корреляционную матрицу\n",
    "corrmat = df[num_cols].corr().abs()\n",
    "\n",
    "f, ax = plt.subplots(figsize=(10, 8))\n",
    "\n",
    "sns.heatmap(corrmat, vmax=.95, annot=True, cmap='PuBuGn', square=True)\n",
    "#cmap= 'twilight_shifted'\n",
    "sources = corrmat.columns.get_level_values(0)\n",
    "for i, source in enumerate(sources):\n",
    "    if i and source != sources[i - 1]:\n",
    "        ax.axhline(len(sources) - i, c=\"w\")\n",
    "        ax.axvline(i, c=\"w\")\n",
    "ax.set_title('Тепловая карта корреляционной матрицы', fontsize=16, pad=20)\n",
    "f.tight_layout()"
   ]
  },
  {
   "cell_type": "markdown",
   "metadata": {
    "papermill": {
     "duration": 0.061092,
     "end_time": "2020-11-28T18:34:02.003208",
     "exception": false,
     "start_time": "2020-11-28T18:34:01.942116",
     "status": "completed"
    },
    "tags": []
   },
   "source": [
    "## Значимость непрерывных переменных\n",
    "\n",
    "\n",
    "Найдем влияющие на дефолт факторы по feature_importances\n",
    "\n",
    "В качестве меры значимости мы будем использовать значение f-статистики. Чем значение статистики выше, тем меньше вероятность того, что средние значения не отличаются, и тем важнее данный признак для нашей линейной модели."
   ]
  },
  {
   "cell_type": "code",
   "execution_count": 26,
   "metadata": {
    "execution": {
     "iopub.execute_input": "2020-11-28T18:34:02.133689Z",
     "iopub.status.busy": "2020-11-28T18:34:02.132982Z",
     "iopub.status.idle": "2020-11-28T18:34:02.389998Z",
     "shell.execute_reply": "2020-11-28T18:34:02.390500Z"
    },
    "papermill": {
     "duration": 0.326127,
     "end_time": "2020-11-28T18:34:02.390651",
     "exception": false,
     "start_time": "2020-11-28T18:34:02.064524",
     "status": "completed"
    },
    "tags": []
   },
   "outputs": [
    {
     "data": {
      "text/plain": [
       "<matplotlib.axes._subplots.AxesSubplot at 0x7faacbdb1350>"
      ]
     },
     "execution_count": 26,
     "metadata": {},
     "output_type": "execute_result"
    },
    {
     "data": {
      "image/png": "[encoded data removed]",
      "text/plain": [
       "<Figure size 504x360 with 1 Axes>"
      ]
     },
     "metadata": {
      "needs_background": "light"
     },
     "output_type": "display_data"
    }
   ],
   "source": [
    "# оценка значимости числовых переменных\n",
    "\n",
    "# указываем индекс [0], чтобы выводились значения\n",
    "imp_num = pd.Series(f_classif(df[df.Train == 1][num_cols],\n",
    "                              df[df.Train == 1]['default'])[0],\n",
    "                    index=num_cols)\n",
    "# сортировка по убыванию\n",
    "imp_num.sort_values(inplace=True)\n",
    "# barh - для переворачивания гистограммы\n",
    "imp_num.plot(kind='barh')"
   ]
  },
  {
   "cell_type": "markdown",
   "metadata": {
    "papermill": {
     "duration": 0.061175,
     "end_time": "2020-11-28T18:34:02.513408",
     "exception": false,
     "start_time": "2020-11-28T18:34:02.452233",
     "status": "completed"
    },
    "tags": []
   },
   "source": [
    "Исходя из значений f-статистики для числовых признаков можно сделать вывод, что score_bki, decline_app_cnt и bki_request_cnt являются достаточно важными признаками, а income и age такими не являются. Будем помнить об этом и возможно избавимся от этих 2х признаков в дальнейшем."
   ]
  },
  {
   "cell_type": "markdown",
   "metadata": {
    "papermill": {
     "duration": 0.060983,
     "end_time": "2020-11-28T18:34:02.635633",
     "exception": false,
     "start_time": "2020-11-28T18:34:02.574650",
     "status": "completed"
    },
    "tags": []
   },
   "source": [
    "Выделим значимые категориальные признаки для модели."
   ]
  },
  {
   "cell_type": "code",
   "execution_count": 27,
   "metadata": {
    "execution": {
     "iopub.execute_input": "2020-11-28T18:34:02.765543Z",
     "iopub.status.busy": "2020-11-28T18:34:02.764863Z",
     "iopub.status.idle": "2020-11-28T18:34:03.190069Z",
     "shell.execute_reply": "2020-11-28T18:34:03.189520Z"
    },
    "papermill": {
     "duration": 0.493021,
     "end_time": "2020-11-28T18:34:03.190184",
     "exception": false,
     "start_time": "2020-11-28T18:34:02.697163",
     "status": "completed"
    },
    "tags": []
   },
   "outputs": [
    {
     "data": {
      "text/plain": [
       "<matplotlib.axes._subplots.AxesSubplot at 0x7faacb6d2850>"
      ]
     },
     "execution_count": 27,
     "metadata": {},
     "output_type": "execute_result"
    },
    {
     "data": {
      "image/png": "[encoded data removed]",
      "text/plain": [
       "<Figure size 504x360 with 1 Axes>"
      ]
     },
     "metadata": {
      "needs_background": "light"
     },
     "output_type": "display_data"
    }
   ],
   "source": [
    "imp_cat = pd.Series(mutual_info_classif(df[df.Train == 1][bin_cols +\n",
    "                                                              cat_cols],\n",
    "                                        df[df.Train == 1]['default'],\n",
    "                                        discrete_features=True),\n",
    "                    index=bin_cols + cat_cols)\n",
    "imp_cat.sort_values(inplace=True)\n",
    "imp_cat.plot(kind='barh')"
   ]
  },
  {
   "cell_type": "markdown",
   "metadata": {
    "papermill": {
     "duration": 0.06304,
     "end_time": "2020-11-28T18:34:03.316149",
     "exception": false,
     "start_time": "2020-11-28T18:34:03.253109",
     "status": "completed"
    },
    "tags": []
   },
   "source": [
    "Самые значимые признаки: «sna», «first_time», «region_rating».  \n",
    "Наименее значимые признаки: «sex», «car», «good_work»."
   ]
  },
  {
   "cell_type": "markdown",
   "metadata": {
    "papermill": {
     "duration": 0.062216,
     "end_time": "2020-11-28T18:34:03.441555",
     "exception": false,
     "start_time": "2020-11-28T18:34:03.379339",
     "status": "completed"
    },
    "tags": []
   },
   "source": [
    "## Data preprocessing"
   ]
  },
  {
   "cell_type": "code",
   "execution_count": 28,
   "metadata": {
    "execution": {
     "iopub.execute_input": "2020-11-28T18:34:03.576755Z",
     "iopub.status.busy": "2020-11-28T18:34:03.576074Z",
     "iopub.status.idle": "2020-11-28T18:34:03.599197Z",
     "shell.execute_reply": "2020-11-28T18:34:03.598556Z"
    },
    "papermill": {
     "duration": 0.094684,
     "end_time": "2020-11-28T18:34:03.599331",
     "exception": false,
     "start_time": "2020-11-28T18:34:03.504647",
     "status": "completed"
    },
    "tags": []
   },
   "outputs": [],
   "source": [
    "# Стандартизируем количественные признаки\n",
    "ss = StandardScaler()\n",
    "df[num_cols] = pd.DataFrame(ss.fit_transform(df[num_cols]),\n",
    "                            columns=df[num_cols].columns)"
   ]
  },
  {
   "cell_type": "code",
   "execution_count": 29,
   "metadata": {
    "execution": {
     "iopub.execute_input": "2020-11-28T18:34:03.733758Z",
     "iopub.status.busy": "2020-11-28T18:34:03.733071Z",
     "iopub.status.idle": "2020-11-28T18:34:23.405765Z",
     "shell.execute_reply": "2020-11-28T18:34:23.406593Z"
    },
    "papermill": {
     "duration": 19.744679,
     "end_time": "2020-11-28T18:34:23.406810",
     "exception": false,
     "start_time": "2020-11-28T18:34:03.662131",
     "status": "completed"
    },
    "tags": []
   },
   "outputs": [
    {
     "name": "stderr",
     "output_type": "stream",
     "text": [
      "[Parallel(n_jobs=-1)]: Using backend ThreadingBackend with 4 concurrent workers.\n",
      "[Parallel(n_jobs=-1)]: Done  42 tasks      | elapsed:    8.2s\n",
      "[Parallel(n_jobs=-1)]: Done 100 out of 100 | elapsed:   19.2s finished\n",
      "[Parallel(n_jobs=4)]: Using backend ThreadingBackend with 4 concurrent workers.\n",
      "[Parallel(n_jobs=4)]: Done  42 tasks      | elapsed:    0.1s\n",
      "[Parallel(n_jobs=4)]: Done 100 out of 100 | elapsed:    0.2s finished\n"
     ]
    }
   ],
   "source": [
    "# Data processing and model training.\n",
    "data_temp = df.drop(['Train', 'client_id', 'app_date', 'default'], axis=1)\n",
    "data_education_nan = data_temp[data_temp['education_nan'] == 1]\n",
    "data_no_nan = data_temp[data_temp['education_nan'] == 0]\n",
    "y = data_no_nan['education'].values\n",
    "X = data_no_nan.drop(['education'], axis=1)\n",
    "X_train, X_test, y_train, y_test = train_test_split(X,\n",
    "                                                    y,\n",
    "                                                    test_size=0.2,\n",
    "                                                    random_state=random_seed)\n",
    "model = RandomForestRegressor(n_estimators=100,\n",
    "                              verbose=1,\n",
    "                              n_jobs=-1,\n",
    "                              random_state=random_seed)\n",
    "model.fit(X_train, y_train)\n",
    "y_pred = np.round(model.predict(X_test))"
   ]
  },
  {
   "cell_type": "code",
   "execution_count": 30,
   "metadata": {
    "execution": {
     "iopub.execute_input": "2020-11-28T18:34:23.546675Z",
     "iopub.status.busy": "2020-11-28T18:34:23.546054Z",
     "iopub.status.idle": "2020-11-28T18:34:23.738568Z",
     "shell.execute_reply": "2020-11-28T18:34:23.739042Z"
    },
    "papermill": {
     "duration": 0.26642,
     "end_time": "2020-11-28T18:34:23.739179",
     "exception": false,
     "start_time": "2020-11-28T18:34:23.472759",
     "status": "completed"
    },
    "tags": []
   },
   "outputs": [
    {
     "name": "stderr",
     "output_type": "stream",
     "text": [
      "[Parallel(n_jobs=4)]: Using backend ThreadingBackend with 4 concurrent workers.\n",
      "[Parallel(n_jobs=4)]: Done  42 tasks      | elapsed:    0.0s\n",
      "[Parallel(n_jobs=4)]: Done 100 out of 100 | elapsed:    0.0s finished\n"
     ]
    },
    {
     "data": {
      "text/html": [
       "<div>\n",
       "<style scoped>\n",
       "    .dataframe tbody tr th:only-of-type {\n",
       "        vertical-align: middle;\n",
       "    }\n",
       "\n",
       "    .dataframe tbody tr th {\n",
       "        vertical-align: top;\n",
       "    }\n",
       "\n",
       "    .dataframe thead th {\n",
       "        text-align: right;\n",
       "    }\n",
       "</style>\n",
       "<table border=\"1\" class=\"dataframe\">\n",
       "  <thead>\n",
       "    <tr style=\"text-align: right;\">\n",
       "      <th></th>\n",
       "      <th>client_id</th>\n",
       "      <th>app_date</th>\n",
       "      <th>sex</th>\n",
       "      <th>age</th>\n",
       "      <th>car</th>\n",
       "      <th>car_type</th>\n",
       "      <th>decline_app_cnt</th>\n",
       "      <th>good_work</th>\n",
       "      <th>score_bki</th>\n",
       "      <th>bki_request_cnt</th>\n",
       "      <th>income</th>\n",
       "      <th>foreign_passport</th>\n",
       "      <th>default</th>\n",
       "      <th>Train</th>\n",
       "      <th>education_nan</th>\n",
       "      <th>date_timedelta</th>\n",
       "      <th>education_1.0</th>\n",
       "      <th>education_2.0</th>\n",
       "      <th>education_3.0</th>\n",
       "      <th>education_4.0</th>\n",
       "      <th>education_5.0</th>\n",
       "      <th>region_rating_20</th>\n",
       "      <th>region_rating_30</th>\n",
       "      <th>region_rating_40</th>\n",
       "      <th>region_rating_50</th>\n",
       "      <th>region_rating_60</th>\n",
       "      <th>region_rating_70</th>\n",
       "      <th>region_rating_80</th>\n",
       "      <th>home_address_1</th>\n",
       "      <th>home_address_2</th>\n",
       "      <th>home_address_3</th>\n",
       "      <th>work_address_1</th>\n",
       "      <th>work_address_2</th>\n",
       "      <th>work_address_3</th>\n",
       "      <th>sna_1</th>\n",
       "      <th>sna_2</th>\n",
       "      <th>sna_3</th>\n",
       "      <th>sna_4</th>\n",
       "      <th>first_time_1</th>\n",
       "      <th>first_time_2</th>\n",
       "      <th>first_time_3</th>\n",
       "      <th>first_time_4</th>\n",
       "    </tr>\n",
       "  </thead>\n",
       "  <tbody>\n",
       "    <tr>\n",
       "      <th>31177</th>\n",
       "      <td>105626</td>\n",
       "      <td>2014-04-24</td>\n",
       "      <td>0</td>\n",
       "      <td>-0.449689</td>\n",
       "      <td>0</td>\n",
       "      <td>0</td>\n",
       "      <td>-0.418815</td>\n",
       "      <td>0</td>\n",
       "      <td>-0.822372</td>\n",
       "      <td>0.770563</td>\n",
       "      <td>-0.786080</td>\n",
       "      <td>0</td>\n",
       "      <td>0.0</td>\n",
       "      <td>1</td>\n",
       "      <td>0</td>\n",
       "      <td>1.622043</td>\n",
       "      <td>0</td>\n",
       "      <td>1</td>\n",
       "      <td>0</td>\n",
       "      <td>0</td>\n",
       "      <td>0</td>\n",
       "      <td>0</td>\n",
       "      <td>0</td>\n",
       "      <td>0</td>\n",
       "      <td>1</td>\n",
       "      <td>0</td>\n",
       "      <td>0</td>\n",
       "      <td>0</td>\n",
       "      <td>0</td>\n",
       "      <td>1</td>\n",
       "      <td>0</td>\n",
       "      <td>0</td>\n",
       "      <td>0</td>\n",
       "      <td>1</td>\n",
       "      <td>0</td>\n",
       "      <td>1</td>\n",
       "      <td>0</td>\n",
       "      <td>0</td>\n",
       "      <td>0</td>\n",
       "      <td>0</td>\n",
       "      <td>1</td>\n",
       "      <td>0</td>\n",
       "    </tr>\n",
       "    <tr>\n",
       "      <th>78741</th>\n",
       "      <td>45781</td>\n",
       "      <td>2014-02-22</td>\n",
       "      <td>1</td>\n",
       "      <td>-1.258393</td>\n",
       "      <td>0</td>\n",
       "      <td>0</td>\n",
       "      <td>1.499512</td>\n",
       "      <td>0</td>\n",
       "      <td>0.229427</td>\n",
       "      <td>1.386150</td>\n",
       "      <td>0.168439</td>\n",
       "      <td>0</td>\n",
       "      <td>NaN</td>\n",
       "      <td>0</td>\n",
       "      <td>0</td>\n",
       "      <td>-0.279695</td>\n",
       "      <td>0</td>\n",
       "      <td>1</td>\n",
       "      <td>0</td>\n",
       "      <td>0</td>\n",
       "      <td>0</td>\n",
       "      <td>0</td>\n",
       "      <td>0</td>\n",
       "      <td>0</td>\n",
       "      <td>0</td>\n",
       "      <td>1</td>\n",
       "      <td>0</td>\n",
       "      <td>0</td>\n",
       "      <td>1</td>\n",
       "      <td>0</td>\n",
       "      <td>0</td>\n",
       "      <td>0</td>\n",
       "      <td>1</td>\n",
       "      <td>0</td>\n",
       "      <td>0</td>\n",
       "      <td>1</td>\n",
       "      <td>0</td>\n",
       "      <td>0</td>\n",
       "      <td>0</td>\n",
       "      <td>0</td>\n",
       "      <td>1</td>\n",
       "      <td>0</td>\n",
       "    </tr>\n",
       "    <tr>\n",
       "      <th>25092</th>\n",
       "      <td>67400</td>\n",
       "      <td>2014-03-16</td>\n",
       "      <td>0</td>\n",
       "      <td>1.600854</td>\n",
       "      <td>0</td>\n",
       "      <td>0</td>\n",
       "      <td>-0.418815</td>\n",
       "      <td>0</td>\n",
       "      <td>-0.286058</td>\n",
       "      <td>2.161699</td>\n",
       "      <td>-0.498037</td>\n",
       "      <td>0</td>\n",
       "      <td>0.0</td>\n",
       "      <td>1</td>\n",
       "      <td>0</td>\n",
       "      <td>0.406178</td>\n",
       "      <td>1</td>\n",
       "      <td>0</td>\n",
       "      <td>0</td>\n",
       "      <td>0</td>\n",
       "      <td>0</td>\n",
       "      <td>0</td>\n",
       "      <td>0</td>\n",
       "      <td>0</td>\n",
       "      <td>1</td>\n",
       "      <td>0</td>\n",
       "      <td>0</td>\n",
       "      <td>0</td>\n",
       "      <td>1</td>\n",
       "      <td>0</td>\n",
       "      <td>0</td>\n",
       "      <td>0</td>\n",
       "      <td>1</td>\n",
       "      <td>0</td>\n",
       "      <td>1</td>\n",
       "      <td>0</td>\n",
       "      <td>0</td>\n",
       "      <td>0</td>\n",
       "      <td>0</td>\n",
       "      <td>0</td>\n",
       "      <td>1</td>\n",
       "      <td>0</td>\n",
       "    </tr>\n",
       "  </tbody>\n",
       "</table>\n",
       "</div>"
      ],
      "text/plain": [
       "       client_id   app_date  sex       age  car  car_type  decline_app_cnt  \\\n",
       "31177     105626 2014-04-24    0 -0.449689    0         0        -0.418815   \n",
       "78741      45781 2014-02-22    1 -1.258393    0         0         1.499512   \n",
       "25092      67400 2014-03-16    0  1.600854    0         0        -0.418815   \n",
       "\n",
       "       good_work  score_bki  bki_request_cnt    income  foreign_passport  \\\n",
       "31177          0  -0.822372         0.770563 -0.786080                 0   \n",
       "78741          0   0.229427         1.386150  0.168439                 0   \n",
       "25092          0  -0.286058         2.161699 -0.498037                 0   \n",
       "\n",
       "       default  Train  education_nan  date_timedelta  education_1.0  \\\n",
       "31177      0.0      1              0        1.622043              0   \n",
       "78741      NaN      0              0       -0.279695              0   \n",
       "25092      0.0      1              0        0.406178              1   \n",
       "\n",
       "       education_2.0  education_3.0  education_4.0  education_5.0  \\\n",
       "31177              1              0              0              0   \n",
       "78741              1              0              0              0   \n",
       "25092              0              0              0              0   \n",
       "\n",
       "       region_rating_20  region_rating_30  region_rating_40  region_rating_50  \\\n",
       "31177                 0                 0                 0                 1   \n",
       "78741                 0                 0                 0                 0   \n",
       "25092                 0                 0                 0                 1   \n",
       "\n",
       "       region_rating_60  region_rating_70  region_rating_80  home_address_1  \\\n",
       "31177                 0                 0                 0               0   \n",
       "78741                 1                 0                 0               1   \n",
       "25092                 0                 0                 0               1   \n",
       "\n",
       "       home_address_2  home_address_3  work_address_1  work_address_2  \\\n",
       "31177               1               0               0               0   \n",
       "78741               0               0               0               1   \n",
       "25092               0               0               0               1   \n",
       "\n",
       "       work_address_3  sna_1  sna_2  sna_3  sna_4  first_time_1  first_time_2  \\\n",
       "31177               1      0      1      0      0             0             0   \n",
       "78741               0      0      1      0      0             0             0   \n",
       "25092               0      1      0      0      0             0             0   \n",
       "\n",
       "       first_time_3  first_time_4  \n",
       "31177             1             0  \n",
       "78741             1             0  \n",
       "25092             1             0  "
      ]
     },
     "execution_count": 30,
     "metadata": {},
     "output_type": "execute_result"
    }
   ],
   "source": [
    "predict = np.round(\n",
    "    model.predict(data_education_nan.drop(['education'], axis=1)))\n",
    "\n",
    "index_education_nan = df[df['education_nan'] == 1].index\n",
    "df.loc[index_education_nan, 'education'] = predict\n",
    "\n",
    "df = pd.get_dummies(df, prefix=cat_cols, columns=cat_cols)\n",
    "df.sample(3)"
   ]
  },
  {
   "cell_type": "markdown",
   "metadata": {
    "papermill": {
     "duration": 0.093772,
     "end_time": "2020-11-28T18:34:23.919391",
     "exception": false,
     "start_time": "2020-11-28T18:34:23.825619",
     "status": "completed"
    },
    "tags": []
   },
   "source": [
    "## Model\n",
    "\n",
    "*Логистическая регрессия — метод построения линейного классификатора, позволяющий оценивать апостериорные вероятности принадлежности объектов классам (в данном случае - дефолт/не дефолт).*"
   ]
  },
  {
   "cell_type": "code",
   "execution_count": 31,
   "metadata": {
    "execution": {
     "iopub.execute_input": "2020-11-28T18:34:24.066686Z",
     "iopub.status.busy": "2020-11-28T18:34:24.065940Z",
     "iopub.status.idle": "2020-11-28T18:34:25.139395Z",
     "shell.execute_reply": "2020-11-28T18:34:25.138771Z"
    },
    "papermill": {
     "duration": 1.150447,
     "end_time": "2020-11-28T18:34:25.139506",
     "exception": false,
     "start_time": "2020-11-28T18:34:23.989059",
     "status": "completed"
    },
    "tags": []
   },
   "outputs": [
    {
     "data": {
      "image/png": "[encoded data removed]",
      "text/plain": [
       "<Figure size 504x360 with 1 Axes>"
      ]
     },
     "metadata": {
      "needs_background": "light"
     },
     "output_type": "display_data"
    }
   ],
   "source": [
    "data_train = df.query('Train == 1').drop(\n",
    "    ['Train', 'client_id', 'app_date'], axis=1)\n",
    "data_test = df.query('Train == 0').drop(\n",
    "    ['Train', 'client_id', 'app_date'], axis=1)\n",
    "\n",
    "\n",
    "X = data_train.drop(['default'], axis=1)\n",
    "y = data_train['default'].values\n",
    "\n",
    "X_train, X_test, y_train, y_test = train_test_split(\n",
    "    X, y, test_size=0.20, random_state=random_seed)\n",
    "\n",
    "model = LogisticRegression()\n",
    "model.fit(X_train, y_train)\n",
    "\n",
    "y_pred_prob = model.predict_proba(X_test)[:, 1]\n",
    "y_pred = model.predict(X_test)\n",
    "\n",
    "\n",
    "probs = model.predict_proba(X_test)\n",
    "probs = probs[:, 1]\n",
    "\n",
    "fpr, tpr, threshold = roc_curve(y_test, probs)\n",
    "roc_auc = roc_auc_score(y_test, probs)\n",
    "\n",
    "plt.figure()\n",
    "plt.plot([0, 1], label='Baseline', linestyle='--', linewidth=2)\n",
    "plt.plot(fpr, tpr, label='Площадь под ROC-кривой = %0.3f' %\n",
    "         roc_auc, linewidth=2)\n",
    "plt.title('ROC-кривая', fontsize=16, pad=20)\n",
    "plt.ylabel('Верно классифицированные')\n",
    "plt.xlabel('Ложно классифицированные')\n",
    "plt.legend(loc='lower right')\n",
    "plt.rcParams['figure.figsize'] = (10, 8)\n",
    "plt.show()"
   ]
  },
  {
   "cell_type": "code",
   "execution_count": 32,
   "metadata": {
    "execution": {
     "iopub.execute_input": "2020-11-28T18:34:25.277191Z",
     "iopub.status.busy": "2020-11-28T18:34:25.276538Z",
     "iopub.status.idle": "2020-11-28T18:34:25.392720Z",
     "shell.execute_reply": "2020-11-28T18:34:25.393171Z"
    },
    "papermill": {
     "duration": 0.187649,
     "end_time": "2020-11-28T18:34:25.393331",
     "exception": false,
     "start_time": "2020-11-28T18:34:25.205682",
     "status": "completed"
    },
    "tags": []
   },
   "outputs": [
    {
     "data": {
      "image/png": "[encoded data removed]",
      "text/plain": [
       "<Figure size 432x432 with 1 Axes>"
      ]
     },
     "metadata": {
      "needs_background": "light"
     },
     "output_type": "display_data"
    }
   ],
   "source": [
    "plt.rcParams['figure.figsize'] = (6, 6)\n",
    "confusion_matrix_plot(y_test, y_pred)"
   ]
  },
  {
   "cell_type": "code",
   "execution_count": 33,
   "metadata": {
    "execution": {
     "iopub.execute_input": "2020-11-28T18:34:25.532867Z",
     "iopub.status.busy": "2020-11-28T18:34:25.532219Z",
     "iopub.status.idle": "2020-11-28T18:34:25.561383Z",
     "shell.execute_reply": "2020-11-28T18:34:25.561815Z"
    },
    "papermill": {
     "duration": 0.10134,
     "end_time": "2020-11-28T18:34:25.561954",
     "exception": false,
     "start_time": "2020-11-28T18:34:25.460614",
     "status": "completed"
    },
    "tags": []
   },
   "outputs": [
    {
     "data": {
      "text/plain": [
       "accuracy     0.874797\n",
       "precision    0.396040\n",
       "recall       0.021894\n",
       "F1           0.041494\n",
       "ROC_AUC      0.744606\n",
       "dtype: float64"
      ]
     },
     "execution_count": 33,
     "metadata": {},
     "output_type": "execute_result"
    }
   ],
   "source": [
    "# Checking the metrics.\n",
    "all_metrics(y_test, y_pred, y_pred_prob)"
   ]
  },
  {
   "cell_type": "markdown",
   "metadata": {
    "papermill": {
     "duration": 0.066884,
     "end_time": "2020-11-28T18:34:25.696821",
     "exception": false,
     "start_time": "2020-11-28T18:34:25.629937",
     "status": "completed"
    },
    "tags": []
   },
   "source": [
    "## Regularization"
   ]
  },
  {
   "cell_type": "code",
   "execution_count": 34,
   "metadata": {
    "execution": {
     "iopub.execute_input": "2020-11-28T18:34:25.847929Z",
     "iopub.status.busy": "2020-11-28T18:34:25.847224Z",
     "iopub.status.idle": "2020-11-28T18:34:25.850252Z",
     "shell.execute_reply": "2020-11-28T18:34:25.849662Z"
    },
    "papermill": {
     "duration": 0.08066,
     "end_time": "2020-11-28T18:34:25.850383",
     "exception": false,
     "start_time": "2020-11-28T18:34:25.769723",
     "status": "completed"
    },
    "tags": []
   },
   "outputs": [],
   "source": [
    "C = np.logspace(0, 4, 10)\n",
    "max_iter = 1000\n",
    "epsilon_stop = 1e-3\n",
    "\n",
    "hyperparameters = [\n",
    "    {\n",
    "        'penalty': ['l1'],\n",
    "        'C': C,\n",
    "        'solver': ['liblinear', 'saga'],\n",
    "        'multi_class': ['auto', 'ovr'],\n",
    "        'max_iter': [max_iter],\n",
    "        'tol': [epsilon_stop]\n",
    "    },\n",
    "    {\n",
    "        'penalty': ['l2'],\n",
    "        'C': C,\n",
    "        'solver': ['newton-cg', 'lbfgs', 'liblinear', 'sag', 'saga'],\n",
    "        'multi_class': ['auto', 'ovr'],\n",
    "        'max_iter': [max_iter],\n",
    "        'tol': [epsilon_stop]\n",
    "    },\n",
    "    {\n",
    "        'penalty': ['none'],\n",
    "        'C': C,\n",
    "        'solver': ['newton-cg', 'lbfgs', 'sag', 'saga'],\n",
    "        'multi_class': ['auto', 'ovr'],\n",
    "        'max_iter': [max_iter],\n",
    "        'tol': [epsilon_stop]\n",
    "    },\n",
    "    {\n",
    "        'penalty': ['elasticnet'],\n",
    "        'C': C,\n",
    "        'solver': ['saga'],\n",
    "        'multi_class': ['auto', 'ovr'],\n",
    "        'max_iter': [max_iter],\n",
    "        'tol': [epsilon_stop]\n",
    "    },\n",
    "]"
   ]
  },
  {
   "cell_type": "markdown",
   "metadata": {
    "papermill": {
     "duration": 0.067807,
     "end_time": "2020-11-28T18:34:25.986518",
     "exception": false,
     "start_time": "2020-11-28T18:34:25.918711",
     "status": "completed"
    },
    "tags": []
   },
   "source": [
    "Создаем сетку поиска с использованием 5-кратной перекрестной проверки.\n",
    "\n",
    "*GridSearchCV находит наилучшие параметры, путем обычного перебора: он создает модель для каждой возможной комбинации параметров.*"
   ]
  },
  {
   "cell_type": "code",
   "execution_count": 35,
   "metadata": {
    "execution": {
     "iopub.execute_input": "2020-11-28T18:34:26.131981Z",
     "iopub.status.busy": "2020-11-28T18:34:26.131076Z",
     "iopub.status.idle": "2020-11-28T18:34:26.136067Z",
     "shell.execute_reply": "2020-11-28T18:34:26.135178Z"
    },
    "papermill": {
     "duration": 0.081292,
     "end_time": "2020-11-28T18:34:26.136235",
     "exception": false,
     "start_time": "2020-11-28T18:34:26.054943",
     "status": "completed"
    },
    "tags": []
   },
   "outputs": [
    {
     "data": {
      "text/plain": [
       "\"\\ngridsearch = GridSearchCV(model,\\n                          hyperparameters,\\n                          scoring='f1',\\n                          n_jobs=-1,\\n                          cv=5)\\ngridsearch.fit(X_train, y_train)\\nnew_model = gridsearch.best_estimator_\\n\""
      ]
     },
     "execution_count": 35,
     "metadata": {},
     "output_type": "execute_result"
    }
   ],
   "source": [
    "'''\n",
    "gridsearch = GridSearchCV(model,\n",
    "                          hyperparameters,\n",
    "                          scoring='f1',\n",
    "                          n_jobs=-1,\n",
    "                          cv=5)\n",
    "gridsearch.fit(X_train, y_train)\n",
    "new_model = gridsearch.best_estimator_\n",
    "'''"
   ]
  },
  {
   "cell_type": "code",
   "execution_count": 36,
   "metadata": {
    "execution": {
     "iopub.execute_input": "2020-11-28T18:34:26.289647Z",
     "iopub.status.busy": "2020-11-28T18:34:26.288967Z",
     "iopub.status.idle": "2020-11-28T18:34:26.293894Z",
     "shell.execute_reply": "2020-11-28T18:34:26.293439Z"
    },
    "papermill": {
     "duration": 0.080692,
     "end_time": "2020-11-28T18:34:26.294012",
     "exception": false,
     "start_time": "2020-11-28T18:34:26.213320",
     "status": "completed"
    },
    "tags": []
   },
   "outputs": [
    {
     "data": {
      "text/plain": [
       "\"\\n# Смотрим на параметры\\nbest_parameters = new_model.get_params()\\nprint(f'Лучшие значения параметров:')\\nfor name in best_parameters.keys():\\n    print(f'  {name} = {best_parameters[name]},')\\n\""
      ]
     },
     "execution_count": 36,
     "metadata": {},
     "output_type": "execute_result"
    }
   ],
   "source": [
    "'''\n",
    "# Смотрим на параметры\n",
    "best_parameters = new_model.get_params()\n",
    "print(f'Лучшие значения параметров:')\n",
    "for name in best_parameters.keys():\n",
    "    print(f'  {name} = {best_parameters[name]},')\n",
    "'''"
   ]
  },
  {
   "cell_type": "markdown",
   "metadata": {
    "papermill": {
     "duration": 0.068758,
     "end_time": "2020-11-28T18:34:26.432498",
     "exception": false,
     "start_time": "2020-11-28T18:34:26.363740",
     "status": "completed"
    },
    "tags": []
   },
   "source": [
    "Обучим модель, используя оптимальные гиперпараметры."
   ]
  },
  {
   "cell_type": "code",
   "execution_count": 37,
   "metadata": {
    "execution": {
     "iopub.execute_input": "2020-11-28T18:34:26.579727Z",
     "iopub.status.busy": "2020-11-28T18:34:26.579108Z",
     "iopub.status.idle": "2020-11-28T18:34:26.628703Z",
     "shell.execute_reply": "2020-11-28T18:34:26.627704Z"
    },
    "papermill": {
     "duration": 0.126843,
     "end_time": "2020-11-28T18:34:26.628871",
     "exception": false,
     "start_time": "2020-11-28T18:34:26.502028",
     "status": "completed"
    },
    "tags": []
   },
   "outputs": [],
   "source": [
    "data_train = df.query('Train == 1').drop(\n",
    "    ['Train', 'client_id', 'app_date'], axis=1)\n",
    "data_test = df.query('Train == 0').drop(\n",
    "    ['Train', 'client_id', 'app_date'], axis=1)\n",
    "\n",
    "X = data_train.drop(['default'], axis=1)\n",
    "y = data_train['default'].values\n",
    "\n",
    "X_train, X_test, y_train, y_test = train_test_split(\n",
    "    X, y, test_size=0.20, random_state=random_seed)"
   ]
  },
  {
   "cell_type": "code",
   "execution_count": 38,
   "metadata": {
    "execution": {
     "iopub.execute_input": "2020-11-28T18:34:26.799463Z",
     "iopub.status.busy": "2020-11-28T18:34:26.798799Z",
     "iopub.status.idle": "2020-11-28T18:34:28.359834Z",
     "shell.execute_reply": "2020-11-28T18:34:28.359280Z"
    },
    "papermill": {
     "duration": 1.648809,
     "end_time": "2020-11-28T18:34:28.359955",
     "exception": false,
     "start_time": "2020-11-28T18:34:26.711146",
     "status": "completed"
    },
    "tags": []
   },
   "outputs": [],
   "source": [
    "# Оптимальные параметры\n",
    "model = LogisticRegression(random_state=random_seed, \n",
    "                             C=46.416, \n",
    "                             class_weight='balanced', \n",
    "                             dual=False, \n",
    "                             fit_intercept=True, \n",
    "                             intercept_scaling=1, \n",
    "                             l1_ratio=None,\n",
    "                             multi_class='auto', \n",
    "                             n_jobs=None, \n",
    "                             penalty='l2', \n",
    "                             solver='sag',\n",
    "                             verbose=0, \n",
    "                             warm_start=False)\n",
    "\n",
    "model.fit(X_train, y_train)\n",
    "\n",
    "y_pred_prob = model.predict_proba(X_test)[:,1]\n",
    "y_pred = model.predict(X_test)"
   ]
  },
  {
   "cell_type": "code",
   "execution_count": 39,
   "metadata": {
    "execution": {
     "iopub.execute_input": "2020-11-28T18:34:28.505621Z",
     "iopub.status.busy": "2020-11-28T18:34:28.504682Z",
     "iopub.status.idle": "2020-11-28T18:34:28.538387Z",
     "shell.execute_reply": "2020-11-28T18:34:28.537888Z"
    },
    "papermill": {
     "duration": 0.10824,
     "end_time": "2020-11-28T18:34:28.538503",
     "exception": false,
     "start_time": "2020-11-28T18:34:28.430263",
     "status": "completed"
    },
    "tags": []
   },
   "outputs": [
    {
     "data": {
      "text/plain": [
       "accuracy     0.671206\n",
       "precision    0.226599\n",
       "recall       0.686371\n",
       "F1           0.340715\n",
       "ROC_AUC      0.744121\n",
       "dtype: float64"
      ]
     },
     "execution_count": 39,
     "metadata": {},
     "output_type": "execute_result"
    }
   ],
   "source": [
    "# Посмотрим на метрики\n",
    "all_metrics(y_test, y_pred, y_pred_prob)"
   ]
  },
  {
   "cell_type": "code",
   "execution_count": 40,
   "metadata": {
    "execution": {
     "iopub.execute_input": "2020-11-28T18:34:28.687261Z",
     "iopub.status.busy": "2020-11-28T18:34:28.686277Z",
     "iopub.status.idle": "2020-11-28T18:34:28.977677Z",
     "shell.execute_reply": "2020-11-28T18:34:28.976971Z"
    },
    "papermill": {
     "duration": 0.370078,
     "end_time": "2020-11-28T18:34:28.977804",
     "exception": false,
     "start_time": "2020-11-28T18:34:28.607726",
     "status": "completed"
    },
    "tags": []
   },
   "outputs": [
    {
     "data": {
      "image/png": "[encoded data removed]",
      "text/plain": [
       "<Figure size 432x432 with 1 Axes>"
      ]
     },
     "metadata": {
      "needs_background": "light"
     },
     "output_type": "display_data"
    }
   ],
   "source": [
    "# Построим на ROC-кривую\n",
    "probs = model.predict_proba(X_test)\n",
    "probs = probs[:,1]\n",
    "\n",
    "fpr, tpr, threshold = roc_curve(y_test, probs)\n",
    "roc_auc = roc_auc_score(y_test, probs)\n",
    "\n",
    "plt.figure()\n",
    "plt.plot([0, 1], label='Baseline', linestyle='--', linewidth=2)\n",
    "plt.plot(fpr, tpr, label='Площадь под ROC-кривой = %0.3f' %\n",
    "         roc_auc, linewidth=2)\n",
    "plt.title('ROC-кривая', fontsize=16, pad=20)\n",
    "plt.ylabel('Верно классифицированные')\n",
    "plt.xlabel('Ложно классифицированные')\n",
    "plt.legend(loc='lower right')\n",
    "plt.rcParams['figure.figsize'] = (10, 10)\n",
    "plt.show()"
   ]
  },
  {
   "cell_type": "code",
   "execution_count": 41,
   "metadata": {
    "execution": {
     "iopub.execute_input": "2020-11-28T18:34:29.125248Z",
     "iopub.status.busy": "2020-11-28T18:34:29.124563Z",
     "iopub.status.idle": "2020-11-28T18:34:29.240518Z",
     "shell.execute_reply": "2020-11-28T18:34:29.240023Z"
    },
    "papermill": {
     "duration": 0.191951,
     "end_time": "2020-11-28T18:34:29.240646",
     "exception": false,
     "start_time": "2020-11-28T18:34:29.048695",
     "status": "completed"
    },
    "tags": []
   },
   "outputs": [
    {
     "data": {
      "image/png": "[encoded data removed]",
      "text/plain": [
       "<Figure size 432x360 with 1 Axes>"
      ]
     },
     "metadata": {
      "needs_background": "light"
     },
     "output_type": "display_data"
    }
   ],
   "source": [
    "# Посмотрим на матрицу ошибок\n",
    "plt.rcParams['figure.figsize'] = (6, 5)\n",
    "confusion_matrix_plot(y_test, y_pred)"
   ]
  },
  {
   "cell_type": "markdown",
   "metadata": {
    "papermill": {
     "duration": 0.073121,
     "end_time": "2020-11-28T18:34:29.385721",
     "exception": false,
     "start_time": "2020-11-28T18:34:29.312600",
     "status": "completed"
    },
    "tags": []
   },
   "source": [
    "## Cross-validation"
   ]
  },
  {
   "cell_type": "code",
   "execution_count": 42,
   "metadata": {
    "execution": {
     "iopub.execute_input": "2020-11-28T18:34:29.535892Z",
     "iopub.status.busy": "2020-11-28T18:34:29.535255Z",
     "iopub.status.idle": "2020-11-28T18:34:29.577463Z",
     "shell.execute_reply": "2020-11-28T18:34:29.576790Z"
    },
    "papermill": {
     "duration": 0.120354,
     "end_time": "2020-11-28T18:34:29.577585",
     "exception": false,
     "start_time": "2020-11-28T18:34:29.457231",
     "status": "completed"
    },
    "tags": []
   },
   "outputs": [],
   "source": [
    "# Разделим данные на тренировочную и тестовую части\n",
    "data_train = df.query('Train == 1').drop(\n",
    "    ['Train', 'client_id', 'app_date'], axis=1)\n",
    "data_test = df.query('Train == 0').drop(\n",
    "    ['Train', 'client_id', 'app_date'], axis=1)\n",
    "\n",
    "X = data_train.drop(['default'], axis=1)\n",
    "y = data_train['default'].values\n",
    "\n",
    "X_train, X_test, y_train, y_test = train_test_split(\n",
    "    X, y, test_size=0.20, random_state=random_seed)"
   ]
  },
  {
   "cell_type": "code",
   "execution_count": 43,
   "metadata": {
    "execution": {
     "iopub.execute_input": "2020-11-28T18:34:29.727963Z",
     "iopub.status.busy": "2020-11-28T18:34:29.726939Z",
     "iopub.status.idle": "2020-11-28T18:34:29.730007Z",
     "shell.execute_reply": "2020-11-28T18:34:29.729386Z"
    },
    "papermill": {
     "duration": 0.080977,
     "end_time": "2020-11-28T18:34:29.730114",
     "exception": false,
     "start_time": "2020-11-28T18:34:29.649137",
     "status": "completed"
    },
    "tags": []
   },
   "outputs": [],
   "source": [
    "# Обучим модель 4 раза с разными подобранными параметрами\n",
    "\n",
    "model_1 = LogisticRegression(C=1,\n",
    "                             class_weight='balanced',\n",
    "                             dual=False,\n",
    "                             fit_intercept=True,\n",
    "                             intercept_scaling=1,\n",
    "                             l1_ratio=None,\n",
    "                             max_iter=50,\n",
    "                             multi_class='auto',\n",
    "                             n_jobs=None,\n",
    "                             penalty='l2',\n",
    "                             random_state=42,\n",
    "                             solver='liblinear',\n",
    "                             tol=0.001,\n",
    "                             verbose=0,\n",
    "                             warm_start=False)"
   ]
  },
  {
   "cell_type": "code",
   "execution_count": 44,
   "metadata": {
    "execution": {
     "iopub.execute_input": "2020-11-28T18:34:29.881291Z",
     "iopub.status.busy": "2020-11-28T18:34:29.880671Z",
     "iopub.status.idle": "2020-11-28T18:34:29.883327Z",
     "shell.execute_reply": "2020-11-28T18:34:29.883930Z"
    },
    "papermill": {
     "duration": 0.081849,
     "end_time": "2020-11-28T18:34:29.884065",
     "exception": false,
     "start_time": "2020-11-28T18:34:29.802216",
     "status": "completed"
    },
    "tags": []
   },
   "outputs": [],
   "source": [
    "model_2 = LogisticRegression(random_state=random_seed, \n",
    "                             C=46.416, \n",
    "                             class_weight='balanced', \n",
    "                             dual=False, \n",
    "                             fit_intercept=True, \n",
    "                             intercept_scaling=1, \n",
    "                             l1_ratio=None,\n",
    "                             max_iter = 1000,\n",
    "                             multi_class='auto', \n",
    "                             n_jobs=None, \n",
    "                             penalty='l2', \n",
    "                             solver='sag',\n",
    "                             tol = 0.001,\n",
    "                             verbose=0, \n",
    "                             warm_start=False)"
   ]
  },
  {
   "cell_type": "code",
   "execution_count": 45,
   "metadata": {
    "execution": {
     "iopub.execute_input": "2020-11-28T18:34:30.036178Z",
     "iopub.status.busy": "2020-11-28T18:34:30.035164Z",
     "iopub.status.idle": "2020-11-28T18:34:30.038195Z",
     "shell.execute_reply": "2020-11-28T18:34:30.037702Z"
    },
    "papermill": {
     "duration": 0.081839,
     "end_time": "2020-11-28T18:34:30.038318",
     "exception": false,
     "start_time": "2020-11-28T18:34:29.956479",
     "status": "completed"
    },
    "tags": []
   },
   "outputs": [],
   "source": [
    "model_3 = LogisticRegression(C=0.023,\n",
    "                             class_weight='balanced',\n",
    "                             dual=False,\n",
    "                             fit_intercept=True,\n",
    "                             intercept_scaling=1,\n",
    "                             l1_ratio=None,\n",
    "                             max_iter=50,\n",
    "                             multi_class='auto',\n",
    "                             n_jobs=None,\n",
    "                             penalty='l2',\n",
    "                             random_state=42,\n",
    "                             solver='liblinear',\n",
    "                             tol=0.001,\n",
    "                             verbose=0,\n",
    "                             warm_start=False)"
   ]
  },
  {
   "cell_type": "code",
   "execution_count": 46,
   "metadata": {
    "execution": {
     "iopub.execute_input": "2020-11-28T18:34:30.191744Z",
     "iopub.status.busy": "2020-11-28T18:34:30.190951Z",
     "iopub.status.idle": "2020-11-28T18:34:30.194436Z",
     "shell.execute_reply": "2020-11-28T18:34:30.193862Z"
    },
    "papermill": {
     "duration": 0.084441,
     "end_time": "2020-11-28T18:34:30.194554",
     "exception": false,
     "start_time": "2020-11-28T18:34:30.110113",
     "status": "completed"
    },
    "tags": []
   },
   "outputs": [],
   "source": [
    "model_4 = LogisticRegression(random_state=random_seed, \n",
    "                             C=2.8, \n",
    "                             class_weight='balanced', \n",
    "                             dual=False, \n",
    "                             fit_intercept=True, \n",
    "                             intercept_scaling=1, \n",
    "                             l1_ratio=None,\n",
    "                             max_iter = 1000,\n",
    "                             multi_class='auto', \n",
    "                             n_jobs=None, \n",
    "                             penalty='l1', \n",
    "                             solver='saga',\n",
    "                             tol = 0.001,\n",
    "                             verbose=0, \n",
    "                             warm_start=False)"
   ]
  },
  {
   "cell_type": "code",
   "execution_count": 47,
   "metadata": {
    "execution": {
     "iopub.execute_input": "2020-11-28T18:34:30.346866Z",
     "iopub.status.busy": "2020-11-28T18:34:30.346191Z",
     "iopub.status.idle": "2020-11-28T18:34:30.348863Z",
     "shell.execute_reply": "2020-11-28T18:34:30.348257Z"
    },
    "papermill": {
     "duration": 0.081123,
     "end_time": "2020-11-28T18:34:30.348969",
     "exception": false,
     "start_time": "2020-11-28T18:34:30.267846",
     "status": "completed"
    },
    "tags": []
   },
   "outputs": [],
   "source": [
    "model_5 = LogisticRegression(random_state=random_seed, \n",
    "                             C=100, \n",
    "                             class_weight='balanced', \n",
    "                             dual=False, \n",
    "                             fit_intercept=True, \n",
    "                             intercept_scaling=1, \n",
    "                             l1_ratio=None,\n",
    "                             max_iter = 1000,\n",
    "                             multi_class='auto', \n",
    "                             n_jobs=None, \n",
    "                             penalty='l1', \n",
    "                             solver='liblinear',\n",
    "                             tol = 0.001,\n",
    "                             verbose=0, \n",
    "                             warm_start=False)"
   ]
  },
  {
   "cell_type": "code",
   "execution_count": 48,
   "metadata": {
    "execution": {
     "iopub.execute_input": "2020-11-28T18:34:30.499737Z",
     "iopub.status.busy": "2020-11-28T18:34:30.499092Z",
     "iopub.status.idle": "2020-11-28T18:34:30.502509Z",
     "shell.execute_reply": "2020-11-28T18:34:30.501945Z"
    },
    "papermill": {
     "duration": 0.081471,
     "end_time": "2020-11-28T18:34:30.502629",
     "exception": false,
     "start_time": "2020-11-28T18:34:30.421158",
     "status": "completed"
    },
    "tags": []
   },
   "outputs": [],
   "source": [
    "model_6 = LogisticRegression(random_state=random_seed, \n",
    "                             C=0.28, \n",
    "                             class_weight='balanced', \n",
    "                             dual=False, \n",
    "                             fit_intercept=True, \n",
    "                             intercept_scaling=1, \n",
    "                             l1_ratio=None,\n",
    "                             max_iter = 1000,\n",
    "                             multi_class='auto', \n",
    "                             n_jobs=None, \n",
    "                             penalty='l2', \n",
    "                             solver='liblinear',\n",
    "                             tol = 0.001,\n",
    "                             verbose=0, \n",
    "                             warm_start=False)"
   ]
  },
  {
   "cell_type": "markdown",
   "metadata": {
    "papermill": {
     "duration": 0.072726,
     "end_time": "2020-11-28T18:34:30.648256",
     "exception": false,
     "start_time": "2020-11-28T18:34:30.575530",
     "status": "completed"
    },
    "tags": []
   },
   "source": [
    "Используем «cross_val_score» для k-fold кросс-валидации "
   ]
  },
  {
   "cell_type": "code",
   "execution_count": 49,
   "metadata": {
    "execution": {
     "iopub.execute_input": "2020-11-28T18:34:30.801734Z",
     "iopub.status.busy": "2020-11-28T18:34:30.800811Z",
     "iopub.status.idle": "2020-11-28T18:36:12.756857Z",
     "shell.execute_reply": "2020-11-28T18:36:12.755515Z"
    },
    "papermill": {
     "duration": 102.036431,
     "end_time": "2020-11-28T18:36:12.756997",
     "exception": false,
     "start_time": "2020-11-28T18:34:30.720566",
     "status": "completed"
    },
    "tags": []
   },
   "outputs": [],
   "source": [
    "# Посчитаем метрику F1 для 10 фолдов\n",
    "scores_1 = cross_val_score(model_1, X, y, cv=10, scoring='f1')\n",
    "scores_2 = cross_val_score(model_2, X, y, cv=10, scoring='f1')\n",
    "scores_3 = cross_val_score(model_3, X, y, cv=10, scoring='f1')\n",
    "scores_4 = cross_val_score(model_4, X, y, cv=10, scoring='f1')\n",
    "scores_5 = cross_val_score(model_5, X, y, cv=10, scoring='f1')\n",
    "scores_6 = cross_val_score(model_6, X, y, cv=10, scoring='f1')"
   ]
  },
  {
   "cell_type": "code",
   "execution_count": 50,
   "metadata": {
    "execution": {
     "iopub.execute_input": "2020-11-28T18:36:12.967397Z",
     "iopub.status.busy": "2020-11-28T18:36:12.964199Z",
     "iopub.status.idle": "2020-11-28T18:36:13.241078Z",
     "shell.execute_reply": "2020-11-28T18:36:13.240460Z"
    },
    "papermill": {
     "duration": 0.393301,
     "end_time": "2020-11-28T18:36:13.241181",
     "exception": false,
     "start_time": "2020-11-28T18:36:12.847880",
     "status": "completed"
    },
    "tags": []
   },
   "outputs": [
    {
     "data": {
      "image/png": "[encoded data removed]",
      "text/plain": [
       "<Figure size 720x360 with 1 Axes>"
      ]
     },
     "metadata": {
      "needs_background": "light"
     },
     "output_type": "display_data"
    }
   ],
   "source": [
    "x = np.arange(1,11)\n",
    "\n",
    "fig, ax = plt.subplots(1, 1, figsize = (10,5))\n",
    "plt.plot(x, scores_1, label = 'C = 1.0', linewidth=2)\n",
    "plt.plot(x, scores_2, label = 'C = 46.416/l2', linewidth=2)\n",
    "plt.plot(x, scores_3, label = 'C = 0.023', linewidth=2)\n",
    "plt.plot(x, scores_4, label = 'C = 2.8', linewidth=4)\n",
    "plt.plot(x, scores_5, label = 'C = 46.416/l1', linewidth=2)\n",
    "plt.plot(x, scores_6, label = 'C = 0.28', linewidth=2)\n",
    "\n",
    "plt.legend(loc = 'lower left')\n",
    "plt.title('Кросс-валидация для моделей с разной регуляризацией',\n",
    "          fontsize=16, pad=20)\n",
    "plt.ylabel('Значение F1', fontsize=14)\n",
    "plt.xlabel('Номер фолда', fontsize=14)\n",
    "ax.set_xticks(x)\n",
    "yticks = np.arange(0.32, 0.36, 0.002)\n",
    "ax.set_yticks(yticks)\n",
    "ax.grid(True)"
   ]
  },
  {
   "cell_type": "markdown",
   "metadata": {
    "papermill": {
     "duration": 0.075697,
     "end_time": "2020-11-28T18:36:13.391419",
     "exception": false,
     "start_time": "2020-11-28T18:36:13.315722",
     "status": "completed"
    },
    "tags": []
   },
   "source": [
    "## Submission"
   ]
  },
  {
   "cell_type": "code",
   "execution_count": 51,
   "metadata": {
    "execution": {
     "iopub.execute_input": "2020-11-28T18:36:13.547578Z",
     "iopub.status.busy": "2020-11-28T18:36:13.546872Z",
     "iopub.status.idle": "2020-11-28T18:36:21.728388Z",
     "shell.execute_reply": "2020-11-28T18:36:21.727677Z"
    },
    "papermill": {
     "duration": 8.262864,
     "end_time": "2020-11-28T18:36:21.728511",
     "exception": false,
     "start_time": "2020-11-28T18:36:13.465647",
     "status": "completed"
    },
    "tags": []
   },
   "outputs": [],
   "source": [
    "train_data = df.query('Train == 1').drop(['Train'], axis=1)\n",
    "test_data = df.query('Train == 0').drop(['Train'], axis=1)\n",
    "\n",
    "model = LogisticRegression(random_state=random_seed, \n",
    "                           C=1, \n",
    "                           class_weight='balanced', \n",
    "                           dual=False, \n",
    "                           fit_intercept=True, \n",
    "                           intercept_scaling=1, \n",
    "                           l1_ratio=None, \n",
    "                           multi_class='auto', \n",
    "                           n_jobs=None, \n",
    "                           penalty='l1', \n",
    "                           solver='liblinear', \n",
    "                           verbose=0, \n",
    "                           warm_start=False,\n",
    "                           max_iter=1000)\n",
    "\n",
    "model.fit(X_train, y_train)\n",
    "\n",
    "y_pred_prob = model.predict_proba(X_test)[:, 1]"
   ]
  },
  {
   "cell_type": "code",
   "execution_count": 52,
   "metadata": {
    "execution": {
     "iopub.execute_input": "2020-11-28T18:36:21.919156Z",
     "iopub.status.busy": "2020-11-28T18:36:21.918158Z",
     "iopub.status.idle": "2020-11-28T18:36:22.412323Z",
     "shell.execute_reply": "2020-11-28T18:36:22.411777Z"
    },
    "papermill": {
     "duration": 0.576773,
     "end_time": "2020-11-28T18:36:22.412452",
     "exception": false,
     "start_time": "2020-11-28T18:36:21.835679",
     "status": "completed"
    },
    "tags": []
   },
   "outputs": [],
   "source": [
    "X_test = data_test.drop(['default'], axis=1)\n",
    "y_pred_prob = model.predict_proba(X_test)[:,1]\n",
    "\n",
    "submit = pd.DataFrame(df_test['client_id'])\n",
    "submit['default']=y_pred_prob\n",
    "submit.to_csv('submission.csv', index=False)"
   ]
  }
 ],
 "metadata": {
  "kernelspec": {
   "display_name": "Python 3",
   "language": "python",
   "name": "python3"
  },
  "language_info": {
   "codemirror_mode": {
    "name": "ipython",
    "version": 3
   },
   "file_extension": ".py",
   "mimetype": "text/x-python",
   "name": "python",
   "nbconvert_exporter": "python",
   "pygments_lexer": "ipython3",
   "version": "3.7.6"
  },
  "papermill": {
   "duration": 161.385614,
   "end_time": "2020-11-28T18:36:22.595198",
   "environment_variables": {},
   "exception": null,
   "input_path": "__notebook__.ipynb",
   "output_path": "__notebook__.ipynb",
   "parameters": {},
   "start_time": "2020-11-28T18:33:41.209584",
   "version": "2.1.0"
  }
 },
 "nbformat": 4,
 "nbformat_minor": 4
}
