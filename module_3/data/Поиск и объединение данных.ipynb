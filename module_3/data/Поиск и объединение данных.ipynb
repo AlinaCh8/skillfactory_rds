{
 "cells": [
  {
   "cell_type": "code",
   "execution_count": null,
   "metadata": {},
   "outputs": [],
   "source": [
    "import pandas as pd\n",
    "import requests\n",
    "import json\n",
    "import os"
   ]
  },
  {
   "cell_type": "code",
   "execution_count": null,
   "metadata": {},
   "outputs": [],
   "source": [
    "main_task = pd.read_csv('main_task.csv')\n",
    "kaggle_task = pd.read_csv('kaggle_task.csv')\n",
    "df = kaggle_task.append(main_task, sort=False).reset_index(drop=True)"
   ]
  },
  {
   "cell_type": "code",
   "execution_count": null,
   "metadata": {},
   "outputs": [],
   "source": [
    "# Parsing\n",
    "\n",
    "from lxml import html\n",
    "from bs4 import BeautifulSoup\n",
    "from multiprocessing import Pool\n",
    "from datetime import datetime\n",
    "\n",
    "TRIP_ADVISOR_URL_TEMPLATE = 'https://www.tripadvisor.com{}'\n",
    "\n",
    "\n",
    "def parse_ratings_and_reviews(node, result):\n",
    "    rating_block = node.find('div').findAll('div', recursive=False)[2]\n",
    "    rating_block = rating_block.findAll('div', recursive=False)\n",
    "    if len(rating_block) < 2:\n",
    "        return\n",
    "\n",
    "    ratings = rating_block[1].findAll('div')\n",
    "    for rating in ratings:\n",
    "        spans = rating.findAll('span', recursive=False)\n",
    "        title = spans[1].text.lower()\n",
    "        value = spans[2].find('span').attrs['class'][1].split('_')[1]\n",
    "        result[title] = int(value)\n",
    "\n",
    "\n",
    "def parse_location_and_contact(node):\n",
    "    location_block = node.find('div').find('div')\n",
    "    location_block = location_block.findAll('div', recursive=False)[1]\n",
    "    distance_el = location_block.find('b')\n",
    "    if distance_el is None:\n",
    "        return np.NaN\n",
    "    return float(distance_el.text.split()[0])\n",
    "\n",
    "\n",
    "def parse_details_block(node, result):\n",
    "    if node is None:\n",
    "        return\n",
    "\n",
    "    result['is_verified'] = 1 if node.find(\n",
    "        'span', {'class': 'ui_icon verified-checkmark'}) is not None else 0\n",
    "    result['has_phone_number'] = 1 if node.find(\n",
    "        'a', string='+ Add phone number') is None else 0\n",
    "    result['has_hours'] = 1 if node.find('a',\n",
    "                                         string='+ Add hours') is None else 0\n",
    "    result['has_website'] = 1 if node.find(\n",
    "        'a', string='+ Add website') is None else 0\n",
    "    result['has_menu'] = 1 if node.find('a', string='Menu') is not None else 0\n",
    "\n",
    "\n",
    "def collect_page_data(html, result):\n",
    "    soup = BeautifulSoup(html)\n",
    "    overview_tabs = soup.find('div', {'data-tab': 'TABS_OVERVIEW'})\n",
    "    if overview_tabs is None:\n",
    "        return\n",
    "\n",
    "    overview_columns = overview_tabs.findAll('div', {'class': 'ui_column'})\n",
    "    parse_ratings_and_reviews(overview_columns[0], result)\n",
    "    parse_details_block(overview_columns[1], result)\n",
    "\n",
    "    result['distance'] = parse_location_and_contact(overview_columns[2])\n",
    "    result['has_tcAward'] = 1 if soup.find(\n",
    "        'img', {'class': 'tcAward'}) is not None else 0\n",
    "\n",
    "\n",
    "def current_time():\n",
    "    return datetime.now().strftime(\"%H:%M:%S\")\n",
    "\n",
    "\n",
    "def get_id_from_url(url):\n",
    "    return url.split('-')[2]\n",
    "\n",
    "\n",
    "def parse_site_page(url):\n",
    "    result = {}\n",
    "    result['id_ta'] = get_id_from_url(url)\n",
    "    ta_url = TRIP_ADVISOR_URL_TEMPLATE.format(url)\n",
    "    print(url)\n",
    "    r = requests.get(ta_url, stream=True)\n",
    "    print('Done')\n",
    "    collect_page_data(r.text, result)\n",
    "    return result\n",
    "\n",
    "\n",
    "def process_ta_urls(x):\n",
    "    return x.apply(parse_site_page)"
   ]
  },
  {
   "cell_type": "code",
   "execution_count": null,
   "metadata": {},
   "outputs": [],
   "source": [
    "def parallelize_processing(df, func, n_cores=8):\n",
    "    pool = Pool(n_cores)\n",
    "    df_split = np.array_split(df, n_cores)\n",
    "    df = pd.concat(pool.map(func, df_split))\n",
    "    pool.close()\n",
    "    pool.join()\n",
    "    return df\n",
    "\n",
    "\n",
    "print(\"Started at:\", current_time())\n",
    "\n",
    "start = 0\n",
    "step = 5000\n",
    "stop = 50040\n",
    "n_cores = 16\n",
    "\n",
    "for i in range(start, stop, step):\n",
    "    print('[{}] Getting records {}:{}'.format(current_time(), i, i + step))\n",
    "    pages_data = parallelize_processing(data['URL_TA'][i:i + step],\n",
    "                                        process_ta_urls,\n",
    "                                        n_cores=n_cores)\n",
    "    site_df = pd.DataFrame(pages_data.values.tolist())\n",
    "    site_df.to_csv('ta_data/data_{}-{}.csv'.format(i, i + step))\n",
    "\n",
    "print(\"Finished at:\", current_time())"
   ]
  },
  {
   "cell_type": "code",
   "execution_count": null,
   "metadata": {},
   "outputs": [],
   "source": [
    "# Выгрузим ссылки на страницы в отдельные файлы для работы граббера\n",
    "start = 0\n",
    "step = 5000\n",
    "stop = len(df)\n",
    "\n",
    "for i in range(start, stop, step):\n",
    "    df[['ID_TA', 'URL_TA'\n",
    "        ]][i:i + step].to_csv('./data/urls/urls_{}-{}.csv'.format(i, i + step),\n",
    "                              header=False)"
   ]
  },
  {
   "cell_type": "code",
   "execution_count": null,
   "metadata": {},
   "outputs": [],
   "source": []
  },
  {
   "cell_type": "code",
   "execution_count": null,
   "metadata": {},
   "outputs": [],
   "source": [
    "main_task = pd.read_csv(\n",
    "    '/Users/fancier/Downloads/skillfactory_rds-master/module_03/kaggle/grabber_data_50000/urls/urls_0-5000.csv'\n",
    ")\n",
    "main_task"
   ]
  },
  {
   "cell_type": "code",
   "execution_count": null,
   "metadata": {},
   "outputs": [],
   "source": [
    "main_task.info()"
   ]
  },
  {
   "cell_type": "code",
   "execution_count": null,
   "metadata": {
    "scrolled": true
   },
   "outputs": [],
   "source": [
    "# Превратим набор JSON-файлов в CSV-формат для дальнейшего удобства рабты с ними\n",
    "pieces = []\n",
    "\n",
    "for dirname, _, filenames in os.walk(\n",
    "        '/Users/fancier/Downloads/skillfactory_rds-master/module_03/kaggle/grabber_data_50000/ta_data'\n",
    "):\n",
    "    for filename in filenames:\n",
    "        if not filename.endswith('.json'):\n",
    "            continue\n",
    "\n",
    "        with open(os.path.join(dirname, filename)) as f:\n",
    "            data_pieces = json.load(f)\n",
    "            pieces.append(pd.DataFrame(data_pieces))\n",
    "\n",
    "data_tripadvisor = pd.concat(pieces, ignore_index=True)\n",
    "data_tripadvisor.info()\n",
    "data_tripadvisor.sample(10)"
   ]
  },
  {
   "cell_type": "code",
   "execution_count": null,
   "metadata": {},
   "outputs": [],
   "source": [
    "for col in data_tripadvisor.columns:\n",
    "    pct_missing = np.mean(data_tripadvisor[col].isnull())\n",
    "    print('{} - {}%'.format(col, round(pct_missing * 100)))"
   ]
  },
  {
   "cell_type": "code",
   "execution_count": null,
   "metadata": {},
   "outputs": [],
   "source": [
    "data_tripadvisor.fillna(\n",
    "    {\n",
    "        'food': 0,\n",
    "        'service': 0,\n",
    "        'value': 0,\n",
    "        'is_verified': 0,\n",
    "        'has_phone_number': 0,\n",
    "        'has_hours': 0,\n",
    "        'has_website': 0,\n",
    "        'has_menu': 0,\n",
    "        'has_tcAward': 0\n",
    "    },\n",
    "    inplace=True)\n",
    "\n",
    "data_tripadvisor.info()"
   ]
  },
  {
   "cell_type": "code",
   "execution_count": null,
   "metadata": {},
   "outputs": [],
   "source": [
    "data_tripadvisor['has_tcAward'].value_counts()"
   ]
  },
  {
   "cell_type": "code",
   "execution_count": null,
   "metadata": {},
   "outputs": [],
   "source": [
    "data_tripadvisor['distance_isNAN'] = pd.isna(\n",
    "    data_tripadvisor['distance']).astype('uint8')\n",
    "data_tripadvisor.fillna({'distance': data_tripadvisor['distance'].median()},\n",
    "                        inplace=True)"
   ]
  },
  {
   "cell_type": "code",
   "execution_count": null,
   "metadata": {},
   "outputs": [],
   "source": [
    "len(data_tripadvisor)"
   ]
  },
  {
   "cell_type": "code",
   "execution_count": null,
   "metadata": {},
   "outputs": [],
   "source": [
    "for col in data_tripadvisor.columns:\n",
    "    print(\n",
    "        '\\nColumn Name:',\n",
    "        col,\n",
    "    )\n",
    "    print(data_tripadvisor[col].value_counts())"
   ]
  },
  {
   "cell_type": "code",
   "execution_count": null,
   "metadata": {
    "scrolled": true
   },
   "outputs": [],
   "source": [
    "data_tripadvisor.drop(\n",
    "    columns=['id', 'ta_url', 'is_verified', 'has_menu', 'atmosphere'],\n",
    "    inplace=True)\n",
    "data_tripadvisor.info()"
   ]
  },
  {
   "cell_type": "code",
   "execution_count": null,
   "metadata": {},
   "outputs": [],
   "source": [
    "data_tripadvisor.columns"
   ]
  },
  {
   "cell_type": "code",
   "execution_count": null,
   "metadata": {},
   "outputs": [],
   "source": [
    "data_tripadvisor.columns = [\n",
    "    'ID_TA', 'Food', 'Service', 'Value', 'Phone_Number', 'Hours', 'Website',\n",
    "    'Distance', 'Award', 'Distance_isNAN'\n",
    "]"
   ]
  },
  {
   "cell_type": "code",
   "execution_count": null,
   "metadata": {},
   "outputs": [],
   "source": [
    "data_tripadvisor"
   ]
  },
  {
   "cell_type": "code",
   "execution_count": null,
   "metadata": {},
   "outputs": [],
   "source": [
    "data_tripadvisor.to_csv('./data/data_tripadvisor_info.csv', index=False)"
   ]
  },
  {
   "cell_type": "code",
   "execution_count": null,
   "metadata": {},
   "outputs": [],
   "source": [
    "# заведем словарь для гоордов с новыми данными [кол-во тыс. туристов, место в рейтенге благосостояния] по данным из wiki\n",
    "city_info = {\n",
    "    'London' : [19233, 14],\n",
    "    'Paris' : [17560, 18],\n",
    "    'Madrid' : [5440, 19],\n",
    "    'Barcelona' : [6714, 19],\n",
    "    'Berlin' : [5959, 15],\n",
    "    'Milan' : [6481, 24],\n",
    "    'Rome' : [10065, 24],\n",
    "    'Prague' : [8949, 22],\n",
    "    'Lisbon' : [3539, 29],\n",
    "    'Vienna' : [6410, 2],\n",
    "    'Amsterdam' : [8354, 7],\n",
    "    'Brussels' : [3942, 13],\n",
    "    'Hamburg' : [1450, 15],\n",
    "    'Munich' : [4067, 15],\n",
    "    'Lyon' : [6000, 18],\n",
    "    'Stockholm' : [2605, 8],\n",
    "    'Budapest' : [3823, 31],\n",
    "    'Warsaw' : [2850, 27],\n",
    "    'Dublin' : [5213, 16],\n",
    "    'Copenhagen' : [3070, 5],\n",
    "    'Athens' : [5728, 36],\n",
    "    'Edinburgh' : [1660, 14],\n",
    "    'Zurich' : [2240, 6],\n",
    "    'Oporto' : [2341, 29],\n",
    "    'Geneva' : [1150, 6],\n",
    "    'Krakow' : [2732, 27],\n",
    "    'Oslo' : [1400, 1],\n",
    "    'Helsinki' : [1240, 9],\n",
    "    'Bratislava' : [126, 26],\n",
    "    'Luxembourg' : [1139, 11],\n",
    "    'Ljubljana' : [5900, 20]\n",
    "}"
   ]
  },
  {
   "cell_type": "code",
   "execution_count": null,
   "metadata": {},
   "outputs": [],
   "source": [
    "city_info['Ljubljana'][0]"
   ]
  },
  {
   "cell_type": "code",
   "execution_count": null,
   "metadata": {},
   "outputs": [],
   "source": [
    "tourists = data.City.apply(lambda x: th[x][0])\n",
    "tourists.name = 'tourists'"
   ]
  },
  {
   "cell_type": "code",
   "execution_count": null,
   "metadata": {},
   "outputs": [],
   "source": [
    "city"
   ]
  },
  {
   "cell_type": "code",
   "execution_count": null,
   "metadata": {},
   "outputs": [],
   "source": [
    "city = pd.read_csv('cities.csv')\n",
    "#city['tourists'] = city['City'].apply(lambda x: city_info.get(x))"
   ]
  },
  {
   "cell_type": "code",
   "execution_count": null,
   "metadata": {},
   "outputs": [],
   "source": [
    "city_info = pd.DataFrame(city_info).T"
   ]
  },
  {
   "cell_type": "code",
   "execution_count": null,
   "metadata": {},
   "outputs": [],
   "source": [
    "city_info.columns = [\n",
    "    'Number_of_Tourists', 'Index_Happy', 'age', 'address', 'famsize',\n",
    "    'parents_status', 'mum_edu', 'father_edu', 'mum_job', 'father_job',\n",
    "    'reason', 'guardian', 'traveltime', 'studytime', 'failures', 'schoolsup',\n",
    "    'famsup', 'paid', 'activities', 'nursery', 'higher', 'internet',\n",
    "    'romantic', 'famrel', 'freetime', 'goout', 'health', 'absences', 'score'\n",
    "]"
   ]
  },
  {
   "cell_type": "code",
   "execution_count": null,
   "metadata": {},
   "outputs": [],
   "source": [
    "import xlwings as xw\n",
    "import pandas as pd\n",
    "\n",
    "inn = xw.Book('0d9fffcb-ca81-5ee9-8a43-44151c7463dc.xls')\n",
    "data_excel = inn.sheets['Данные']\n",
    "data_pd = data_excel.range('A1:D7').options(pd.DataFrame,\n",
    "                                            header=1,\n",
    "                                            index=False).value\n",
    "print(data_pd)"
   ]
  },
  {
   "cell_type": "markdown",
   "metadata": {},
   "source": [
    "https://www.innovation-cities.com/index-2019-global-city-rankings/18842/"
   ]
  },
  {
   "cell_type": "code",
   "execution_count": null,
   "metadata": {},
   "outputs": [],
   "source": [
    "inn = pd.read_csv('Innovation_Cities_Index.csv')"
   ]
  }
 ],
 "metadata": {
  "kernelspec": {
   "display_name": "Python 3",
   "language": "python",
   "name": "python3"
  },
  "language_info": {
   "codemirror_mode": {
    "name": "ipython",
    "version": 3
   },
   "file_extension": ".py",
   "mimetype": "text/x-python",
   "name": "python",
   "nbconvert_exporter": "python",
   "pygments_lexer": "ipython3",
   "version": "3.7.6"
  },
  "varInspector": {
   "cols": {
    "lenName": 16,
    "lenType": 16,
    "lenVar": 40
   },
   "kernels_config": {
    "python": {
     "delete_cmd_postfix": "",
     "delete_cmd_prefix": "del ",
     "library": "var_list.py",
     "varRefreshCmd": "print(var_dic_list())"
    },
    "r": {
     "delete_cmd_postfix": ") ",
     "delete_cmd_prefix": "rm(",
     "library": "var_list.r",
     "varRefreshCmd": "cat(var_dic_list()) "
    }
   },
   "types_to_exclude": [
    "module",
    "function",
    "builtin_function_or_method",
    "instance",
    "_Feature"
   ],
   "window_display": false
  }
 },
 "nbformat": 4,
 "nbformat_minor": 4
}
