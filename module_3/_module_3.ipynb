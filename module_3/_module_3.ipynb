{
 "cells": [
  {
   "cell_type": "markdown",
   "metadata": {},
   "source": [
    "# Проект 3. О вкусной и здоровой пище\n",
    "\n",
    "в этом модуле вы будете работать с датасетом, содержащим сведения о 40 000 ресторанах Европы, а модель, которую вы будете обучать, должна будет предсказывать рейтинг ресторана по данным сайта TripAdvisor на основе имеющихся в датасете данных.\n",
    "\n",
    "Первоначальная версия датасета состоит из десяти столбцов, содержащих следующую информацию:\n",
    "\n",
    "1. Restaurant_id — идентификационный номер ресторана / сети ресторанов;\n",
    "\n",
    "2. City — город, в котором находится ресторан;\n",
    "\n",
    "3. Cuisine Style — кухня или кухни, к которым можно отнести блюда, предлагаемые в ресторане;\n",
    "\n",
    "4. Ranking — место, которое занимает данный ресторан среди всех ресторанов своего города;\n",
    "\n",
    "5. Rating — рейтинг ресторана по данным TripAdvisor (именно это значение должна будет предсказывать модель);\n",
    "\n",
    "6. Price Range — диапазон цен в ресторане;\n",
    "\n",
    "7. Number of Reviews — количество отзывов о ресторане;\n",
    "\n",
    "8. Reviews — данные о двух отзывах, которые отображаются на сайте ресторана;\n",
    "\n",
    "9. URL_TA — URL страницы ресторана на TripAdvosor;\n",
    "\n",
    "10. ID_TA — идентификатор ресторана в базе данных TripAdvisor."
   ]
  },
  {
   "cell_type": "markdown",
   "metadata": {},
   "source": [
    "## Подключение модулей и чтение файла"
   ]
  },
  {
   "cell_type": "code",
   "execution_count": 1,
   "metadata": {},
   "outputs": [],
   "source": [
    "# импорт необходимых пакетов\n",
    "import pandas as pd\n",
    "import numpy as np\n",
    "import matplotlib.pyplot as plt\n",
    "import seaborn as sns\n",
    "import matplotlib.ticker as ticker\n",
    "import re\n",
    "from datetime import datetime, timedelta\n",
    "from collections import Counter\n",
    "\n",
    "pd.set_option('display.max_rows', 50)  # показывать больше строк\n",
    "pd.set_option('display.max_columns', 50)  # показывать больше колонок\n",
    "\n",
    "main_task = pd.read_csv('main_task.csv')  # чтение данных из CSV файла"
   ]
  },
  {
   "cell_type": "markdown",
   "metadata": {},
   "source": [
    "## Просмотр данных и получение информации о них"
   ]
  },
  {
   "cell_type": "code",
   "execution_count": 2,
   "metadata": {
    "scrolled": false
   },
   "outputs": [
    {
     "data": {
      "text/html": [
       "<div>\n",
       "<style scoped>\n",
       "    .dataframe tbody tr th:only-of-type {\n",
       "        vertical-align: middle;\n",
       "    }\n",
       "\n",
       "    .dataframe tbody tr th {\n",
       "        vertical-align: top;\n",
       "    }\n",
       "\n",
       "    .dataframe thead th {\n",
       "        text-align: right;\n",
       "    }\n",
       "</style>\n",
       "<table border=\"1\" class=\"dataframe\">\n",
       "  <thead>\n",
       "    <tr style=\"text-align: right;\">\n",
       "      <th></th>\n",
       "      <th>Restaurant_id</th>\n",
       "      <th>City</th>\n",
       "      <th>Cuisine Style</th>\n",
       "      <th>Ranking</th>\n",
       "      <th>Rating</th>\n",
       "      <th>Price Range</th>\n",
       "      <th>Number of Reviews</th>\n",
       "      <th>Reviews</th>\n",
       "      <th>URL_TA</th>\n",
       "      <th>ID_TA</th>\n",
       "    </tr>\n",
       "  </thead>\n",
       "  <tbody>\n",
       "    <tr>\n",
       "      <th>0</th>\n",
       "      <td>id_5569</td>\n",
       "      <td>Paris</td>\n",
       "      <td>['European', 'French', 'International']</td>\n",
       "      <td>5570.0</td>\n",
       "      <td>3.5</td>\n",
       "      <td>$$ - $$$</td>\n",
       "      <td>194.0</td>\n",
       "      <td>[['Good food at your doorstep', 'A good hotel ...</td>\n",
       "      <td>/Restaurant_Review-g187147-d1912643-Reviews-R_...</td>\n",
       "      <td>d1912643</td>\n",
       "    </tr>\n",
       "    <tr>\n",
       "      <th>1</th>\n",
       "      <td>id_1535</td>\n",
       "      <td>Stockholm</td>\n",
       "      <td>NaN</td>\n",
       "      <td>1537.0</td>\n",
       "      <td>4.0</td>\n",
       "      <td>NaN</td>\n",
       "      <td>10.0</td>\n",
       "      <td>[['Unique cuisine', 'Delicious Nepalese food']...</td>\n",
       "      <td>/Restaurant_Review-g189852-d7992032-Reviews-Bu...</td>\n",
       "      <td>d7992032</td>\n",
       "    </tr>\n",
       "    <tr>\n",
       "      <th>2</th>\n",
       "      <td>id_352</td>\n",
       "      <td>London</td>\n",
       "      <td>['Japanese', 'Sushi', 'Asian', 'Grill', 'Veget...</td>\n",
       "      <td>353.0</td>\n",
       "      <td>4.5</td>\n",
       "      <td>$$$$</td>\n",
       "      <td>688.0</td>\n",
       "      <td>[['Catch up with friends', 'Not exceptional'],...</td>\n",
       "      <td>/Restaurant_Review-g186338-d8632781-Reviews-RO...</td>\n",
       "      <td>d8632781</td>\n",
       "    </tr>\n",
       "    <tr>\n",
       "      <th>3</th>\n",
       "      <td>id_3456</td>\n",
       "      <td>Berlin</td>\n",
       "      <td>NaN</td>\n",
       "      <td>3458.0</td>\n",
       "      <td>5.0</td>\n",
       "      <td>NaN</td>\n",
       "      <td>3.0</td>\n",
       "      <td>[[], []]</td>\n",
       "      <td>/Restaurant_Review-g187323-d1358776-Reviews-Es...</td>\n",
       "      <td>d1358776</td>\n",
       "    </tr>\n",
       "    <tr>\n",
       "      <th>4</th>\n",
       "      <td>id_615</td>\n",
       "      <td>Munich</td>\n",
       "      <td>['German', 'Central European', 'Vegetarian Fri...</td>\n",
       "      <td>621.0</td>\n",
       "      <td>4.0</td>\n",
       "      <td>$$ - $$$</td>\n",
       "      <td>84.0</td>\n",
       "      <td>[['Best place to try a Bavarian food', 'Nice b...</td>\n",
       "      <td>/Restaurant_Review-g187309-d6864963-Reviews-Au...</td>\n",
       "      <td>d6864963</td>\n",
       "    </tr>\n",
       "  </tbody>\n",
       "</table>\n",
       "</div>"
      ],
      "text/plain": [
       "  Restaurant_id       City                                      Cuisine Style  \\\n",
       "0       id_5569      Paris            ['European', 'French', 'International']   \n",
       "1       id_1535  Stockholm                                                NaN   \n",
       "2        id_352     London  ['Japanese', 'Sushi', 'Asian', 'Grill', 'Veget...   \n",
       "3       id_3456     Berlin                                                NaN   \n",
       "4        id_615     Munich  ['German', 'Central European', 'Vegetarian Fri...   \n",
       "\n",
       "   Ranking  Rating Price Range  Number of Reviews  \\\n",
       "0   5570.0     3.5    $$ - $$$              194.0   \n",
       "1   1537.0     4.0         NaN               10.0   \n",
       "2    353.0     4.5        $$$$              688.0   \n",
       "3   3458.0     5.0         NaN                3.0   \n",
       "4    621.0     4.0    $$ - $$$               84.0   \n",
       "\n",
       "                                             Reviews  \\\n",
       "0  [['Good food at your doorstep', 'A good hotel ...   \n",
       "1  [['Unique cuisine', 'Delicious Nepalese food']...   \n",
       "2  [['Catch up with friends', 'Not exceptional'],...   \n",
       "3                                           [[], []]   \n",
       "4  [['Best place to try a Bavarian food', 'Nice b...   \n",
       "\n",
       "                                              URL_TA     ID_TA  \n",
       "0  /Restaurant_Review-g187147-d1912643-Reviews-R_...  d1912643  \n",
       "1  /Restaurant_Review-g189852-d7992032-Reviews-Bu...  d7992032  \n",
       "2  /Restaurant_Review-g186338-d8632781-Reviews-RO...  d8632781  \n",
       "3  /Restaurant_Review-g187323-d1358776-Reviews-Es...  d1358776  \n",
       "4  /Restaurant_Review-g187309-d6864963-Reviews-Au...  d6864963  "
      ]
     },
     "execution_count": 2,
     "metadata": {},
     "output_type": "execute_result"
    }
   ],
   "source": [
    "main_task.head()"
   ]
  },
  {
   "cell_type": "markdown",
   "metadata": {},
   "source": [
    "Для удобства работы переименуем столбцы, имеющие в названии несколько слов, так, чтобы в них отсутствовали проблы:"
   ]
  },
  {
   "cell_type": "code",
   "execution_count": 3,
   "metadata": {},
   "outputs": [
    {
     "data": {
      "text/html": [
       "<div>\n",
       "<style scoped>\n",
       "    .dataframe tbody tr th:only-of-type {\n",
       "        vertical-align: middle;\n",
       "    }\n",
       "\n",
       "    .dataframe tbody tr th {\n",
       "        vertical-align: top;\n",
       "    }\n",
       "\n",
       "    .dataframe thead th {\n",
       "        text-align: right;\n",
       "    }\n",
       "</style>\n",
       "<table border=\"1\" class=\"dataframe\">\n",
       "  <thead>\n",
       "    <tr style=\"text-align: right;\">\n",
       "      <th></th>\n",
       "      <th>Restaurant_id</th>\n",
       "      <th>City</th>\n",
       "      <th>Cuisine_Style</th>\n",
       "      <th>Ranking</th>\n",
       "      <th>Rating</th>\n",
       "      <th>Price_Range</th>\n",
       "      <th>Number_of_Reviews</th>\n",
       "      <th>Reviews</th>\n",
       "      <th>URL_TA</th>\n",
       "      <th>ID_TA</th>\n",
       "    </tr>\n",
       "  </thead>\n",
       "  <tbody>\n",
       "    <tr>\n",
       "      <th>20745</th>\n",
       "      <td>id_1511</td>\n",
       "      <td>Amsterdam</td>\n",
       "      <td>['French', 'Mediterranean', 'Bar', 'European',...</td>\n",
       "      <td>1514.0</td>\n",
       "      <td>3.5</td>\n",
       "      <td>$$ - $$$</td>\n",
       "      <td>234.0</td>\n",
       "      <td>[[\"Cocktail o'clock\", 'Better than reviews led...</td>\n",
       "      <td>/Restaurant_Review-g188590-d8369026-Reviews-Ca...</td>\n",
       "      <td>d8369026</td>\n",
       "    </tr>\n",
       "  </tbody>\n",
       "</table>\n",
       "</div>"
      ],
      "text/plain": [
       "      Restaurant_id       City  \\\n",
       "20745       id_1511  Amsterdam   \n",
       "\n",
       "                                           Cuisine_Style  Ranking  Rating  \\\n",
       "20745  ['French', 'Mediterranean', 'Bar', 'European',...   1514.0     3.5   \n",
       "\n",
       "      Price_Range  Number_of_Reviews  \\\n",
       "20745    $$ - $$$              234.0   \n",
       "\n",
       "                                                 Reviews  \\\n",
       "20745  [[\"Cocktail o'clock\", 'Better than reviews led...   \n",
       "\n",
       "                                                  URL_TA     ID_TA  \n",
       "20745  /Restaurant_Review-g188590-d8369026-Reviews-Ca...  d8369026  "
      ]
     },
     "execution_count": 3,
     "metadata": {},
     "output_type": "execute_result"
    }
   ],
   "source": [
    "main_task = main_task.rename(columns={\n",
    "    'Cuisine Style': 'Cuisine_Style',\n",
    "    'Price Range': 'Price_Range',\n",
    "    'Number of Reviews': 'Number_of_Reviews'\n",
    "})\n",
    "main_task.sample()"
   ]
  },
  {
   "cell_type": "code",
   "execution_count": 4,
   "metadata": {},
   "outputs": [
    {
     "name": "stdout",
     "output_type": "stream",
     "text": [
      "<class 'pandas.core.frame.DataFrame'>\n",
      "RangeIndex: 40000 entries, 0 to 39999\n",
      "Data columns (total 10 columns):\n",
      " #   Column             Non-Null Count  Dtype  \n",
      "---  ------             --------------  -----  \n",
      " 0   Restaurant_id      40000 non-null  object \n",
      " 1   City               40000 non-null  object \n",
      " 2   Cuisine_Style      30717 non-null  object \n",
      " 3   Ranking            40000 non-null  float64\n",
      " 4   Rating             40000 non-null  float64\n",
      " 5   Price_Range        26114 non-null  object \n",
      " 6   Number_of_Reviews  37457 non-null  float64\n",
      " 7   Reviews            40000 non-null  object \n",
      " 8   URL_TA             40000 non-null  object \n",
      " 9   ID_TA              40000 non-null  object \n",
      "dtypes: float64(3), object(7)\n",
      "memory usage: 3.1+ MB\n"
     ]
    }
   ],
   "source": [
    "main_task.info()"
   ]
  },
  {
   "cell_type": "code",
   "execution_count": 5,
   "metadata": {},
   "outputs": [
    {
     "data": {
      "text/html": [
       "<div>\n",
       "<style scoped>\n",
       "    .dataframe tbody tr th:only-of-type {\n",
       "        vertical-align: middle;\n",
       "    }\n",
       "\n",
       "    .dataframe tbody tr th {\n",
       "        vertical-align: top;\n",
       "    }\n",
       "\n",
       "    .dataframe thead th {\n",
       "        text-align: right;\n",
       "    }\n",
       "</style>\n",
       "<table border=\"1\" class=\"dataframe\">\n",
       "  <thead>\n",
       "    <tr style=\"text-align: right;\">\n",
       "      <th></th>\n",
       "      <th>Ranking</th>\n",
       "      <th>Rating</th>\n",
       "      <th>Number_of_Reviews</th>\n",
       "    </tr>\n",
       "  </thead>\n",
       "  <tbody>\n",
       "    <tr>\n",
       "      <th>count</th>\n",
       "      <td>40000.000000</td>\n",
       "      <td>40000.000000</td>\n",
       "      <td>37457.000000</td>\n",
       "    </tr>\n",
       "    <tr>\n",
       "      <th>mean</th>\n",
       "      <td>3676.028525</td>\n",
       "      <td>3.993037</td>\n",
       "      <td>124.825480</td>\n",
       "    </tr>\n",
       "    <tr>\n",
       "      <th>std</th>\n",
       "      <td>3708.749567</td>\n",
       "      <td>0.668417</td>\n",
       "      <td>295.666352</td>\n",
       "    </tr>\n",
       "    <tr>\n",
       "      <th>min</th>\n",
       "      <td>1.000000</td>\n",
       "      <td>1.000000</td>\n",
       "      <td>2.000000</td>\n",
       "    </tr>\n",
       "    <tr>\n",
       "      <th>25%</th>\n",
       "      <td>973.000000</td>\n",
       "      <td>3.500000</td>\n",
       "      <td>9.000000</td>\n",
       "    </tr>\n",
       "    <tr>\n",
       "      <th>50%</th>\n",
       "      <td>2285.000000</td>\n",
       "      <td>4.000000</td>\n",
       "      <td>33.000000</td>\n",
       "    </tr>\n",
       "    <tr>\n",
       "      <th>75%</th>\n",
       "      <td>5260.000000</td>\n",
       "      <td>4.500000</td>\n",
       "      <td>115.000000</td>\n",
       "    </tr>\n",
       "    <tr>\n",
       "      <th>max</th>\n",
       "      <td>16444.000000</td>\n",
       "      <td>5.000000</td>\n",
       "      <td>9660.000000</td>\n",
       "    </tr>\n",
       "  </tbody>\n",
       "</table>\n",
       "</div>"
      ],
      "text/plain": [
       "            Ranking        Rating  Number_of_Reviews\n",
       "count  40000.000000  40000.000000       37457.000000\n",
       "mean    3676.028525      3.993037         124.825480\n",
       "std     3708.749567      0.668417         295.666352\n",
       "min        1.000000      1.000000           2.000000\n",
       "25%      973.000000      3.500000           9.000000\n",
       "50%     2285.000000      4.000000          33.000000\n",
       "75%     5260.000000      4.500000         115.000000\n",
       "max    16444.000000      5.000000        9660.000000"
      ]
     },
     "execution_count": 5,
     "metadata": {},
     "output_type": "execute_result"
    }
   ],
   "source": [
    "main_task.describe()"
   ]
  },
  {
   "cell_type": "markdown",
   "metadata": {},
   "source": [
    "## Пропуски\n",
    "\n",
    "Тепловая карта пропущенных значений"
   ]
  },
  {
   "cell_type": "code",
   "execution_count": 6,
   "metadata": {
    "scrolled": false
   },
   "outputs": [
    {
     "data": {
      "text/plain": [
       "<AxesSubplot:>"
      ]
     },
     "execution_count": 6,
     "metadata": {},
     "output_type": "execute_result"
    },
    {
     "data": {
      "image/png": "[encoded data removed]",
      "text/plain": [
       "<Figure size 432x288 with 2 Axes>"
      ]
     },
     "metadata": {
      "needs_background": "light"
     },
     "output_type": "display_data"
    }
   ],
   "source": [
    "cols = main_task.columns[:]  # все колонки\n",
    "# определяем цвета\n",
    "# голубой - пропущенные данные, синий - не пропущенные\n",
    "colours = ['#2d548b', '#86a7d6']\n",
    "sns.heatmap(main_task[cols].isnull(), cmap=sns.color_palette(colours))"
   ]
  },
  {
   "cell_type": "markdown",
   "metadata": {},
   "source": [
    "Приведенная выше карта демонстрирует паттерн пропущенных значений для всех признаков набора. По горизонтальной оси расположены признаки, по вертикальной – количество записей/строк. Голубой цвет соответствует пропускам данных."
   ]
  },
  {
   "cell_type": "markdown",
   "metadata": {},
   "source": [
    "## Процентный список пропущенных данных\n",
    "\n",
    "Составим список долей отсутствующих значений для каждого признака:"
   ]
  },
  {
   "cell_type": "code",
   "execution_count": 7,
   "metadata": {},
   "outputs": [
    {
     "name": "stdout",
     "output_type": "stream",
     "text": [
      "Restaurant_id - 0.0%\n",
      "City - 0.0%\n",
      "Cuisine_Style - 23.0%\n",
      "Ranking - 0.0%\n",
      "Rating - 0.0%\n",
      "Price_Range - 35.0%\n",
      "Number_of_Reviews - 6.0%\n",
      "Reviews - 0.0%\n",
      "URL_TA - 0.0%\n",
      "ID_TA - 0.0%\n"
     ]
    }
   ],
   "source": [
    "for col in main_task.columns:\n",
    "    pct_missing = np.mean(main_task[col].isnull())\n",
    "    print('{} - {}%'.format(col, round(pct_missing * 100)))"
   ]
  },
  {
   "cell_type": "markdown",
   "metadata": {},
   "source": [
    "#### Вывод: по трём признакам имеются пропуски: Cuisine Style (23%), Price Range (35%) и Number of Reviews (6%)."
   ]
  },
  {
   "cell_type": "markdown",
   "metadata": {},
   "source": [
    "## Удаление дублей"
   ]
  },
  {
   "cell_type": "code",
   "execution_count": 8,
   "metadata": {
    "scrolled": true
   },
   "outputs": [
    {
     "name": "stdout",
     "output_type": "stream",
     "text": [
      "Количество удалённых строк с совпадением по всем признакам: 0\n"
     ]
    }
   ],
   "source": [
    "# сохраним первоначальное количество строкв в переменную length:\n",
    "length = len(main_task)\n",
    "\n",
    "# удаление совпадений по всем признакам:\n",
    "main_task.drop_duplicates(subset=main_task.columns[:-1], inplace=True)\n",
    "\n",
    "print('Количество удалённых строк с совпадением по всем признакам:',\n",
    "      length - len(main_task))"
   ]
  },
  {
   "cell_type": "code",
   "execution_count": 9,
   "metadata": {},
   "outputs": [
    {
     "data": {
      "text/plain": [
       "[['Good Lebanese food', 'Decent place'], ['07/19/2017', '03/17/2017']]                     2\n",
       "[['Happened to drop in', 'Right for a quick bite'], ['11/30/2016', '06/20/2015']]          2\n",
       "[['Great Food! Wide Variety.', 'Dinner'], ['11/26/2017', '05/23/2017']]                    2\n",
       "[['Very good all around', 'Our first Madrid restaurant'], ['11/20/2017', '10/11/2017']]    2\n",
       "[['The real codido madrileño'], ['03/31/2017']]                                            2\n",
       "Name: Reviews, dtype: int64"
      ]
     },
     "execution_count": 9,
     "metadata": {},
     "output_type": "execute_result"
    }
   ],
   "source": [
    "# проверка на наличие одинаковых отзывов и их просмотр\n",
    "# (нулевая строка — это количество пустых значений):\n",
    "main_task['Reviews'].value_counts()[1:6]"
   ]
  },
  {
   "cell_type": "code",
   "execution_count": 10,
   "metadata": {},
   "outputs": [
    {
     "name": "stdout",
     "output_type": "stream",
     "text": [
      "Количество удалённых строк с совпадением по столбцам «ID_TA» и «Reviews»: 20\n"
     ]
    }
   ],
   "source": [
    "# удаление строк с совпадением по идентификатору ресторана в базе данных TripAdvisor и по отзывам:\n",
    "main_task.drop_duplicates(subset=['ID_TA', 'Reviews'], inplace=True)\n",
    "\n",
    "print('Количество удалённых строк с совпадением по столбцам «ID_TA» и «Reviews»:',\n",
    "      length - len(main_task))"
   ]
  },
  {
   "cell_type": "markdown",
   "metadata": {},
   "source": [
    "Вывод: полностью одинаковые записи отсутствуют. Удалено 20 строк с совпадением по столбцам «ID_TA» и «Reviews», в которых хранятся идентификатор ресторана в базе данных TripAdvisor и данные о двух отзывах, отображающихся на сайте ресторана, соответственно.\n",
    "\n",
    "Наличие нескольких записей c одинаковыми отзывами для одного ресторана выглядит неправдопадобно, поэтому повторяющиеся строки исключены из анализа."
   ]
  },
  {
   "cell_type": "markdown",
   "metadata": {},
   "source": [
    "### Restaurant_id \n",
    "\n",
    "Преобразование значений столбца «Restaurant_id» в числовой тип данных подразумевая, что наименьшее значение «Restaurant_id» соответсвует раннему появлению:"
   ]
  },
  {
   "cell_type": "code",
   "execution_count": 11,
   "metadata": {},
   "outputs": [],
   "source": [
    "# оставим лишь числовое значение:\n",
    "main_task.Restaurant_id = main_task.Restaurant_id.str.replace('id_', '')\n",
    "# преобразуем строки в целочисленный тип данных:\n",
    "main_task.Restaurant_id = [int(x) for x in main_task.Restaurant_id]"
   ]
  },
  {
   "cell_type": "markdown",
   "metadata": {},
   "source": [
    "Создание нового признака «Number_of_Restaurants», в котором будет храниться информация о количестве ресторанов на один «Restaurant_id»:"
   ]
  },
  {
   "cell_type": "code",
   "execution_count": 12,
   "metadata": {},
   "outputs": [],
   "source": [
    "# создание DataFrame со столбцом «Restaurant_id»:\n",
    "df = pd.DataFrame(main_task, columns=['Restaurant_id'])\n",
    "\n",
    "# создание DataFrame «df_new», в котором хранится информация о идентификационном номере ресторана / сети ресторанов\n",
    "# и количестве ресторанов, приходящемся на один такой идентификационный номер:\n",
    "df_new = df['Restaurant_id'].value_counts().to_frame().reset_index().rename(\n",
    "    columns={'index': 'Restaurant_id', 'Restaurant_id': 'Number_of_Restaurants'})\n",
    "\n",
    "# добавление DataFrame «df_new» к основному DataFrame «main_task»:\n",
    "main_task = pd.merge(main_task, df_new, on='Restaurant_id')"
   ]
  },
  {
   "cell_type": "markdown",
   "metadata": {},
   "source": [
    "### ID_TA\n",
    "\n",
    "Преобразование значений столбца «ID_TA» в числовой тип данных с той логикой, что наименьшее значение в этом столбце соответсвует раннему появлению в базе TripAdvisor:"
   ]
  },
  {
   "cell_type": "code",
   "execution_count": 13,
   "metadata": {},
   "outputs": [],
   "source": [
    "main_task.ID_TA = main_task.ID_TA.str.replace('d', '')\n",
    "# преобразуем строки в целочисленный тип данных:\n",
    "main_task.ID_TA = [int(x) for x in main_task.ID_TA]"
   ]
  },
  {
   "cell_type": "markdown",
   "metadata": {},
   "source": [
    "### Price_Range \n",
    "\n",
    "Преобразование значений столбца «Price_Range» в числовой тип данных:"
   ]
  },
  {
   "cell_type": "code",
   "execution_count": 14,
   "metadata": {},
   "outputs": [
    {
     "data": {
      "text/plain": [
       "$$ - $$$    18402\n",
       "$            6276\n",
       "$$$$         1423\n",
       "Name: Price_Range, dtype: int64"
      ]
     },
     "execution_count": 14,
     "metadata": {},
     "output_type": "execute_result"
    }
   ],
   "source": [
    "# просмотр значений в столбце «Price_Range»:\n",
    "main_task['Price_Range'].value_counts()"
   ]
  },
  {
   "cell_type": "code",
   "execution_count": 15,
   "metadata": {
    "scrolled": true
   },
   "outputs": [],
   "source": [
    "# создание словаря для назначения числового значения соответствующей записи:\n",
    "price_range = {\n",
    "    '$': 1,\n",
    "    '$$ - $$$': 2,\n",
    "    '$$$$': 3\n",
    "}\n",
    "# замена в столбце «Price_Range» строк на числа:\n",
    "main_task['Price_Range'] = main_task['Price_Range'].replace(\n",
    "    to_replace=price_range)"
   ]
  },
  {
   "cell_type": "markdown",
   "metadata": {},
   "source": [
    "Заполнение пропусков в столбце «Price_Range» медианой:"
   ]
  },
  {
   "cell_type": "code",
   "execution_count": 16,
   "metadata": {},
   "outputs": [],
   "source": [
    "# вычисление медианы:\n",
    "median_price_range = main_task['Price_Range'].median()\n",
    "# замена:\n",
    "main_task['Price_Range'] = main_task['Price_Range'].fillna(median_price_range)"
   ]
  },
  {
   "cell_type": "code",
   "execution_count": 17,
   "metadata": {
    "scrolled": true
   },
   "outputs": [
    {
     "name": "stdout",
     "output_type": "stream",
     "text": [
      "Количество городов, представленных в наборе данных: 31\n"
     ]
    }
   ],
   "source": [
    "print('Количество городов, представленных в наборе данных:',\n",
    "      len(main_task.City.unique()))"
   ]
  },
  {
   "cell_type": "code",
   "execution_count": 18,
   "metadata": {},
   "outputs": [
    {
     "name": "stdout",
     "output_type": "stream",
     "text": [
      "Количество ресторанов и сетей ресторанов, представленных в наборе данных: 11907\n"
     ]
    }
   ],
   "source": [
    "print('Количество ресторанов и сетей ресторанов, представленных в наборе данных:',\n",
    "      len(main_task.Restaurant_id.unique()))"
   ]
  },
  {
   "cell_type": "markdown",
   "metadata": {},
   "source": [
    "### Cuisine_Style\n",
    "\n",
    "Если в данных отсутствует информация о типах кухонь, то считается, что в этом ресторане предлагается только один тип кухни."
   ]
  },
  {
   "cell_type": "code",
   "execution_count": 19,
   "metadata": {
    "scrolled": true
   },
   "outputs": [
    {
     "name": "stdout",
     "output_type": "stream",
     "text": [
      "В наборе данных представлено 125 кухонь.\n",
      "В наибольшем количестве ресторанов представлена кухня: Vegetarian Friendly\n"
     ]
    }
   ],
   "source": [
    "# Счётчик видов кухонь, встречающихся в данных:\n",
    "cuisine_styles = Counter()\n",
    "for i in main_task['Cuisine_Style'].dropna():\n",
    "    i = i[1:-1].replace(\"'\", \"\").split(', ')\n",
    "    i = [style for style in i if len(i) > 0]\n",
    "    cuisine_styles.update(i)\n",
    "\n",
    "print('В наборе данных представлено', len(cuisine_styles), 'кухонь.')\n",
    "print('В наибольшем количестве ресторанов представлена кухня:',\n",
    "      cuisine_styles.most_common()[0][0])"
   ]
  },
  {
   "cell_type": "code",
   "execution_count": 20,
   "metadata": {
    "scrolled": true
   },
   "outputs": [],
   "source": [
    "# Преобразование строковых значений столбца «Cuisine_Style» в список и заполнение пропусков словом «Local» - местная кухня:\n",
    "main_task['Cuisine_Style'] = main_task['Cuisine_Style'].apply(\n",
    "    lambda x: ['Local'] if pd.isnull(x) else x[1:-1].split(','))"
   ]
  },
  {
   "cell_type": "markdown",
   "metadata": {},
   "source": [
    "Добавление нового признака «Cuisines_Count» (количество кухонь в ресторане):"
   ]
  },
  {
   "cell_type": "code",
   "execution_count": 21,
   "metadata": {},
   "outputs": [
    {
     "name": "stdout",
     "output_type": "stream",
     "text": [
      "Среднее количество кухонь на один ресторан: 2.6\n"
     ]
    }
   ],
   "source": [
    "main_task['Cuisines_Count'] = main_task['Cuisine_Style'].apply(\n",
    "    lambda x: len(x))\n",
    "\n",
    "print('Среднее количество кухонь на один ресторан:',\n",
    "      round(main_task['Cuisines_Count'].mean(), 1))"
   ]
  },
  {
   "cell_type": "markdown",
   "metadata": {},
   "source": [
    "### Dummy variables"
   ]
  },
  {
   "cell_type": "code",
   "execution_count": 22,
   "metadata": {},
   "outputs": [],
   "source": [
    "def get_cuisines_list(main_task):\n",
    "    cuisines = set()\n",
    "    for cuisine in main_task['Cuisine_Style'].dropna().values:\n",
    "        cuisines.update(cuisine)\n",
    "    return cuisines\n",
    "\n",
    "\n",
    "list_of_cuisines = get_cuisines_list(main_task)"
   ]
  },
  {
   "cell_type": "code",
   "execution_count": 23,
   "metadata": {},
   "outputs": [],
   "source": [
    "def count_cuisines_prevalence(data, kit):\n",
    "    cuisines_prevalence = {}\n",
    "    for cuisine in kit:\n",
    "        cuisines_prevalence[cuisine] = 0\n",
    "\n",
    "    for cuisine in data['Cuisine_Style'].dropna().values:\n",
    "        for style in cuisine:\n",
    "            cuisines_prevalence[style] = cuisines_prevalence[style]+1\n",
    "    return cuisines_prevalence\n",
    "\n",
    "\n",
    "prevalence_cuisine = count_cuisines_prevalence(main_task, list_of_cuisines)"
   ]
  },
  {
   "cell_type": "code",
   "execution_count": 24,
   "metadata": {},
   "outputs": [],
   "source": [
    "# выделим две группы кухонь те которые представлены хотя бы в 10% ресторанов и остальные\n",
    "top_cuisines = []\n",
    "low_cuisines = []\n",
    "for cuisine in prevalence_cuisine:\n",
    "    if prevalence_cuisine[cuisine] > len(main_task) * .1:\n",
    "        top_cuisines.append(cuisine)\n",
    "    else:\n",
    "        low_cuisines.append(cuisine)"
   ]
  },
  {
   "cell_type": "code",
   "execution_count": 25,
   "metadata": {},
   "outputs": [],
   "source": [
    "# создадим отдельные признаки для кухонь представленых хотя бы в 10%\n",
    "def top_cuisine_present(x):\n",
    "    return 1 if cuisine in x else 0\n",
    "\n",
    "for cuisine in top_cuisines:\n",
    "    dummy = main_task['Cuisine_Style'].apply(top_cuisine_present)\n",
    "    main_task['Cuisine_' + cuisine] = dummy\n",
    "\n",
    "# для остальных добавим признак Cuisine_Other\n",
    "def is_low_cuisine_present(x):\n",
    "    for cuisine in low_cuisines:\n",
    "        if cuisine in x:\n",
    "            return 1\n",
    "    return 0\n",
    "\n",
    "main_task['Cuisine_Other'] = main_task['Cuisine_Style'].apply(is_low_cuisine_present)"
   ]
  },
  {
   "cell_type": "markdown",
   "metadata": {},
   "source": [
    "### Добавление нового признака «Number_of_City» (количество ресторанов в городе):"
   ]
  },
  {
   "cell_type": "code",
   "execution_count": 26,
   "metadata": {},
   "outputs": [],
   "source": [
    "# создание DataFrame со столбцом «City»:\n",
    "df = pd.DataFrame(main_task, columns=['City'])\n",
    "\n",
    "# создание DataFrame «df_new», в котором хранится информация о городе\n",
    "# и количестве ресторанов, приходящемся на один город (в этой базе данных):\n",
    "df_new = df['City'].value_counts().to_frame().reset_index().rename(\n",
    "    columns={'index': 'City', 'City': 'Number_of_City'})\n",
    "\n",
    "# добавление DataFrame «df_new» к основному DataFrame «main_task»:\n",
    "main_task = pd.merge(main_task, df_new, on='City')"
   ]
  },
  {
   "cell_type": "code",
   "execution_count": 27,
   "metadata": {
    "scrolled": true
   },
   "outputs": [
    {
     "data": {
      "text/plain": [
       "<AxesSubplot:>"
      ]
     },
     "execution_count": 27,
     "metadata": {},
     "output_type": "execute_result"
    },
    {
     "data": {
      "image/png": "[encoded data removed]",
      "text/plain": [
       "<Figure size 432x288 with 1 Axes>"
      ]
     },
     "metadata": {
      "needs_background": "light"
     },
     "output_type": "display_data"
    }
   ],
   "source": [
    "main_task['Number_of_Reviews'].hist(bins=100)"
   ]
  },
  {
   "cell_type": "markdown",
   "metadata": {},
   "source": [
    "### Вычленение дат последних отзывов"
   ]
  },
  {
   "cell_type": "code",
   "execution_count": 28,
   "metadata": {},
   "outputs": [],
   "source": [
    "main_task['Date_of_Review'] = main_task['Reviews'].str.findall(\n",
    "    '\\d\\d\\S\\d\\d\\S\\d\\d\\d\\d')"
   ]
  },
  {
   "cell_type": "code",
   "execution_count": 29,
   "metadata": {
    "scrolled": true
   },
   "outputs": [
    {
     "name": "stdout",
     "output_type": "stream",
     "text": [
      "Максимальное количество дней отделяющих даты публикации отзывов, размещённых на сайте ресторана: 3207 days 00:00:00\n"
     ]
    }
   ],
   "source": [
    "main_task['data_1'] = main_task['Date_of_Review'].apply(\n",
    "    lambda x: pd.to_datetime(x[-1]) if len(x) >= 1 else np.NaN)\n",
    "main_task['data_2'] = main_task['Date_of_Review'].apply(\n",
    "    lambda x: (pd.to_datetime(x[0]) if len(x) > 1 else np.NaN))\n",
    "\n",
    "main_task['data_1'] = main_task['data_1'].dt.date\n",
    "main_task['data_2'] = main_task['data_2'].dt.date\n",
    "\n",
    "print('Максимальное количество дней отделяющих даты публикации отзывов, размещённых на сайте ресторана:',\n",
    "      (main_task['data_2']-main_task['data_1']).max())\n",
    "\n",
    "main_task['Days_between_Reviews'] = (\n",
    "    main_task['data_2']-main_task['data_1']).dt.days\n",
    "\n",
    "main_task['data_1'] = main_task['data_1'].fillna(0)\n",
    "main_task['data_2'] = main_task['data_2'].fillna(0)\n",
    "main_task['Days_between_Reviews'] = main_task['Days_between_Reviews'].fillna(0)"
   ]
  },
  {
   "cell_type": "markdown",
   "metadata": {},
   "source": [
    "### Number_of_Reviews"
   ]
  },
  {
   "cell_type": "code",
   "execution_count": 30,
   "metadata": {},
   "outputs": [],
   "source": [
    "# если в столбцах о дате нулевые значения, значит отзывов не было или был всего один отзыв:\n",
    "def replacement(row):\n",
    "    if row.data_1 == 0 and row.data_2 == 0:\n",
    "        return 0\n",
    "    elif row.data_1 != 0 and row.data_2 == 0:\n",
    "        return 1\n",
    "    else:\n",
    "        return row.Number_of_Reviews\n",
    "\n",
    "\n",
    "# поправка и заполнение пропущенных значений:\n",
    "main_task['Number_of_Reviews'] = main_task.apply(\n",
    "    lambda row: replacement(row), axis=1)"
   ]
  },
  {
   "cell_type": "code",
   "execution_count": 31,
   "metadata": {},
   "outputs": [
    {
     "data": {
      "image/png": "[encoded data removed]",
      "text/plain": [
       "<Figure size 432x288 with 1 Axes>"
      ]
     },
     "metadata": {
      "needs_background": "light"
     },
     "output_type": "display_data"
    }
   ],
   "source": [
    "Rating_Reviews = main_task.groupby(['Number_of_Reviews']).Rating.mean().hist()"
   ]
  },
  {
   "cell_type": "markdown",
   "metadata": {},
   "source": [
    "### Создание новых признаков «Multi_Rating» и «Weght_of_Rating»"
   ]
  },
  {
   "cell_type": "code",
   "execution_count": 32,
   "metadata": {},
   "outputs": [],
   "source": [
    "# Создание признака «Multi_Rating»:\n",
    "main_task['Multi_Rating'] = main_task['Ranking'] * \\\n",
    "    main_task['Rating']*main_task['Number_of_Reviews']\n",
    "\n",
    "# Создание признака «Weght_of_Rating»:\n",
    "main_task['Weght_of_Rating'] = main_task['Number_of_Reviews'] * \\\n",
    "    main_task['Rating']"
   ]
  },
  {
   "cell_type": "markdown",
   "metadata": {},
   "source": [
    "### Проверка на нулевые значения"
   ]
  },
  {
   "cell_type": "code",
   "execution_count": 33,
   "metadata": {},
   "outputs": [
    {
     "name": "stdout",
     "output_type": "stream",
     "text": [
      "Restaurant_id                     0\n",
      "City                              0\n",
      "Cuisine_Style                     0\n",
      "Ranking                           0\n",
      "Rating                            0\n",
      "Price_Range                       0\n",
      "Number_of_Reviews                 0\n",
      "Reviews                           0\n",
      "URL_TA                            0\n",
      "ID_TA                             0\n",
      "Number_of_Restaurants             0\n",
      "Cuisines_Count                    0\n",
      "Cuisine_ 'European'               0\n",
      "Cuisine_ 'Vegetarian Friendly'    0\n",
      "Cuisine_ 'Gluten Free Options'    0\n",
      "Cuisine_ 'Mediterranean'          0\n",
      "Cuisine_'Italian'                 0\n",
      "Cuisine_Local                     0\n",
      "Cuisine_ 'Vegan Options'          0\n",
      "Cuisine_Other                     0\n",
      "Number_of_City                    0\n",
      "Date_of_Review                    0\n",
      "data_1                            0\n",
      "data_2                            0\n",
      "Days_between_Reviews              0\n",
      "Multi_Rating                      0\n",
      "Weght_of_Rating                   0\n",
      "dtype: int64\n"
     ]
    }
   ],
   "source": [
    "count_nan = len(main_task) - main_task.count()\n",
    "print(count_nan)"
   ]
  },
  {
   "cell_type": "markdown",
   "metadata": {},
   "source": [
    "### Матрица корреляции"
   ]
  },
  {
   "cell_type": "code",
   "execution_count": 34,
   "metadata": {
    "scrolled": true
   },
   "outputs": [
    {
     "data": {
      "text/plain": [
       "<AxesSubplot:>"
      ]
     },
     "execution_count": 34,
     "metadata": {},
     "output_type": "execute_result"
    },
    {
     "data": {
      "image/png": "[encoded data removed]",
      "text/plain": [
       "<Figure size 1152x432 with 2 Axes>"
      ]
     },
     "metadata": {
      "needs_background": "light"
     },
     "output_type": "display_data"
    }
   ],
   "source": [
    "C = main_task.corr()\n",
    "plt.figure(figsize=(16, 6))\n",
    "sns.heatmap(data=C, annot=True)"
   ]
  },
  {
   "cell_type": "markdown",
   "metadata": {},
   "source": [
    "## Нормализация данных"
   ]
  },
  {
   "cell_type": "code",
   "execution_count": 35,
   "metadata": {},
   "outputs": [
    {
     "name": "stdout",
     "output_type": "stream",
     "text": [
      "['Restaurant_id' 'Ranking' 'Rating' 'Price_Range' 'Number_of_Reviews'\n",
      " 'ID_TA' 'Number_of_Restaurants' 'Cuisines_Count' \"Cuisine_ 'European'\"\n",
      " \"Cuisine_ 'Vegetarian Friendly'\" \"Cuisine_ 'Gluten Free Options'\"\n",
      " \"Cuisine_ 'Mediterranean'\" \"Cuisine_'Italian'\" 'Cuisine_Local'\n",
      " \"Cuisine_ 'Vegan Options'\" 'Cuisine_Other' 'Number_of_City'\n",
      " 'Days_between_Reviews' 'Multi_Rating' 'Weght_of_Rating']\n"
     ]
    }
   ],
   "source": [
    "# Отбор числовых колонок\n",
    "df_numeric = main_task.select_dtypes(include=[np.number])\n",
    "numeric_cols = df_numeric.columns.values\n",
    "print(numeric_cols)"
   ]
  },
  {
   "cell_type": "code",
   "execution_count": 36,
   "metadata": {
    "scrolled": false
   },
   "outputs": [
    {
     "name": "stdout",
     "output_type": "stream",
     "text": [
      "<class 'pandas.core.frame.DataFrame'>\n",
      "Int64Index: 39980 entries, 0 to 39979\n",
      "Data columns (total 11 columns):\n",
      " #   Column                 Non-Null Count  Dtype  \n",
      "---  ------                 --------------  -----  \n",
      " 0   Restaurant_id          39980 non-null  int64  \n",
      " 1   Ranking                39980 non-null  float64\n",
      " 2   Price_Range            39980 non-null  float64\n",
      " 3   Number_of_Reviews      39980 non-null  float64\n",
      " 4   ID_TA                  39980 non-null  int64  \n",
      " 5   Number_of_Restaurants  39980 non-null  int64  \n",
      " 6   Cuisines_Count         39980 non-null  int64  \n",
      " 7   Number_of_City         39980 non-null  int64  \n",
      " 8   Days_between_Reviews   39980 non-null  float64\n",
      " 9   Multi_Rating           39980 non-null  float64\n",
      " 10  Weght_of_Rating        39980 non-null  float64\n",
      "dtypes: float64(6), int64(5)\n",
      "memory usage: 3.7 MB\n"
     ]
    },
    {
     "data": {
      "text/html": [
       "<div>\n",
       "<style scoped>\n",
       "    .dataframe tbody tr th:only-of-type {\n",
       "        vertical-align: middle;\n",
       "    }\n",
       "\n",
       "    .dataframe tbody tr th {\n",
       "        vertical-align: top;\n",
       "    }\n",
       "\n",
       "    .dataframe thead th {\n",
       "        text-align: right;\n",
       "    }\n",
       "</style>\n",
       "<table border=\"1\" class=\"dataframe\">\n",
       "  <thead>\n",
       "    <tr style=\"text-align: right;\">\n",
       "      <th></th>\n",
       "      <th>Restaurant_id</th>\n",
       "      <th>City</th>\n",
       "      <th>Cuisine_Style</th>\n",
       "      <th>Ranking</th>\n",
       "      <th>Rating</th>\n",
       "      <th>Price_Range</th>\n",
       "      <th>Number_of_Reviews</th>\n",
       "      <th>Reviews</th>\n",
       "      <th>URL_TA</th>\n",
       "      <th>ID_TA</th>\n",
       "      <th>Number_of_Restaurants</th>\n",
       "      <th>Cuisines_Count</th>\n",
       "      <th>Cuisine_ 'European'</th>\n",
       "      <th>Cuisine_ 'Vegetarian Friendly'</th>\n",
       "      <th>Cuisine_ 'Gluten Free Options'</th>\n",
       "      <th>Cuisine_ 'Mediterranean'</th>\n",
       "      <th>Cuisine_'Italian'</th>\n",
       "      <th>Cuisine_Local</th>\n",
       "      <th>Cuisine_ 'Vegan Options'</th>\n",
       "      <th>Cuisine_Other</th>\n",
       "      <th>Number_of_City</th>\n",
       "      <th>Date_of_Review</th>\n",
       "      <th>data_1</th>\n",
       "      <th>data_2</th>\n",
       "      <th>Days_between_Reviews</th>\n",
       "      <th>Multi_Rating</th>\n",
       "      <th>Weght_of_Rating</th>\n",
       "    </tr>\n",
       "  </thead>\n",
       "  <tbody>\n",
       "    <tr>\n",
       "      <th>26337</th>\n",
       "      <td>0.048437</td>\n",
       "      <td>Berlin</td>\n",
       "      <td>[Local]</td>\n",
       "      <td>0.048121</td>\n",
       "      <td>4.0</td>\n",
       "      <td>0.287844</td>\n",
       "      <td>-0.335831</td>\n",
       "      <td>[['Cheapest and yummiest Italian food', 'Great...</td>\n",
       "      <td>/Restaurant_Review-g187323-d5529357-Reviews-Pa...</td>\n",
       "      <td>-0.193375</td>\n",
       "      <td>-0.831288</td>\n",
       "      <td>-0.892708</td>\n",
       "      <td>0</td>\n",
       "      <td>0</td>\n",
       "      <td>0</td>\n",
       "      <td>0</td>\n",
       "      <td>0</td>\n",
       "      <td>1</td>\n",
       "      <td>0</td>\n",
       "      <td>0</td>\n",
       "      <td>-0.219732</td>\n",
       "      <td>[10/31/2016, 10/29/2015]</td>\n",
       "      <td>2015-10-29</td>\n",
       "      <td>2016-10-31</td>\n",
       "      <td>1.358640</td>\n",
       "      <td>-0.259825</td>\n",
       "      <td>-0.328288</td>\n",
       "    </tr>\n",
       "    <tr>\n",
       "      <th>13722</th>\n",
       "      <td>-0.879619</td>\n",
       "      <td>Warsaw</td>\n",
       "      <td>['Vegetarian Friendly']</td>\n",
       "      <td>-0.879778</td>\n",
       "      <td>4.5</td>\n",
       "      <td>-2.083471</td>\n",
       "      <td>-0.315039</td>\n",
       "      <td>[['Delicious and authentic', 'Superbe viet foo...</td>\n",
       "      <td>/Restaurant_Review-g274856-d11687457-Reviews-V...</td>\n",
       "      <td>1.370033</td>\n",
       "      <td>1.586814</td>\n",
       "      <td>-0.892708</td>\n",
       "      <td>0</td>\n",
       "      <td>0</td>\n",
       "      <td>0</td>\n",
       "      <td>0</td>\n",
       "      <td>0</td>\n",
       "      <td>0</td>\n",
       "      <td>0</td>\n",
       "      <td>1</td>\n",
       "      <td>-0.986568</td>\n",
       "      <td>[09/13/2017, 05/30/2017]</td>\n",
       "      <td>2017-05-30</td>\n",
       "      <td>2017-09-13</td>\n",
       "      <td>0.078784</td>\n",
       "      <td>-0.403473</td>\n",
       "      <td>-0.298578</td>\n",
       "    </tr>\n",
       "    <tr>\n",
       "      <th>16546</th>\n",
       "      <td>0.254761</td>\n",
       "      <td>London</td>\n",
       "      <td>['Japanese',  'Fast Food',  'Sushi',  'Asian',...</td>\n",
       "      <td>0.255968</td>\n",
       "      <td>4.0</td>\n",
       "      <td>-2.083471</td>\n",
       "      <td>0.329484</td>\n",
       "      <td>[['Sweet chili chicken', 'Promises so much, de...</td>\n",
       "      <td>/Restaurant_Review-g186338-d2265446-Reviews-Wa...</td>\n",
       "      <td>-1.022010</td>\n",
       "      <td>-0.589477</td>\n",
       "      <td>1.308267</td>\n",
       "      <td>0</td>\n",
       "      <td>1</td>\n",
       "      <td>0</td>\n",
       "      <td>0</td>\n",
       "      <td>0</td>\n",
       "      <td>0</td>\n",
       "      <td>0</td>\n",
       "      <td>1</td>\n",
       "      <td>1.714543</td>\n",
       "      <td>[01/03/2018, 11/25/2017]</td>\n",
       "      <td>2017-11-25</td>\n",
       "      <td>2018-01-03</td>\n",
       "      <td>-0.248508</td>\n",
       "      <td>2.100679</td>\n",
       "      <td>0.314443</td>\n",
       "    </tr>\n",
       "  </tbody>\n",
       "</table>\n",
       "</div>"
      ],
      "text/plain": [
       "       Restaurant_id    City  \\\n",
       "26337       0.048437  Berlin   \n",
       "13722      -0.879619  Warsaw   \n",
       "16546       0.254761  London   \n",
       "\n",
       "                                           Cuisine_Style   Ranking  Rating  \\\n",
       "26337                                            [Local]  0.048121     4.0   \n",
       "13722                            ['Vegetarian Friendly'] -0.879778     4.5   \n",
       "16546  ['Japanese',  'Fast Food',  'Sushi',  'Asian',...  0.255968     4.0   \n",
       "\n",
       "       Price_Range  Number_of_Reviews  \\\n",
       "26337     0.287844          -0.335831   \n",
       "13722    -2.083471          -0.315039   \n",
       "16546    -2.083471           0.329484   \n",
       "\n",
       "                                                 Reviews  \\\n",
       "26337  [['Cheapest and yummiest Italian food', 'Great...   \n",
       "13722  [['Delicious and authentic', 'Superbe viet foo...   \n",
       "16546  [['Sweet chili chicken', 'Promises so much, de...   \n",
       "\n",
       "                                                  URL_TA     ID_TA  \\\n",
       "26337  /Restaurant_Review-g187323-d5529357-Reviews-Pa... -0.193375   \n",
       "13722  /Restaurant_Review-g274856-d11687457-Reviews-V...  1.370033   \n",
       "16546  /Restaurant_Review-g186338-d2265446-Reviews-Wa... -1.022010   \n",
       "\n",
       "       Number_of_Restaurants  Cuisines_Count  Cuisine_ 'European'  \\\n",
       "26337              -0.831288       -0.892708                    0   \n",
       "13722               1.586814       -0.892708                    0   \n",
       "16546              -0.589477        1.308267                    0   \n",
       "\n",
       "       Cuisine_ 'Vegetarian Friendly'  Cuisine_ 'Gluten Free Options'  \\\n",
       "26337                               0                               0   \n",
       "13722                               0                               0   \n",
       "16546                               1                               0   \n",
       "\n",
       "       Cuisine_ 'Mediterranean'  Cuisine_'Italian'  Cuisine_Local  \\\n",
       "26337                         0                  0              1   \n",
       "13722                         0                  0              0   \n",
       "16546                         0                  0              0   \n",
       "\n",
       "       Cuisine_ 'Vegan Options'  Cuisine_Other  Number_of_City  \\\n",
       "26337                         0              0       -0.219732   \n",
       "13722                         0              1       -0.986568   \n",
       "16546                         0              1        1.714543   \n",
       "\n",
       "                 Date_of_Review      data_1      data_2  Days_between_Reviews  \\\n",
       "26337  [10/31/2016, 10/29/2015]  2015-10-29  2016-10-31              1.358640   \n",
       "13722  [09/13/2017, 05/30/2017]  2017-05-30  2017-09-13              0.078784   \n",
       "16546  [01/03/2018, 11/25/2017]  2017-11-25  2018-01-03             -0.248508   \n",
       "\n",
       "       Multi_Rating  Weght_of_Rating  \n",
       "26337     -0.259825        -0.328288  \n",
       "13722     -0.403473        -0.298578  \n",
       "16546      2.100679         0.314443  "
      ]
     },
     "execution_count": 36,
     "metadata": {},
     "output_type": "execute_result"
    }
   ],
   "source": [
    "from sklearn.preprocessing import StandardScaler\n",
    "\n",
    "columns_for_scaling = ['Restaurant_id', 'Ranking',\n",
    "                       'Price_Range', 'Number_of_Reviews',\n",
    "                       'ID_TA', 'Number_of_Restaurants',\n",
    "                       'Cuisines_Count', 'Number_of_City',\n",
    "                       'Days_between_Reviews', 'Multi_Rating',\n",
    "                       'Weght_of_Rating']\n",
    "\n",
    "scaled_df = main_task[columns_for_scaling]\n",
    "scaled_df.info()\n",
    "\n",
    "scaler = StandardScaler()\n",
    "scaled = scaler.fit_transform(scaled_df)\n",
    "scaled_df = pd.DataFrame(scaled)\n",
    "scaled_df.columns = columns_for_scaling\n",
    "\n",
    "for col in columns_for_scaling:\n",
    "    main_task[col] = scaled_df[col]\n",
    "\n",
    "main_task.sample(3)"
   ]
  },
  {
   "cell_type": "markdown",
   "metadata": {},
   "source": [
    "### Проверка на нулевые значения"
   ]
  },
  {
   "cell_type": "code",
   "execution_count": 37,
   "metadata": {},
   "outputs": [
    {
     "name": "stdout",
     "output_type": "stream",
     "text": [
      "Restaurant_id                     0\n",
      "City                              0\n",
      "Cuisine_Style                     0\n",
      "Ranking                           0\n",
      "Rating                            0\n",
      "Price_Range                       0\n",
      "Number_of_Reviews                 0\n",
      "Reviews                           0\n",
      "URL_TA                            0\n",
      "ID_TA                             0\n",
      "Number_of_Restaurants             0\n",
      "Cuisines_Count                    0\n",
      "Cuisine_ 'European'               0\n",
      "Cuisine_ 'Vegetarian Friendly'    0\n",
      "Cuisine_ 'Gluten Free Options'    0\n",
      "Cuisine_ 'Mediterranean'          0\n",
      "Cuisine_'Italian'                 0\n",
      "Cuisine_Local                     0\n",
      "Cuisine_ 'Vegan Options'          0\n",
      "Cuisine_Other                     0\n",
      "Number_of_City                    0\n",
      "Date_of_Review                    0\n",
      "data_1                            0\n",
      "data_2                            0\n",
      "Days_between_Reviews              0\n",
      "Multi_Rating                      0\n",
      "Weght_of_Rating                   0\n",
      "dtype: int64\n"
     ]
    }
   ],
   "source": [
    "count_nan = len(main_task) - main_task.count()\n",
    "print(count_nan)"
   ]
  },
  {
   "cell_type": "markdown",
   "metadata": {},
   "source": [
    "### Удаление столбцов, содержащих данные типа object"
   ]
  },
  {
   "cell_type": "code",
   "execution_count": 38,
   "metadata": {
    "scrolled": true
   },
   "outputs": [],
   "source": [
    "df_non_numeric = main_task.select_dtypes(exclude=[np.number])\n",
    "non_numeric_cols = df_non_numeric.columns.values\n",
    "\n",
    "for col in non_numeric_cols:\n",
    "    main_task = main_task.drop([col], axis=1)"
   ]
  },
  {
   "cell_type": "code",
   "execution_count": 39,
   "metadata": {
    "scrolled": false
   },
   "outputs": [
    {
     "data": {
      "text/html": [
       "<div>\n",
       "<style scoped>\n",
       "    .dataframe tbody tr th:only-of-type {\n",
       "        vertical-align: middle;\n",
       "    }\n",
       "\n",
       "    .dataframe tbody tr th {\n",
       "        vertical-align: top;\n",
       "    }\n",
       "\n",
       "    .dataframe thead th {\n",
       "        text-align: right;\n",
       "    }\n",
       "</style>\n",
       "<table border=\"1\" class=\"dataframe\">\n",
       "  <thead>\n",
       "    <tr style=\"text-align: right;\">\n",
       "      <th></th>\n",
       "      <th>Restaurant_id</th>\n",
       "      <th>Ranking</th>\n",
       "      <th>Rating</th>\n",
       "      <th>Price_Range</th>\n",
       "      <th>Number_of_Reviews</th>\n",
       "      <th>ID_TA</th>\n",
       "      <th>Number_of_Restaurants</th>\n",
       "      <th>Cuisines_Count</th>\n",
       "      <th>Cuisine_ 'European'</th>\n",
       "      <th>Cuisine_ 'Vegetarian Friendly'</th>\n",
       "      <th>Cuisine_ 'Gluten Free Options'</th>\n",
       "      <th>Cuisine_ 'Mediterranean'</th>\n",
       "      <th>Cuisine_'Italian'</th>\n",
       "      <th>Cuisine_Local</th>\n",
       "      <th>Cuisine_ 'Vegan Options'</th>\n",
       "      <th>Cuisine_Other</th>\n",
       "      <th>Number_of_City</th>\n",
       "      <th>Days_between_Reviews</th>\n",
       "      <th>Multi_Rating</th>\n",
       "      <th>Weght_of_Rating</th>\n",
       "    </tr>\n",
       "  </thead>\n",
       "  <tbody>\n",
       "    <tr>\n",
       "      <th>0</th>\n",
       "      <td>0.511251</td>\n",
       "      <td>0.510453</td>\n",
       "      <td>3.5</td>\n",
       "      <td>0.287844</td>\n",
       "      <td>0.277506</td>\n",
       "      <td>-1.111579</td>\n",
       "      <td>-0.831288</td>\n",
       "      <td>0.207780</td>\n",
       "      <td>0</td>\n",
       "      <td>0</td>\n",
       "      <td>0</td>\n",
       "      <td>0</td>\n",
       "      <td>0</td>\n",
       "      <td>0</td>\n",
       "      <td>0</td>\n",
       "      <td>1</td>\n",
       "      <td>1.252723</td>\n",
       "      <td>-0.238738</td>\n",
       "      <td>2.044825</td>\n",
       "      <td>0.183051</td>\n",
       "    </tr>\n",
       "    <tr>\n",
       "      <th>1</th>\n",
       "      <td>-0.576740</td>\n",
       "      <td>-0.577038</td>\n",
       "      <td>5.0</td>\n",
       "      <td>-2.083471</td>\n",
       "      <td>-0.391273</td>\n",
       "      <td>-0.123549</td>\n",
       "      <td>0.861384</td>\n",
       "      <td>-0.892708</td>\n",
       "      <td>0</td>\n",
       "      <td>0</td>\n",
       "      <td>0</td>\n",
       "      <td>0</td>\n",
       "      <td>0</td>\n",
       "      <td>0</td>\n",
       "      <td>0</td>\n",
       "      <td>1</td>\n",
       "      <td>1.252723</td>\n",
       "      <td>-0.439021</td>\n",
       "      <td>-0.426432</td>\n",
       "      <td>-0.381012</td>\n",
       "    </tr>\n",
       "    <tr>\n",
       "      <th>2</th>\n",
       "      <td>-0.058636</td>\n",
       "      <td>-0.059172</td>\n",
       "      <td>4.0</td>\n",
       "      <td>0.287844</td>\n",
       "      <td>-0.169502</td>\n",
       "      <td>-1.110612</td>\n",
       "      <td>-0.589477</td>\n",
       "      <td>0.758024</td>\n",
       "      <td>0</td>\n",
       "      <td>1</td>\n",
       "      <td>0</td>\n",
       "      <td>0</td>\n",
       "      <td>0</td>\n",
       "      <td>0</td>\n",
       "      <td>0</td>\n",
       "      <td>1</td>\n",
       "      <td>1.252723</td>\n",
       "      <td>2.804585</td>\n",
       "      <td>0.157042</td>\n",
       "      <td>-0.167605</td>\n",
       "    </tr>\n",
       "    <tr>\n",
       "      <th>3</th>\n",
       "      <td>-0.824869</td>\n",
       "      <td>-0.825053</td>\n",
       "      <td>4.5</td>\n",
       "      <td>0.287844</td>\n",
       "      <td>0.048804</td>\n",
       "      <td>-1.257573</td>\n",
       "      <td>1.828624</td>\n",
       "      <td>0.758024</td>\n",
       "      <td>0</td>\n",
       "      <td>1</td>\n",
       "      <td>0</td>\n",
       "      <td>0</td>\n",
       "      <td>0</td>\n",
       "      <td>0</td>\n",
       "      <td>1</td>\n",
       "      <td>1</td>\n",
       "      <td>1.252723</td>\n",
       "      <td>-0.185003</td>\n",
       "      <td>-0.199145</td>\n",
       "      <td>0.096852</td>\n",
       "    </tr>\n",
       "    <tr>\n",
       "      <th>4</th>\n",
       "      <td>-0.526845</td>\n",
       "      <td>-0.527166</td>\n",
       "      <td>5.0</td>\n",
       "      <td>2.659158</td>\n",
       "      <td>-0.304644</td>\n",
       "      <td>1.603659</td>\n",
       "      <td>0.619574</td>\n",
       "      <td>-0.342464</td>\n",
       "      <td>0</td>\n",
       "      <td>0</td>\n",
       "      <td>0</td>\n",
       "      <td>0</td>\n",
       "      <td>0</td>\n",
       "      <td>0</td>\n",
       "      <td>0</td>\n",
       "      <td>1</td>\n",
       "      <td>1.252723</td>\n",
       "      <td>-0.370632</td>\n",
       "      <td>-0.284974</td>\n",
       "      <td>-0.276401</td>\n",
       "    </tr>\n",
       "  </tbody>\n",
       "</table>\n",
       "</div>"
      ],
      "text/plain": [
       "   Restaurant_id   Ranking  Rating  Price_Range  Number_of_Reviews     ID_TA  \\\n",
       "0       0.511251  0.510453     3.5     0.287844           0.277506 -1.111579   \n",
       "1      -0.576740 -0.577038     5.0    -2.083471          -0.391273 -0.123549   \n",
       "2      -0.058636 -0.059172     4.0     0.287844          -0.169502 -1.110612   \n",
       "3      -0.824869 -0.825053     4.5     0.287844           0.048804 -1.257573   \n",
       "4      -0.526845 -0.527166     5.0     2.659158          -0.304644  1.603659   \n",
       "\n",
       "   Number_of_Restaurants  Cuisines_Count  Cuisine_ 'European'  \\\n",
       "0              -0.831288        0.207780                    0   \n",
       "1               0.861384       -0.892708                    0   \n",
       "2              -0.589477        0.758024                    0   \n",
       "3               1.828624        0.758024                    0   \n",
       "4               0.619574       -0.342464                    0   \n",
       "\n",
       "   Cuisine_ 'Vegetarian Friendly'  Cuisine_ 'Gluten Free Options'  \\\n",
       "0                               0                               0   \n",
       "1                               0                               0   \n",
       "2                               1                               0   \n",
       "3                               1                               0   \n",
       "4                               0                               0   \n",
       "\n",
       "   Cuisine_ 'Mediterranean'  Cuisine_'Italian'  Cuisine_Local  \\\n",
       "0                         0                  0              0   \n",
       "1                         0                  0              0   \n",
       "2                         0                  0              0   \n",
       "3                         0                  0              0   \n",
       "4                         0                  0              0   \n",
       "\n",
       "   Cuisine_ 'Vegan Options'  Cuisine_Other  Number_of_City  \\\n",
       "0                         0              1        1.252723   \n",
       "1                         0              1        1.252723   \n",
       "2                         0              1        1.252723   \n",
       "3                         1              1        1.252723   \n",
       "4                         0              1        1.252723   \n",
       "\n",
       "   Days_between_Reviews  Multi_Rating  Weght_of_Rating  \n",
       "0             -0.238738      2.044825         0.183051  \n",
       "1             -0.439021     -0.426432        -0.381012  \n",
       "2              2.804585      0.157042        -0.167605  \n",
       "3             -0.185003     -0.199145         0.096852  \n",
       "4             -0.370632     -0.284974        -0.276401  "
      ]
     },
     "execution_count": 39,
     "metadata": {},
     "output_type": "execute_result"
    }
   ],
   "source": [
    "main_task.head()"
   ]
  },
  {
   "cell_type": "markdown",
   "metadata": {},
   "source": [
    "# RandomForestRegression"
   ]
  },
  {
   "cell_type": "markdown",
   "metadata": {},
   "source": [
    "## Разбиваем датафрейм на части, необходимые для обучения и тестирования модели"
   ]
  },
  {
   "cell_type": "code",
   "execution_count": 40,
   "metadata": {},
   "outputs": [],
   "source": [
    "# Х - данные с информацией о ресторанах, у - целевая переменная (рейтинги ресторанов)\n",
    "X = main_task.drop(['Restaurant_id', 'Rating'], axis=1)\n",
    "y = main_task['Rating']"
   ]
  },
  {
   "cell_type": "code",
   "execution_count": 41,
   "metadata": {},
   "outputs": [],
   "source": [
    "# Загружаем специальный инструмент для разбивки:\n",
    "from sklearn.model_selection import train_test_split"
   ]
  },
  {
   "cell_type": "code",
   "execution_count": 42,
   "metadata": {},
   "outputs": [],
   "source": [
    "# Наборы данных с меткой \"train\" будут использоваться для обучения модели, \"test\" - для тестирования.\n",
    "# Для тестирования мы будем использовать 25% от исходного датасета.\n",
    "X_train, X_test, y_train, y_test = train_test_split(X, y, test_size=0.25)"
   ]
  },
  {
   "cell_type": "markdown",
   "metadata": {},
   "source": [
    "## Создание, обучение и тестирование модели"
   ]
  },
  {
   "cell_type": "code",
   "execution_count": 43,
   "metadata": {},
   "outputs": [],
   "source": [
    "# Импортируем необходимые библиотеки:\n",
    "# инструмент для создания и обучения модели\n",
    "from sklearn.ensemble import RandomForestRegressor\n",
    "from sklearn import metrics  # инструменты для оценки точности модели\n",
    "\n",
    "# Создаём модель\n",
    "regr = RandomForestRegressor(n_estimators=100)\n",
    "\n",
    "# Обучаем модель на тестовом наборе данных\n",
    "regr.fit(X_train, y_train)\n",
    "\n",
    "# Используем обученную модель для предсказания рейтинга ресторанов в тестовой выборке.\n",
    "# Предсказанные значения записываем в переменную y_pred\n",
    "y_pred = regr.predict(X_test)"
   ]
  },
  {
   "cell_type": "markdown",
   "metadata": {},
   "source": [
    "### Mean Absolute Error (MAE) - метрика, представляющая собой среднее абсолютное значение отклонения предсказанных значений от фактических:\n",
    "\n"
   ]
  },
  {
   "attachments": {
    "image.png": {
     "image/png": "[encoded data removed]"
    }
   },
   "cell_type": "markdown",
   "metadata": {},
   "source": [
    "![image.png](attachment:image.png)"
   ]
  },
  {
   "cell_type": "markdown",
   "metadata": {},
   "source": [
    "Иными словами, если у вас получился результат MAE = 0.5, то это значит, что модель при расчёте рейтинга ошибается в среднем на 0.5 баллов."
   ]
  },
  {
   "cell_type": "code",
   "execution_count": 44,
   "metadata": {},
   "outputs": [
    {
     "name": "stdout",
     "output_type": "stream",
     "text": [
      "MAE: 0.19453026513256627\n"
     ]
    }
   ],
   "source": [
    "# Сравниваем предсказанные значения (y_pred) с реальными (y_test), и смотрим насколько они в среднем отличаются\n",
    "# Метрика называется Mean Absolute Error (MAE) и показывает среднее отклонение предсказанных значений от фактических.\n",
    "print('MAE:', metrics.mean_absolute_error(y_test, y_pred))\n",
    "\n",
    "# MAE до очистки данных: 0.43\n",
    "\n",
    "# MAE: 0.19330065032516253"
   ]
  },
  {
   "cell_type": "code",
   "execution_count": 45,
   "metadata": {},
   "outputs": [],
   "source": [
    "# Импортируем необходимые библиотеки:  \n",
    "from sklearn.ensemble import RandomForestRegressor # инструмент для создания и обучения модели  \n",
    "from sklearn import metrics # инструменты для оценки точности модели  \n",
    "  \n",
    "# Создаём модель  \n",
    "regr = RandomForestRegressor(n_estimators=100)  \n",
    "  \n",
    "# Обучаем модель на тестовом наборе данных  \n",
    "regr.fit(X_train, y_train)  \n",
    "  \n",
    "# Используем обученную модель для предсказания рейтинга ресторанов в тестовой выборке.  \n",
    "# Предсказанные значения записываем в переменную y_pred  \n",
    "y_pred = regr.predict(X_test)"
   ]
  }
 ],
 "metadata": {
  "kernelspec": {
   "display_name": "Python 3",
   "language": "python",
   "name": "python3"
  },
  "language_info": {
   "codemirror_mode": {
    "name": "ipython",
    "version": 3
   },
   "file_extension": ".py",
   "mimetype": "text/x-python",
   "name": "python",
   "nbconvert_exporter": "python",
   "pygments_lexer": "ipython3",
   "version": "3.7.6"
  },
  "varInspector": {
   "cols": {
    "lenName": 16,
    "lenType": 16,
    "lenVar": 40
   },
   "kernels_config": {
    "python": {
     "delete_cmd_postfix": "",
     "delete_cmd_prefix": "del ",
     "library": "var_list.py",
     "varRefreshCmd": "print(var_dic_list())"
    },
    "r": {
     "delete_cmd_postfix": ") ",
     "delete_cmd_prefix": "rm(",
     "library": "var_list.r",
     "varRefreshCmd": "cat(var_dic_list()) "
    }
   },
   "types_to_exclude": [
    "module",
    "function",
    "builtin_function_or_method",
    "instance",
    "_Feature"
   ],
   "window_display": false
  }
 },
 "nbformat": 4,
 "nbformat_minor": 4
}
