{
 "cells": [
  {
   "cell_type": "code",
   "execution_count": 5,
   "metadata": {},
   "outputs": [
    {
     "name": "stdout",
     "output_type": "stream",
     "text": [
      "Ваш алгоритм угадывает число в среднем за {speed} попыток\n"
     ]
    },
    {
     "data": {
      "text/plain": [
       "5"
      ]
     },
     "execution_count": 5,
     "metadata": {},
     "output_type": "execute_result"
    }
   ],
   "source": [
    "# Игра «Угадай число»\n",
    "import numpy as np\n",
    "\n",
    "number_guess = np.random.randint(1,101)  # загадывание числа\n",
    "\n",
    "def guess_the_number(user_number): # функция угадывания числа в диапазоне от 1 до 100\n",
    "    count=0 # счетчик попыток\n",
    "    left=1 # нижняя граница диапозона, в котором находится загаданное число \n",
    "    right=100 # верхняя граница диапозона, в котором находится загаданное число\n",
    "    \n",
    "    while True:\n",
    "        count+=1\n",
    "        user_number=(left+right)//2\n",
    "\n",
    "        if user_number==number_guess:\n",
    "            break # выход из цикла, если число угадано\n",
    "        elif user_number<number_guess:\n",
    "            left=user_number+1\n",
    "        else:\n",
    "            right=user_number-1\n",
    "            \n",
    "    return count\n",
    "\n",
    "\n",
    "def game_speed(guess_the_number):# прогон игры 5000 раз в диапазоне от 1 до 100, чтобы узнать ее скорость\n",
    "    count_ls = []\n",
    "    np.random.seed(1)  # фиксация random seed для воспроизводимости.\n",
    "    random_array = np.random.randint(1,101, size=(5000))\n",
    "    \n",
    "    for number in random_array:\n",
    "        count_ls.append(guess_the_number(number))\n",
    "    speed = int(np.mean(count_ls))\n",
    "    print(\"Ваш алгоритм угадывает число в среднем за {speed} попыток\")\n",
    "    \n",
    "    return(speed)\n",
    "\n",
    "game_speed(guess_the_number)"
   ]
  },
  {
   "cell_type": "code",
   "execution_count": null,
   "metadata": {},
   "outputs": [],
   "source": []
  }
 ],
 "metadata": {
  "kernelspec": {
   "display_name": "Python 3",
   "language": "python",
   "name": "python3"
  },
  "language_info": {
   "codemirror_mode": {
    "name": "ipython",
    "version": 3
   },
   "file_extension": ".py",
   "mimetype": "text/x-python",
   "name": "python",
   "nbconvert_exporter": "python",
   "pygments_lexer": "ipython3",
   "version": "3.7.6"
  }
 },
 "nbformat": 4,
 "nbformat_minor": 4
}
